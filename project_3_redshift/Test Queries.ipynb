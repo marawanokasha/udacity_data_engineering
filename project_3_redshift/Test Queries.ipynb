{
 "cells": [
  {
   "cell_type": "code",
   "execution_count": 1,
   "metadata": {
    "editable": true
   },
   "outputs": [],
   "source": [
    "import configparser\n",
    "import boto3"
   ]
  },
  {
   "cell_type": "code",
   "execution_count": 2,
   "metadata": {
    "editable": true
   },
   "outputs": [],
   "source": [
    "import logging\n",
    "logging.basicConfig(format='[ %(asctime)s ] %(filename)s(%(lineno)d) %(levelname)s - %(message)s', level=logging.INFO)"
   ]
  },
  {
   "cell_type": "code",
   "execution_count": 14,
   "metadata": {
    "editable": true
   },
   "outputs": [],
   "source": [
    "logger = logging.getLogger()"
   ]
  },
  {
   "cell_type": "code",
   "execution_count": 3,
   "metadata": {
    "editable": true
   },
   "outputs": [],
   "source": [
    "%load_ext autoreload\n",
    "%autoreload 2"
   ]
  },
  {
   "cell_type": "code",
   "execution_count": 5,
   "metadata": {
    "editable": true
   },
   "outputs": [],
   "source": [
    "import configparser"
   ]
  },
  {
   "cell_type": "code",
   "execution_count": 6,
   "metadata": {
    "editable": true
   },
   "outputs": [],
   "source": [
    "config = configparser.ConfigParser()"
   ]
  },
  {
   "cell_type": "code",
   "execution_count": 4,
   "metadata": {
    "editable": true
   },
   "outputs": [
    {
     "data": {
      "text/plain": [
       "['aws.cfg']"
      ]
     },
     "execution_count": 4,
     "metadata": {},
     "output_type": "execute_result"
    }
   ],
   "source": [
    "config.read('aws.cfg')"
   ]
  },
  {
   "cell_type": "code",
   "execution_count": 6,
   "metadata": {
    "editable": true
   },
   "outputs": [],
   "source": [
    "KEY=config.get('AWS','key')\n",
    "SECRET= config.get('AWS','secret')\n",
    "REGION = 'us-west-2'"
   ]
  },
  {
   "cell_type": "code",
   "execution_count": 22,
   "metadata": {
    "editable": true
   },
   "outputs": [],
   "source": [
    "s3 = boto3.resource('s3',\n",
    "    aws_access_key_id=KEY,\n",
    "    aws_secret_access_key=SECRET)"
   ]
  },
  {
   "cell_type": "code",
   "execution_count": 23,
   "metadata": {
    "editable": true
   },
   "outputs": [],
   "source": [
    "bucket = s3.Bucket('udacity-dend')"
   ]
  },
  {
   "cell_type": "code",
   "execution_count": 25,
   "metadata": {
    "editable": true
   },
   "outputs": [],
   "source": [
    "bucket.download_file('log_json_path.json', 'log_data_path.json')"
   ]
  },
  {
   "cell_type": "code",
   "execution_count": 8,
   "metadata": {
    "editable": true
   },
   "outputs": [],
   "source": [
    "iam = boto3.resource(\n",
    "    'iam',\n",
    "    aws_access_key_id=KEY,\n",
    "    aws_secret_access_key=SECRET\n",
    ")"
   ]
  },
  {
   "cell_type": "code",
   "execution_count": 10,
   "metadata": {
    "editable": true
   },
   "outputs": [
    {
     "data": {
      "text/plain": [
       "boto3.resources.factory.iam.ServiceResource"
      ]
     },
     "execution_count": 10,
     "metadata": {},
     "output_type": "execute_result"
    }
   ],
   "source": [
    "type(iam)"
   ]
  },
  {
   "cell_type": "code",
   "execution_count": 47,
   "metadata": {
    "editable": true
   },
   "outputs": [
    {
     "data": {
      "text/plain": [
       "[iam.Policy(arn='arn:aws:iam::aws:policy/AmazonS3ReadOnlyAccess')]"
      ]
     },
     "execution_count": 47,
     "metadata": {},
     "output_type": "execute_result"
    }
   ],
   "source": [
    "for policy in d.attached_policies"
   ]
  },
  {
   "cell_type": "code",
   "execution_count": 16,
   "metadata": {
    "editable": true
   },
   "outputs": [],
   "source": [
    "from create_infra import *"
   ]
  },
  {
   "cell_type": "code",
   "execution_count": 8,
   "metadata": {
    "editable": true
   },
   "outputs": [],
   "source": [
    "aws_config = configparser.ConfigParser()\n",
    "aws_config.read('aws.cfg')\n",
    "KEY=aws_config.get('AWS','key')\n",
    "SECRET= aws_config.get('AWS','secret')\n",
    "\n",
    "dwh_config = configparser.ConfigParser()\n",
    "dwh_config.read('dwh.cfg')\n",
    "DWH_ROLE_NAME = dwh_config.get(\"IAM_ROLE\", \"ROLE_NAME\")\n",
    "\n",
    "REGION                 = dwh_config.get(\"CLUSTER_CONFIG\", \"REGION\")\n",
    "DWH_CLUSTER_TYPE       = dwh_config.get(\"CLUSTER_CONFIG\",\"DWH_CLUSTER_TYPE\")\n",
    "DWH_NUM_NODES          = dwh_config.get(\"CLUSTER_CONFIG\",\"DWH_NUM_NODES\")\n",
    "DWH_NODE_TYPE          = dwh_config.get(\"CLUSTER_CONFIG\",\"DWH_NODE_TYPE\")\n",
    "DWH_CLUSTER_IDENTIFIER = dwh_config.get(\"CLUSTER_CONFIG\",\"DWH_CLUSTER_IDENTIFIER\")\n",
    "\n",
    "DWH_DB                 = dwh_config.get(\"CLUSTER\",\"DB_NAME\")\n",
    "DWH_DB_USER            = dwh_config.get(\"CLUSTER\",\"DB_USER\")\n",
    "DWH_DB_PASSWORD        = dwh_config.get(\"CLUSTER\",\"DB_PASSWORD\")\n",
    "DWH_PORT               = dwh_config.get(\"CLUSTER\",\"DB_PORT\")\n",
    "\n",
    "iam = boto3.resource(\n",
    "    'iam',\n",
    "    aws_access_key_id=KEY,\n",
    "    aws_secret_access_key=SECRET\n",
    ")\n",
    "redshift = boto3.client(\n",
    "    'redshift', \n",
    "    REGION,\n",
    "    aws_access_key_id=KEY,\n",
    "    aws_secret_access_key=SECRET\n",
    ")"
   ]
  },
  {
   "cell_type": "code",
   "execution_count": 20,
   "metadata": {
    "editable": true
   },
   "outputs": [
    {
     "name": "stderr",
     "output_type": "stream",
     "text": [
      "[ 2020-05-24 13:13:54,289 ] <ipython-input-20-6e042e1629b1>(6) INFO - Role sparkify_dwh_role already exists\n",
      "[ 2020-05-24 13:13:54,293 ] aws_iac.py(32) INFO - Deleting the role sparkify_dwh_role and its attached policies\n",
      "[ 2020-05-24 13:13:54,491 ] aws_iac.py(46) INFO - Creating Role sparkify_dwh_role with arn:aws:iam::aws:policy/AmazonS3ReadOnlyAccess policy\n"
     ]
    }
   ],
   "source": [
    "\n",
    "# roles are lightweight objects to create/destroy, so if the role \n",
    "# already exists, delete it and recreate it to make sure that the policies\n",
    "# are correct\n",
    "if iam_role_exists(iam, DWH_ROLE_NAME):\n",
    "    logger.info(f\"Role {DWH_ROLE_NAME} already exists\")\n",
    "    delete_iam_role(iam, DWH_ROLE_NAME)\n",
    "else:\n",
    "    logger.info(f\"Role {DWH_ROLE_NAME} doesn't exist\")\n",
    "role_arn = create_iam_role(\n",
    "    iam, DWH_ROLE_NAME,\n",
    "    \"redshift.amazonaws.com\", \n",
    "    'arn:aws:iam::aws:policy/AmazonS3ReadOnlyAccess'\n",
    ")\n"
   ]
  },
  {
   "cell_type": "code",
   "execution_count": 24,
   "metadata": {
    "editable": true
   },
   "outputs": [],
   "source": [
    "from aws_iac import *"
   ]
  },
  {
   "cell_type": "code",
   "execution_count": 23,
   "metadata": {
    "editable": true
   },
   "outputs": [
    {
     "name": "stderr",
     "output_type": "stream",
     "text": [
      "[ 2020-05-24 13:19:45,059 ] <ipython-input-23-dae729aa38ef>(6) INFO - Redshift Cluster sparkify-dwh-cluster already exists, using that one\n"
     ]
    }
   ],
   "source": [
    "\n",
    "# Redshift clusters are not that fast to create and we don't want to lose\n",
    "# whatever data we have in an existing cluster, so if a cluster exists, \n",
    "# we'll just use that\n",
    "if redshift_cluster_exists(redshift, DWH_CLUSTER_IDENTIFIER):\n",
    "    logger.info(f\"Redshift Cluster {DWH_CLUSTER_IDENTIFIER} already exists, using that one\")\n",
    "    redshift_host = get_redshift_cluster_endpoint(redshift, DWH_CLUSTER_IDENTIFIER)\n",
    "else:\n",
    "    redshift_host = create_redshift_cluster(\n",
    "        redshift, role_arn,\n",
    "        DWH_CLUSTER_TYPE, DWH_NODE_TYPE,\n",
    "        int(DWH_NUM_NODES),\n",
    "        DWH_CLUSTER_IDENTIFIER, \n",
    "        DWH_DB, int(DWH_PORT),\n",
    "        DWH_DB_USER, DWH_DB_PASSWORD\n",
    "    )\n"
   ]
  },
  {
   "cell_type": "code",
   "execution_count": 26,
   "metadata": {
    "editable": true
   },
   "outputs": [
    {
     "name": "stderr",
     "output_type": "stream",
     "text": [
      "[ 2020-05-24 13:21:42,379 ] aws_iac.py(133) INFO - Deleting the redshift cluster sparkify-dwh-cluster\n",
      "[ 2020-05-24 13:21:42,733 ] aws_iac.py(138) INFO - Waiting for the cluster to be deleted....\n",
      "[ 2020-05-24 13:24:44,102 ] aws_iac.py(143) INFO - Cluster deleted successfully\n"
     ]
    }
   ],
   "source": [
    "delete_redshift_cluster(redshift, DWH_CLUSTER_IDENTIFIER)"
   ]
  },
  {
   "cell_type": "code",
   "execution_count": null,
   "metadata": {
    "editable": true
   },
   "outputs": [],
   "source": [
    "redshift.describe_clusters"
   ]
  },
  {
   "cell_type": "code",
   "execution_count": 24,
   "metadata": {
    "editable": true
   },
   "outputs": [],
   "source": [
    "role = iam.Role('dwhRole')"
   ]
  },
  {
   "cell_type": "code",
   "execution_count": 21,
   "metadata": {
    "editable": true
   },
   "outputs": [
    {
     "data": {
      "text/plain": [
       "{'AttachedPolicies': [{'PolicyName': 'AmazonS3ReadOnlyAccess',\n",
       "   'PolicyArn': 'arn:aws:iam::aws:policy/AmazonS3ReadOnlyAccess'}],\n",
       " 'IsTruncated': False,\n",
       " 'ResponseMetadata': {'RequestId': '72f58b04-4e39-4738-94c0-59185fe94102',\n",
       "  'HTTPStatusCode': 200,\n",
       "  'HTTPHeaders': {'x-amzn-requestid': '72f58b04-4e39-4738-94c0-59185fe94102',\n",
       "   'content-type': 'text/xml',\n",
       "   'content-length': '548',\n",
       "   'date': 'Sun, 24 May 2020 10:52:10 GMT'},\n",
       "  'RetryAttempts': 0}}"
      ]
     },
     "execution_count": 21,
     "metadata": {},
     "output_type": "execute_result"
    }
   ],
   "source": [
    "iam.list_attached_role_policies(RoleName='dwhRole')"
   ]
  },
  {
   "cell_type": "code",
   "execution_count": 19,
   "metadata": {
    "editable": true
   },
   "outputs": [
    {
     "data": {
      "text/plain": [
       "{'Role': {'Path': '/',\n",
       "  'RoleName': 'dwhRole',\n",
       "  'RoleId': 'AROATGEAZHAIQ4VXBZ5Z6',\n",
       "  'Arn': 'arn:aws:iam::219313420305:role/dwhRole',\n",
       "  'CreateDate': datetime.datetime(2020, 5, 10, 10, 39, 1, tzinfo=tzlocal()),\n",
       "  'AssumeRolePolicyDocument': {'Version': '2012-10-17',\n",
       "   'Statement': [{'Effect': 'Allow',\n",
       "     'Principal': {'Service': 'redshift.amazonaws.com'},\n",
       "     'Action': 'sts:AssumeRole'}]},\n",
       "  'MaxSessionDuration': 3600},\n",
       " 'ResponseMetadata': {'RequestId': 'f0b38272-c8f2-49b9-b55a-65c54809b694',\n",
       "  'HTTPStatusCode': 200,\n",
       "  'HTTPHeaders': {'x-amzn-requestid': 'f0b38272-c8f2-49b9-b55a-65c54809b694',\n",
       "   'content-type': 'text/xml',\n",
       "   'content-length': '919',\n",
       "   'date': 'Sun, 24 May 2020 10:47:34 GMT'},\n",
       "  'RetryAttempts': 0}}"
      ]
     },
     "execution_count": 19,
     "metadata": {},
     "output_type": "execute_result"
    }
   ],
   "source": [
    "iam"
   ]
  },
  {
   "cell_type": "code",
   "execution_count": 31,
   "metadata": {
    "editable": true
   },
   "outputs": [],
   "source": [
    "all_p = d.policies.all()"
   ]
  },
  {
   "cell_type": "code",
   "execution_count": 38,
   "metadata": {
    "editable": true
   },
   "outputs": [],
   "source": [
    "for p in d.policies.all():\n",
    "    print('lskdfjs')"
   ]
  },
  {
   "cell_type": "code",
   "execution_count": 7,
   "metadata": {
    "editable": true
   },
   "outputs": [],
   "source": [
    "\n",
    "redshift = boto3.client(\n",
    "    'redshift', \n",
    "    REGION,\n",
    "    aws_access_key_id=KEY,\n",
    "    aws_secret_access_key=SECRET\n",
    ")"
   ]
  }
 ],
 "metadata": {
  "kernelspec": {
   "display_name": "Python 3",
   "language": "python",
   "name": "python3"
  },
  "language_info": {
   "codemirror_mode": {
    "name": "ipython",
    "version": 3
   },
   "file_extension": ".py",
   "mimetype": "text/x-python",
   "name": "python",
   "nbconvert_exporter": "python",
   "pygments_lexer": "ipython3",
   "version": "3.6.3"
  }
 },
 "nbformat": 4,
 "nbformat_minor": 4
}
