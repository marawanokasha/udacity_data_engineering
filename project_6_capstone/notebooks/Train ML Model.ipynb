{
 "cells": [
  {
   "cell_type": "code",
   "execution_count": 1,
   "metadata": {
    "ExecuteTime": {
     "end_time": "2020-10-03T20:48:17.607280Z",
     "start_time": "2020-10-03T20:48:17.147231Z"
    }
   },
   "outputs": [],
   "source": [
    "import os\n",
    "import numpy as np\n",
    "import pandas as pd"
   ]
  },
  {
   "cell_type": "code",
   "execution_count": 2,
   "metadata": {
    "ExecuteTime": {
     "end_time": "2020-10-03T20:48:18.186301Z",
     "start_time": "2020-10-03T20:48:18.182256Z"
    }
   },
   "outputs": [],
   "source": [
    "STAGING_BUCKET_URL = \"s3://udacity-capstone-staging-data\""
   ]
  },
  {
   "cell_type": "code",
   "execution_count": 4,
   "metadata": {
    "ExecuteTime": {
     "end_time": "2020-10-03T20:55:58.101735Z",
     "start_time": "2020-10-03T20:48:20.512657Z"
    }
   },
   "outputs": [],
   "source": [
    "pandas_df = pd.read_parquet(\"{}/{}\".format(STAGING_BUCKET_URL, \"ml_data\"))"
   ]
  },
  {
   "cell_type": "code",
   "execution_count": 5,
   "metadata": {
    "ExecuteTime": {
     "end_time": "2020-10-03T21:56:23.555017Z",
     "start_time": "2020-10-03T21:56:22.308938Z"
    }
   },
   "outputs": [],
   "source": [
    "from sklearn.pipeline import Pipeline\n",
    "from sklearn.impute import SimpleImputer\n",
    "from sklearn.preprocessing import StandardScaler, OneHotEncoder, FunctionTransformer\n",
    "from sklearn.feature_extraction import DictVectorizer\n",
    "from sklearn.model_selection import GridSearchCV\n",
    "from sklearn.ensemble import RandomForestClassifier\n",
    "from sklearn.compose import ColumnTransformer"
   ]
  },
  {
   "cell_type": "code",
   "execution_count": 6,
   "metadata": {
    "ExecuteTime": {
     "end_time": "2020-10-03T21:57:56.075277Z",
     "start_time": "2020-10-03T21:56:25.640771Z"
    }
   },
   "outputs": [],
   "source": [
    "numeric_features = [\n",
    "    'country_citizenship_gdp', \n",
    "    'country_residence_gdp',\n",
    "    'num_previous_stays'\n",
    "]\n",
    "categorical_features = [\n",
    "    'country_citizenship', \n",
    "    'country_residence', \n",
    "    'gender',\n",
    "    'visa_type', \n",
    "    'destination_state'\n",
    "]\n",
    "\n",
    "ordinal_features = [\n",
    "    'age', \n",
    "    'month'\n",
    "]\n",
    "\n",
    "all_features = numeric_features + categorical_features + ordinal_features\n",
    "\n",
    "\n",
    "preprocessing_pipeline = ColumnTransformer([\n",
    "    (\n",
    "        \"numerical_features\",\n",
    "        Pipeline(steps=[\n",
    "             # most of the countries that don't have a GDP are small countries, so 0 is a more logical choice\n",
    "            ('imp', SimpleImputer(strategy='constant', fill_value=0)),\n",
    "            ('sts', StandardScaler()),\n",
    "        ]),\n",
    "        numeric_features\n",
    "    ),\n",
    "    (\n",
    "        \"ordinal_features\",\n",
    "        Pipeline(steps=[\n",
    "            ('imp', SimpleImputer(strategy='constant', fill_value=0)),\n",
    "        ]),\n",
    "        ordinal_features\n",
    "    ),\n",
    "    (\n",
    "        \"categorical_features\",\n",
    "        Pipeline(steps=[\n",
    "            # we use missing_values=None because that's the representation we get when reading from parquet, not np.nan\n",
    "            ('imp', SimpleImputer(strategy='constant', fill_value='MISSING', missing_values=None)),\n",
    "            ('one_hot_encoder', OneHotEncoder(sparse=True, dtype=int)),\n",
    "        ]),\n",
    "        categorical_features\n",
    "    )\n",
    "])\n",
    "\n",
    "TARGET_COLUMN = 'is_overstay'\n",
    "X = preprocessing_pipeline.fit_transform(pandas_df[all_features])\n",
    "Y = pandas_df[TARGET_COLUMN].values"
   ]
  },
  {
   "cell_type": "code",
   "execution_count": 7,
   "metadata": {
    "ExecuteTime": {
     "end_time": "2020-10-03T21:50:04.902051Z",
     "start_time": "2020-10-03T21:50:03.387698Z"
    }
   },
   "outputs": [
    {
     "data": {
      "text/plain": [
       "<35743097x1244 sparse matrix of type '<class 'numpy.float64'>'\n",
       "\twith 357392378 stored elements in Compressed Sparse Row format>"
      ]
     },
     "execution_count": 7,
     "metadata": {},
     "output_type": "execute_result"
    }
   ],
   "source": [
    "X"
   ]
  },
  {
   "cell_type": "code",
   "execution_count": null,
   "metadata": {
    "ExecuteTime": {
     "end_time": "2020-10-03T22:27:56.364865Z",
     "start_time": "2020-10-03T22:27:35.944541Z"
    }
   },
   "outputs": [
    {
     "name": "stdout",
     "output_type": "stream",
     "text": [
      "Fitting 5 folds for each of 2 candidates, totalling 10 fits\n"
     ]
    },
    {
     "name": "stderr",
     "output_type": "stream",
     "text": [
      "[Parallel(n_jobs=1)]: Using backend SequentialBackend with 1 concurrent workers.\n"
     ]
    },
    {
     "name": "stdout",
     "output_type": "stream",
     "text": [
      "[CV] criterion=gini, max_depth=50, max_features=sqrt, min_samples_leaf=100, n_estimators=10 \n",
      "[CV]  criterion=gini, max_depth=50, max_features=sqrt, min_samples_leaf=100, n_estimators=10, total=24.7min\n",
      "[CV] criterion=gini, max_depth=50, max_features=sqrt, min_samples_leaf=100, n_estimators=10 \n"
     ]
    },
    {
     "name": "stderr",
     "output_type": "stream",
     "text": [
      "[Parallel(n_jobs=1)]: Done   1 out of   1 | elapsed: 24.7min remaining:    0.0s\n"
     ]
    }
   ],
   "source": [
    "param_grid = {\n",
    "    \"n_estimators\"     : [10],\n",
    "    \"max_depth\": [20],\n",
    "    \"max_features\"     : [\"sqrt\"],\n",
    "    #\"min_samples_split\": [2, 3, 10],\n",
    "    \"min_samples_leaf\" : [100],\n",
    "    #\"bootstrap\"        : [True, False],\n",
    "    \"criterion\"        : [\"gini\"],\n",
    "    #\"class_weight\"        : [\"balanced\", None],\n",
    "}\n",
    "\n",
    "clf = RandomForestClassifier(n_jobs=2)\n",
    "gs = GridSearchCV(clf, param_grid=param_grid, n_jobs=2, scoring='roc_auc', verbose=2)\n",
    "gs.fit(X, Y)\n"
   ]
  },
  {
   "cell_type": "code",
   "execution_count": null,
   "metadata": {},
   "outputs": [],
   "source": []
  }
 ],
 "metadata": {
  "kernelspec": {
   "display_name": "Python 3",
   "language": "python",
   "name": "python3"
  },
  "language_info": {
   "codemirror_mode": {
    "name": "ipython",
    "version": 3
   },
   "file_extension": ".py",
   "mimetype": "text/x-python",
   "name": "python",
   "nbconvert_exporter": "python",
   "pygments_lexer": "ipython3",
   "version": "3.8.5"
  }
 },
 "nbformat": 4,
 "nbformat_minor": 4
}
