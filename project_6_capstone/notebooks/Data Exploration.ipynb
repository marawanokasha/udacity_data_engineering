{
 "cells": [
  {
   "cell_type": "code",
   "execution_count": 4,
   "metadata": {
    "ExecuteTime": {
     "end_time": "2020-08-30T21:06:03.933084Z",
     "start_time": "2020-08-30T21:06:03.498060Z"
    }
   },
   "outputs": [
    {
     "data": {
      "text/html": [
       "Current session configs: <tt>{'conf': {'spark.driver.memory': '4G', 'spark.jars.packages': 'saurfang:spark-sas7bdat:2.1.0-s_2.11', 'spark.driver.extraJavaOptions': '-Dlog4jspark.root.logger=WARN,console'}, 'kind': 'pyspark'}</tt><br>"
      ],
      "text/plain": [
       "<IPython.core.display.HTML object>"
      ]
     },
     "metadata": {},
     "output_type": "display_data"
    },
    {
     "data": {
      "text/html": [
       "No active sessions."
      ],
      "text/plain": [
       "<IPython.core.display.HTML object>"
      ]
     },
     "metadata": {},
     "output_type": "display_data"
    }
   ],
   "source": [
    "%%configure\n",
    "{ \n",
    "    \"conf\": {\n",
    "        \"spark.driver.memory\": \"4G\",\n",
    "        \"spark.jars.packages\": \"saurfang:spark-sas7bdat:2.1.0-s_2.11\", \n",
    "        \"spark.driver.extraJavaOptions\" : \"-Dlog4jspark.root.logger=WARN,console\" \n",
    "  }\n",
    "}"
   ]
  },
  {
   "cell_type": "code",
   "execution_count": 5,
   "metadata": {
    "ExecuteTime": {
     "end_time": "2020-08-30T21:06:30.503260Z",
     "start_time": "2020-08-30T21:06:04.082071Z"
    }
   },
   "outputs": [
    {
     "name": "stdout",
     "output_type": "stream",
     "text": [
      "Starting Spark application\n"
     ]
    },
    {
     "data": {
      "text/html": [
       "<table>\n",
       "<tr><th>ID</th><th>YARN Application ID</th><th>Kind</th><th>State</th><th>Spark UI</th><th>Driver log</th><th>Current session?</th></tr><tr><td>4</td><td>application_1598776925981_0005</td><td>pyspark</td><td>idle</td><td><a target=\"_blank\" href=\"http://ip-10-0-1-199.us-west-2.compute.internal:20888/proxy/application_1598776925981_0005/\">Link</a></td><td><a target=\"_blank\" href=\"http://ip-10-0-1-200.us-west-2.compute.internal:8042/node/containerlogs/container_1598776925981_0005_01_000001/livy\">Link</a></td><td>✔</td></tr></table>"
      ],
      "text/plain": [
       "<IPython.core.display.HTML object>"
      ]
     },
     "metadata": {},
     "output_type": "display_data"
    },
    {
     "data": {
      "application/vnd.jupyter.widget-view+json": {
       "model_id": "",
       "version_major": 2,
       "version_minor": 0
      },
      "text/plain": [
       "FloatProgress(value=0.0, bar_style='info', description='Progress:', layout=Layout(height='25px', width='50%'),…"
      ]
     },
     "metadata": {},
     "output_type": "display_data"
    },
    {
     "name": "stdout",
     "output_type": "stream",
     "text": [
      "SparkSession available as 'spark'.\n"
     ]
    },
    {
     "data": {
      "application/vnd.jupyter.widget-view+json": {
       "model_id": "",
       "version_major": 2,
       "version_minor": 0
      },
      "text/plain": [
       "FloatProgress(value=0.0, bar_style='info', description='Progress:', layout=Layout(height='25px', width='50%'),…"
      ]
     },
     "metadata": {},
     "output_type": "display_data"
    }
   ],
   "source": [
    "from urllib.parse import urlparse\n",
    "import boto3\n",
    "import logging\n",
    "import datetime\n",
    "import pandas as pd\n",
    "\n",
    "from IPython.display import display, HTML\n",
    "from pyspark.sql import functions as F\n",
    "from pyspark.sql.functions import udf\n",
    "from pyspark.sql import Window\n",
    "from pyspark.sql.types import ArrayType, MapType, StringType, DateType, IntegerType, BooleanType, FloatType, LongType"
   ]
  },
  {
   "cell_type": "code",
   "execution_count": 6,
   "metadata": {
    "ExecuteTime": {
     "end_time": "2020-08-30T21:06:31.764648Z",
     "start_time": "2020-08-30T21:06:30.508259Z"
    }
   },
   "outputs": [
    {
     "data": {
      "application/vnd.jupyter.widget-view+json": {
       "model_id": "",
       "version_major": 2,
       "version_minor": 0
      },
      "text/plain": [
       "FloatProgress(value=0.0, bar_style='info', description='Progress:', layout=Layout(height='25px', width='50%'),…"
      ]
     },
     "metadata": {},
     "output_type": "display_data"
    }
   ],
   "source": [
    "pd.set_option(\"max_columns\", 100)\n",
    "pd.set_option('display.max_rows', 200)\n",
    "pd.options.display.float_format = '{:20.2f}'.format"
   ]
  },
  {
   "cell_type": "code",
   "execution_count": 7,
   "metadata": {
    "ExecuteTime": {
     "end_time": "2020-08-30T21:06:32.848042Z",
     "start_time": "2020-08-30T21:06:31.771599Z"
    }
   },
   "outputs": [
    {
     "data": {
      "application/vnd.jupyter.widget-view+json": {
       "model_id": "",
       "version_major": 2,
       "version_minor": 0
      },
      "text/plain": [
       "FloatProgress(value=0.0, bar_style='info', description='Progress:', layout=Layout(height='25px', width='50%'),…"
      ]
     },
     "metadata": {},
     "output_type": "display_data"
    }
   ],
   "source": [
    "# %%local\n",
    "# import pandas as pd\n",
    "# pd.set_option(\"max_columns\", 100)\n",
    "# pd.set_option('display.max_rows', 100)\n",
    "# pd.options.display.float_format = '{:20.2f}'.format"
   ]
  },
  {
   "cell_type": "code",
   "execution_count": 8,
   "metadata": {
    "ExecuteTime": {
     "end_time": "2020-08-30T21:06:33.949289Z",
     "start_time": "2020-08-30T21:06:32.851038Z"
    }
   },
   "outputs": [
    {
     "data": {
      "application/vnd.jupyter.widget-view+json": {
       "model_id": "",
       "version_major": 2,
       "version_minor": 0
      },
      "text/plain": [
       "FloatProgress(value=0.0, bar_style='info', description='Progress:', layout=Layout(height='25px', width='50%'),…"
      ]
     },
     "metadata": {},
     "output_type": "display_data"
    }
   ],
   "source": [
    "# from pyspark.sql import SparkSession\n",
    "# spark = SparkSession \\\n",
    "#     .builder\\\n",
    "#     .appName(\"test-packages\") \\\n",
    "#     .config(\"spark.jars.packages\", \"org.apache.hadoop:hadoop-aws:2.7.0,saurfang:spark-sas7bdat:2.1.0-s_2.11\")\\\n",
    "#     .getOrCreate()"
   ]
  },
  {
   "cell_type": "code",
   "execution_count": 9,
   "metadata": {
    "ExecuteTime": {
     "end_time": "2020-08-30T21:06:35.242123Z",
     "start_time": "2020-08-30T21:06:33.951332Z"
    }
   },
   "outputs": [
    {
     "data": {
      "application/vnd.jupyter.widget-view+json": {
       "model_id": "",
       "version_major": 2,
       "version_minor": 0
      },
      "text/plain": [
       "FloatProgress(value=0.0, bar_style='info', description='Progress:', layout=Layout(height='25px', width='50%'),…"
      ]
     },
     "metadata": {},
     "output_type": "display_data"
    }
   ],
   "source": [
    "BUCKET_URL = \"s3://udacity-capstone-raw-data\"\n",
    "DATA_PATH = f\"{BUCKET_URL}/i94-data\""
   ]
  },
  {
   "cell_type": "code",
   "execution_count": 10,
   "metadata": {
    "ExecuteTime": {
     "end_time": "2020-08-30T21:06:36.539233Z",
     "start_time": "2020-08-30T21:06:35.244118Z"
    }
   },
   "outputs": [
    {
     "data": {
      "application/vnd.jupyter.widget-view+json": {
       "model_id": "",
       "version_major": 2,
       "version_minor": 0
      },
      "text/plain": [
       "FloatProgress(value=0.0, bar_style='info', description='Progress:', layout=Layout(height='25px', width='50%'),…"
      ]
     },
     "metadata": {},
     "output_type": "display_data"
    }
   ],
   "source": [
    "SAS_FORMAT_READER = \"com.github.saurfang.sas.spark\"\n",
    "\n",
    "def read_sas_data(spark, path: str, columns_to_read=None):\n",
    "\n",
    "    url_components = urlparse(path)\n",
    "\n",
    "    if url_components.scheme == 's3':\n",
    "        s3_client = boto3.client('s3')\n",
    "        s3_resource = boto3.resource('s3')\n",
    "\n",
    "        s3_objects = s3_client.list_objects(Bucket=url_components.netloc, Prefix=url_components.path.lstrip(\"/\"))\n",
    "\n",
    "        df = None\n",
    "        for key in s3_objects['Contents']:\n",
    "            file_key = key['Key']\n",
    "            print(\"Reading File: {}\".format(file_key))\n",
    "            logging.warning(\"Reading File: {}\".format(file_key))\n",
    "            file_df = (\n",
    "                spark.read\n",
    "                .format(SAS_FORMAT_READER)\n",
    "                .load(\"s3://{}/{}\".format(url_components.netloc, file_key))\n",
    "            )\n",
    "            if columns_to_read:\n",
    "                file_df = file_df.select(VALID_COLUMNS)\n",
    "            if df:\n",
    "                df = df.union(file_df)\n",
    "            else:\n",
    "                df = file_df\n",
    "    else:\n",
    "        df = (\n",
    "            spark.read\n",
    "            .format(SAS_FORMAT_READER)\n",
    "            .load(\"s3://{}/{}\".format(url_components.netloc, file_key))\n",
    "        )\n",
    "        if columns_to_read:\n",
    "            df.select(columns_to_read)\n",
    "\n",
    "    return df"
   ]
  },
  {
   "cell_type": "markdown",
   "metadata": {
    "heading_collapsed": true
   },
   "source": [
    "# Try to read all data files"
   ]
  },
  {
   "cell_type": "code",
   "execution_count": 114,
   "metadata": {
    "ExecuteTime": {
     "end_time": "2020-08-22T17:50:08.881262Z",
     "start_time": "2020-08-22T17:50:06.324519Z"
    },
    "hidden": true,
    "scrolled": true
   },
   "outputs": [
    {
     "data": {
      "application/vnd.jupyter.widget-view+json": {
       "model_id": "",
       "version_major": 2,
       "version_minor": 0
      },
      "text/plain": [
       "FloatProgress(value=0.0, bar_style='info', description='Progress:', layout=Layout(height='25px', width='50%'),…"
      ]
     },
     "metadata": {},
     "output_type": "display_data"
    },
    {
     "name": "stderr",
     "output_type": "stream",
     "text": [
      "An error was encountered:\n",
      "\"Union can only be performed on tables with the same number of columns, but the first table has 28 columns and the 6th table has 34 columns;;\\n'Union\\n:- Relation[cicid#3502,i94yr#3503,i94mon#3504,i94cit#3505,i94res#3506,i94port#3507,arrdate#3508,i94mode#3509,i94addr#3510,depdate#3511,i94bir#3512,i94visa#3513,count#3514,dtadfile#3515,visapost#3516,occup#3517,entdepa#3518,entdepd#3519,entdepu#3520,matflag#3521,biryear#3522,dtaddto#3523,gender#3524,insnum#3525,... 4 more fields] SasRelation(s3://udacity-capstone-raw-data/i94-data/i94_apr16_sub.sas7bdat,null,false,false,false,None,false,false,false,false,60,None,None)\\n:- Relation[cicid#3558,i94yr#3559,i94mon#3560,i94cit#3561,i94res#3562,i94port#3563,arrdate#3564,i94mode#3565,i94addr#3566,depdate#3567,i94bir#3568,i94visa#3569,count#3570,dtadfile#3571,visapost#3572,occup#3573,entdepa#3574,entdepd#3575,entdepu#3576,matflag#3577,biryear#3578,dtaddto#3579,gender#3580,insnum#3581,... 4 more fields] SasRelation(s3://udacity-capstone-raw-data/i94-data/i94_aug16_sub.sas7bdat,null,false,false,false,None,false,false,false,false,60,None,None)\\n:- Relation[cicid#3642,i94yr#3643,i94mon#3644,i94cit#3645,i94res#3646,i94port#3647,arrdate#3648,i94mode#3649,i94addr#3650,depdate#3651,i94bir#3652,i94visa#3653,count#3654,dtadfile#3655,visapost#3656,occup#3657,entdepa#3658,entdepd#3659,entdepu#3660,matflag#3661,biryear#3662,dtaddto#3663,gender#3664,insnum#3665,... 4 more fields] SasRelation(s3://udacity-capstone-raw-data/i94-data/i94_dec16_sub.sas7bdat,null,false,false,false,None,false,false,false,false,60,None,None)\\n:- Relation[cicid#3726,i94yr#3727,i94mon#3728,i94cit#3729,i94res#3730,i94port#3731,arrdate#3732,i94mode#3733,i94addr#3734,depdate#3735,i94bir#3736,i94visa#3737,count#3738,dtadfile#3739,visapost#3740,occup#3741,entdepa#3742,entdepd#3743,entdepu#3744,matflag#3745,biryear#3746,dtaddto#3747,gender#3748,insnum#3749,... 4 more fields] SasRelation(s3://udacity-capstone-raw-data/i94-data/i94_feb16_sub.sas7bdat,null,false,false,false,None,false,false,false,false,60,None,None)\\n:- Relation[cicid#3810,i94yr#3811,i94mon#3812,i94cit#3813,i94res#3814,i94port#3815,arrdate#3816,i94mode#3817,i94addr#3818,depdate#3819,i94bir#3820,i94visa#3821,count#3822,dtadfile#3823,visapost#3824,occup#3825,entdepa#3826,entdepd#3827,entdepu#3828,matflag#3829,biryear#3830,dtaddto#3831,gender#3832,insnum#3833,... 4 more fields] SasRelation(s3://udacity-capstone-raw-data/i94-data/i94_jan16_sub.sas7bdat,null,false,false,false,None,false,false,false,false,60,None,None)\\n:- Relation[cicid#3894,i94yr#3895,i94mon#3896,i94cit#3897,i94res#3898,i94port#3899,arrdate#3900,i94mode#3901,i94addr#3902,depdate#3903,i94bir#3904,i94visa#3905,count#3906,dtadfile#3907,visapost#3908,occup#3909,entdepa#3910,entdepd#3911,entdepu#3912,matflag#3913,biryear#3914,dtaddto#3915,gender#3916,insnum#3917,... 4 more fields] SasRelation(s3://udacity-capstone-raw-data/i94-data/i94_jul16_sub.sas7bdat,null,false,false,false,None,false,false,false,false,60,None,None)\\n+- Relation[cicid#3978,i94yr#3979,i94mon#3980,i94cit#3981,i94res#3982,i94port#3983,arrdate#3984,i94mode#3985,i94addr#3986,depdate#3987,i94bir#3988,i94visa#3989,count#3990,validres#3991,delete_days#3992,delete_mexl#3993,delete_dup#3994,delete_visa#3995,delete_recdup#3996,dtadfile#3997,visapost#3998,occup#3999,entdepa#4000,entdepd#4001,... 10 more fields] SasRelation(s3://udacity-capstone-raw-data/i94-data/i94_jun16_sub.sas7bdat,null,false,false,false,None,false,false,false,false,60,None,None)\\n\"\n",
      "Traceback (most recent call last):\n",
      "  File \"<stdin>\", line 24, in read_sas_data\n",
      "  File \"/usr/lib/spark/python/lib/pyspark.zip/pyspark/sql/dataframe.py\", line 1463, in union\n",
      "    return DataFrame(self._jdf.union(other._jdf), self.sql_ctx)\n",
      "  File \"/usr/lib/spark/python/lib/py4j-0.10.7-src.zip/py4j/java_gateway.py\", line 1257, in __call__\n",
      "    answer, self.gateway_client, self.target_id, self.name)\n",
      "  File \"/usr/lib/spark/python/lib/pyspark.zip/pyspark/sql/utils.py\", line 69, in deco\n",
      "    raise AnalysisException(s.split(': ', 1)[1], stackTrace)\n",
      "pyspark.sql.utils.AnalysisException: \"Union can only be performed on tables with the same number of columns, but the first table has 28 columns and the 6th table has 34 columns;;\\n'Union\\n:- Relation[cicid#3502,i94yr#3503,i94mon#3504,i94cit#3505,i94res#3506,i94port#3507,arrdate#3508,i94mode#3509,i94addr#3510,depdate#3511,i94bir#3512,i94visa#3513,count#3514,dtadfile#3515,visapost#3516,occup#3517,entdepa#3518,entdepd#3519,entdepu#3520,matflag#3521,biryear#3522,dtaddto#3523,gender#3524,insnum#3525,... 4 more fields] SasRelation(s3://udacity-capstone-raw-data/i94-data/i94_apr16_sub.sas7bdat,null,false,false,false,None,false,false,false,false,60,None,None)\\n:- Relation[cicid#3558,i94yr#3559,i94mon#3560,i94cit#3561,i94res#3562,i94port#3563,arrdate#3564,i94mode#3565,i94addr#3566,depdate#3567,i94bir#3568,i94visa#3569,count#3570,dtadfile#3571,visapost#3572,occup#3573,entdepa#3574,entdepd#3575,entdepu#3576,matflag#3577,biryear#3578,dtaddto#3579,gender#3580,insnum#3581,... 4 more fields] SasRelation(s3://udacity-capstone-raw-data/i94-data/i94_aug16_sub.sas7bdat,null,false,false,false,None,false,false,false,false,60,None,None)\\n:- Relation[cicid#3642,i94yr#3643,i94mon#3644,i94cit#3645,i94res#3646,i94port#3647,arrdate#3648,i94mode#3649,i94addr#3650,depdate#3651,i94bir#3652,i94visa#3653,count#3654,dtadfile#3655,visapost#3656,occup#3657,entdepa#3658,entdepd#3659,entdepu#3660,matflag#3661,biryear#3662,dtaddto#3663,gender#3664,insnum#3665,... 4 more fields] SasRelation(s3://udacity-capstone-raw-data/i94-data/i94_dec16_sub.sas7bdat,null,false,false,false,None,false,false,false,false,60,None,None)\\n:- Relation[cicid#3726,i94yr#3727,i94mon#3728,i94cit#3729,i94res#3730,i94port#3731,arrdate#3732,i94mode#3733,i94addr#3734,depdate#3735,i94bir#3736,i94visa#3737,count#3738,dtadfile#3739,visapost#3740,occup#3741,entdepa#3742,entdepd#3743,entdepu#3744,matflag#3745,biryear#3746,dtaddto#3747,gender#3748,insnum#3749,... 4 more fields] SasRelation(s3://udacity-capstone-raw-data/i94-data/i94_feb16_sub.sas7bdat,null,false,false,false,None,false,false,false,false,60,None,None)\\n:- Relation[cicid#3810,i94yr#3811,i94mon#3812,i94cit#3813,i94res#3814,i94port#3815,arrdate#3816,i94mode#3817,i94addr#3818,depdate#3819,i94bir#3820,i94visa#3821,count#3822,dtadfile#3823,visapost#3824,occup#3825,entdepa#3826,entdepd#3827,entdepu#3828,matflag#3829,biryear#3830,dtaddto#3831,gender#3832,insnum#3833,... 4 more fields] SasRelation(s3://udacity-capstone-raw-data/i94-data/i94_jan16_sub.sas7bdat,null,false,false,false,None,false,false,false,false,60,None,None)\\n:- Relation[cicid#3894,i94yr#3895,i94mon#3896,i94cit#3897,i94res#3898,i94port#3899,arrdate#3900,i94mode#3901,i94addr#3902,depdate#3903,i94bir#3904,i94visa#3905,count#3906,dtadfile#3907,visapost#3908,occup#3909,entdepa#3910,entdepd#3911,entdepu#3912,matflag#3913,biryear#3914,dtaddto#3915,gender#3916,insnum#3917,... 4 more fields] SasRelation(s3://udacity-capstone-raw-data/i94-data/i94_jul16_sub.sas7bdat,null,false,false,false,None,false,false,false,false,60,None,None)\\n+- Relation[cicid#3978,i94yr#3979,i94mon#3980,i94cit#3981,i94res#3982,i94port#3983,arrdate#3984,i94mode#3985,i94addr#3986,depdate#3987,i94bir#3988,i94visa#3989,count#3990,validres#3991,delete_days#3992,delete_mexl#3993,delete_dup#3994,delete_visa#3995,delete_recdup#3996,dtadfile#3997,visapost#3998,occup#3999,entdepa#4000,entdepd#4001,... 10 more fields] SasRelation(s3://udacity-capstone-raw-data/i94-data/i94_jun16_sub.sas7bdat,null,false,false,false,None,false,false,false,false,60,None,None)\\n\"\n",
      "\n"
     ]
    }
   ],
   "source": [
    "read_sas_data(spark, DATA_PATH)"
   ]
  },
  {
   "cell_type": "markdown",
   "metadata": {
    "hidden": true
   },
   "source": [
    "One of the files has more columns than the other ones, need to check if these columns matter"
   ]
  },
  {
   "cell_type": "code",
   "execution_count": 115,
   "metadata": {
    "ExecuteTime": {
     "end_time": "2020-08-22T17:51:03.347581Z",
     "start_time": "2020-08-22T17:51:01.899810Z"
    },
    "hidden": true
   },
   "outputs": [
    {
     "data": {
      "application/vnd.jupyter.widget-view+json": {
       "model_id": "",
       "version_major": 2,
       "version_minor": 0
      },
      "text/plain": [
       "FloatProgress(value=0.0, bar_style='info', description='Progress:', layout=Layout(height='25px', width='50%'),…"
      ]
     },
     "metadata": {},
     "output_type": "display_data"
    }
   ],
   "source": [
    "regular_df = (\n",
    "    spark.read\n",
    "        .format(SAS_FORMAT_READER)\n",
    "        .load(\"{}/i94_apr16_sub.sas7bdat\".format(DATA_PATH))\n",
    ")"
   ]
  },
  {
   "cell_type": "code",
   "execution_count": 116,
   "metadata": {
    "ExecuteTime": {
     "end_time": "2020-08-22T17:51:04.586857Z",
     "start_time": "2020-08-22T17:51:03.349408Z"
    },
    "hidden": true
   },
   "outputs": [
    {
     "data": {
      "application/vnd.jupyter.widget-view+json": {
       "model_id": "",
       "version_major": 2,
       "version_minor": 0
      },
      "text/plain": [
       "FloatProgress(value=0.0, bar_style='info', description='Progress:', layout=Layout(height='25px', width='50%'),…"
      ]
     },
     "metadata": {},
     "output_type": "display_data"
    }
   ],
   "source": [
    "exception_df = (\n",
    "    spark.read\n",
    "        .format(SAS_FORMAT_READER)\n",
    "        .load(\"{}/i94_jun16_sub.sas7bdat\".format(DATA_PATH))\n",
    ")"
   ]
  },
  {
   "cell_type": "code",
   "execution_count": 117,
   "metadata": {
    "ExecuteTime": {
     "end_time": "2020-08-22T17:51:05.628891Z",
     "start_time": "2020-08-22T17:51:04.588855Z"
    },
    "hidden": true
   },
   "outputs": [
    {
     "data": {
      "application/vnd.jupyter.widget-view+json": {
       "model_id": "",
       "version_major": 2,
       "version_minor": 0
      },
      "text/plain": [
       "FloatProgress(value=0.0, bar_style='info', description='Progress:', layout=Layout(height='25px', width='50%'),…"
      ]
     },
     "metadata": {},
     "output_type": "display_data"
    },
    {
     "name": "stdout",
     "output_type": "stream",
     "text": [
      "['cicid', 'i94yr', 'i94mon', 'i94cit', 'i94res', 'i94port', 'arrdate', 'i94mode', 'i94addr', 'depdate', 'i94bir', 'i94visa', 'count', 'dtadfile', 'visapost', 'occup', 'entdepa', 'entdepd', 'entdepu', 'matflag', 'biryear', 'dtaddto', 'gender', 'insnum', 'airline', 'admnum', 'fltno', 'visatype']"
     ]
    }
   ],
   "source": [
    "regular_df.columns"
   ]
  },
  {
   "cell_type": "code",
   "execution_count": 118,
   "metadata": {
    "ExecuteTime": {
     "end_time": "2020-08-22T17:51:06.669695Z",
     "start_time": "2020-08-22T17:51:05.629883Z"
    },
    "hidden": true
   },
   "outputs": [
    {
     "data": {
      "application/vnd.jupyter.widget-view+json": {
       "model_id": "",
       "version_major": 2,
       "version_minor": 0
      },
      "text/plain": [
       "FloatProgress(value=0.0, bar_style='info', description='Progress:', layout=Layout(height='25px', width='50%'),…"
      ]
     },
     "metadata": {},
     "output_type": "display_data"
    },
    {
     "name": "stdout",
     "output_type": "stream",
     "text": [
      "['cicid', 'i94yr', 'i94mon', 'i94cit', 'i94res', 'i94port', 'arrdate', 'i94mode', 'i94addr', 'depdate', 'i94bir', 'i94visa', 'count', 'validres', 'delete_days', 'delete_mexl', 'delete_dup', 'delete_visa', 'delete_recdup', 'dtadfile', 'visapost', 'occup', 'entdepa', 'entdepd', 'entdepu', 'matflag', 'biryear', 'dtaddto', 'gender', 'insnum', 'airline', 'admnum', 'fltno', 'visatype']"
     ]
    }
   ],
   "source": [
    "exception_df.columns"
   ]
  },
  {
   "cell_type": "code",
   "execution_count": 88,
   "metadata": {
    "ExecuteTime": {
     "end_time": "2020-08-22T17:24:26.885880Z",
     "start_time": "2020-08-22T17:24:25.845682Z"
    },
    "hidden": true
   },
   "outputs": [
    {
     "data": {
      "application/vnd.jupyter.widget-view+json": {
       "model_id": "",
       "version_major": 2,
       "version_minor": 0
      },
      "text/plain": [
       "FloatProgress(value=0.0, bar_style='info', description='Progress:', layout=Layout(height='25px', width='50%'),…"
      ]
     },
     "metadata": {},
     "output_type": "display_data"
    }
   ],
   "source": [
    "diff_columns = set(exception_df.columns).difference(regular_df.columns)"
   ]
  },
  {
   "cell_type": "code",
   "execution_count": 90,
   "metadata": {
    "ExecuteTime": {
     "end_time": "2020-08-22T17:25:39.255572Z",
     "start_time": "2020-08-22T17:25:37.570357Z"
    },
    "hidden": true
   },
   "outputs": [
    {
     "data": {
      "application/vnd.jupyter.widget-view+json": {
       "model_id": "",
       "version_major": 2,
       "version_minor": 0
      },
      "text/plain": [
       "FloatProgress(value=0.0, bar_style='info', description='Progress:', layout=Layout(height='25px', width='50%'),…"
      ]
     },
     "metadata": {},
     "output_type": "display_data"
    }
   ],
   "source": [
    "from pyspark.sql import functions as F"
   ]
  },
  {
   "cell_type": "code",
   "execution_count": 94,
   "metadata": {
    "ExecuteTime": {
     "end_time": "2020-08-22T17:29:00.431402Z",
     "start_time": "2020-08-22T17:27:32.570659Z"
    },
    "hidden": true
   },
   "outputs": [
    {
     "data": {
      "application/vnd.jupyter.widget-view+json": {
       "model_id": "",
       "version_major": 2,
       "version_minor": 0
      },
      "text/plain": [
       "FloatProgress(value=0.0, bar_style='info', description='Progress:', layout=Layout(height='25px', width='50%'),…"
      ]
     },
     "metadata": {},
     "output_type": "display_data"
    },
    {
     "name": "stdout",
     "output_type": "stream",
     "text": [
      "+-------------+-------+\n",
      "|delete_recdup|  count|\n",
      "+-------------+-------+\n",
      "|          0.0|3574989|\n",
      "+-------------+-------+\n",
      "\n",
      "None\n",
      "+-----------+-------+\n",
      "|delete_mexl|  count|\n",
      "+-----------+-------+\n",
      "|        0.0|3574989|\n",
      "+-----------+-------+\n",
      "\n",
      "None\n",
      "+-----------+-------+\n",
      "|delete_visa|  count|\n",
      "+-----------+-------+\n",
      "|        0.0|3574989|\n",
      "+-----------+-------+\n",
      "\n",
      "None\n",
      "+--------+-------+\n",
      "|validres|  count|\n",
      "+--------+-------+\n",
      "|     1.0|3574989|\n",
      "+--------+-------+\n",
      "\n",
      "None\n",
      "+----------+-------+\n",
      "|delete_dup|  count|\n",
      "+----------+-------+\n",
      "|       0.0|3574989|\n",
      "+----------+-------+\n",
      "\n",
      "None\n",
      "+-----------+-------+\n",
      "|delete_days|  count|\n",
      "+-----------+-------+\n",
      "|        0.0|3574989|\n",
      "+-----------+-------+\n",
      "\n",
      "None"
     ]
    }
   ],
   "source": [
    "for col in diff_columns:\n",
    "    print(exception_df.groupBy(col).count().show())"
   ]
  },
  {
   "cell_type": "markdown",
   "metadata": {},
   "source": [
    "# Read the full data after removing invalid columns"
   ]
  },
  {
   "cell_type": "code",
   "execution_count": 11,
   "metadata": {
    "ExecuteTime": {
     "end_time": "2020-08-30T21:06:37.827574Z",
     "start_time": "2020-08-30T21:06:36.541268Z"
    }
   },
   "outputs": [
    {
     "data": {
      "application/vnd.jupyter.widget-view+json": {
       "model_id": "",
       "version_major": 2,
       "version_minor": 0
      },
      "text/plain": [
       "FloatProgress(value=0.0, bar_style='info', description='Progress:', layout=Layout(height='25px', width='50%'),…"
      ]
     },
     "metadata": {},
     "output_type": "display_data"
    }
   ],
   "source": [
    "VALID_COLUMNS = [\n",
    "    'cicid', 'i94yr', 'i94mon', 'i94cit', 'i94res', 'i94port', 'arrdate', 'i94mode', 'i94addr', 'depdate',\n",
    "    'i94bir', 'i94visa', 'count', 'dtadfile',\n",
    "    'visapost', 'occup', 'entdepa', 'entdepd', 'entdepu', 'matflag', 'biryear',\n",
    "    'dtaddto', 'gender', 'insnum', 'airline', 'admnum', 'fltno', 'visatype'\n",
    "]"
   ]
  },
  {
   "cell_type": "code",
   "execution_count": 12,
   "metadata": {
    "ExecuteTime": {
     "end_time": "2020-08-30T21:06:46.063118Z",
     "start_time": "2020-08-30T21:06:37.831572Z"
    }
   },
   "outputs": [
    {
     "data": {
      "application/vnd.jupyter.widget-view+json": {
       "model_id": "",
       "version_major": 2,
       "version_minor": 0
      },
      "text/plain": [
       "FloatProgress(value=0.0, bar_style='info', description='Progress:', layout=Layout(height='25px', width='50%'),…"
      ]
     },
     "metadata": {},
     "output_type": "display_data"
    },
    {
     "name": "stdout",
     "output_type": "stream",
     "text": [
      "Reading File: i94-data/i94_apr16_sub.sas7bdat\n",
      "Reading File: i94-data/i94_aug16_sub.sas7bdat\n",
      "Reading File: i94-data/i94_dec16_sub.sas7bdat\n",
      "Reading File: i94-data/i94_feb16_sub.sas7bdat\n",
      "Reading File: i94-data/i94_jan16_sub.sas7bdat\n",
      "Reading File: i94-data/i94_jul16_sub.sas7bdat\n",
      "Reading File: i94-data/i94_jun16_sub.sas7bdat\n",
      "Reading File: i94-data/i94_mar16_sub.sas7bdat\n",
      "Reading File: i94-data/i94_may16_sub.sas7bdat\n",
      "Reading File: i94-data/i94_nov16_sub.sas7bdat\n",
      "Reading File: i94-data/i94_oct16_sub.sas7bdat\n",
      "Reading File: i94-data/i94_sep16_sub.sas7bdat"
     ]
    }
   ],
   "source": [
    "df = read_sas_data(spark, DATA_PATH, VALID_COLUMNS)"
   ]
  },
  {
   "cell_type": "code",
   "execution_count": 24,
   "metadata": {
    "ExecuteTime": {
     "end_time": "2020-08-23T23:34:00.802100Z",
     "start_time": "2020-08-23T23:30:53.284500Z"
    }
   },
   "outputs": [
    {
     "data": {
      "application/vnd.jupyter.widget-view+json": {
       "model_id": "",
       "version_major": 2,
       "version_minor": 0
      },
      "text/plain": [
       "FloatProgress(value=0.0, bar_style='info', description='Progress:', layout=Layout(height='25px', width='50%'),…"
      ]
     },
     "metadata": {},
     "output_type": "display_data"
    },
    {
     "name": "stdout",
     "output_type": "stream",
     "text": [
      "40790529"
     ]
    }
   ],
   "source": [
    "df.count()"
   ]
  },
  {
   "cell_type": "code",
   "execution_count": 11,
   "metadata": {
    "ExecuteTime": {
     "end_time": "2020-08-30T10:27:57.764648Z",
     "start_time": "2020-08-30T10:24:51.884143Z"
    }
   },
   "outputs": [
    {
     "data": {
      "application/vnd.jupyter.widget-view+json": {
       "model_id": "",
       "version_major": 2,
       "version_minor": 0
      },
      "text/plain": [
       "FloatProgress(value=0.0, bar_style='info', description='Progress:', layout=Layout(height='25px', width='50%'),…"
      ]
     },
     "metadata": {},
     "output_type": "display_data"
    },
    {
     "data": {
      "application/vnd.jupyter.widget-view+json": {
       "model_id": "",
       "version_major": 2,
       "version_minor": 0
      },
      "text/plain": [
       "FloatProgress(value=0.0, bar_style='info', description='Progress:', layout=Layout(height='25px', width='50%'),…"
      ]
     },
     "metadata": {},
     "output_type": "display_data"
    }
   ],
   "source": [
    "%%spark -o df_sample\n",
    "df_sample = df.sample(0.00001).orderBy(F.rand()).limit(100)"
   ]
  },
  {
   "cell_type": "code",
   "execution_count": 12,
   "metadata": {
    "ExecuteTime": {
     "end_time": "2020-08-30T10:27:58.249646Z",
     "start_time": "2020-08-30T10:27:57.766611Z"
    }
   },
   "outputs": [
    {
     "data": {
      "application/vnd.jupyter.widget-view+json": {
       "model_id": "bee5213cd8854f0b9605659650f8ced0",
       "version_major": 2,
       "version_minor": 0
      },
      "text/plain": [
       "VBox(children=(HBox(children=(HTML(value='Type:'), Button(description='Table', layout=Layout(width='70px'), st…"
      ]
     },
     "metadata": {},
     "output_type": "display_data"
    },
    {
     "data": {
      "application/vnd.jupyter.widget-view+json": {
       "model_id": "1ee7ec5f865240c79259e1c6996e9573",
       "version_major": 2,
       "version_minor": 0
      },
      "text/plain": [
       "Output()"
      ]
     },
     "metadata": {},
     "output_type": "display_data"
    }
   ],
   "source": [
    "%%local\n",
    "df_sample"
   ]
  },
  {
   "cell_type": "markdown",
   "metadata": {},
   "source": [
    "# Exploration"
   ]
  },
  {
   "cell_type": "markdown",
   "metadata": {
    "heading_collapsed": true
   },
   "source": [
    "## Source and Destination"
   ]
  },
  {
   "cell_type": "markdown",
   "metadata": {
    "hidden": true
   },
   "source": [
    "### i94port"
   ]
  },
  {
   "cell_type": "code",
   "execution_count": 152,
   "metadata": {
    "ExecuteTime": {
     "end_time": "2020-08-29T21:57:00.503109Z",
     "start_time": "2020-08-29T21:56:59.076710Z"
    },
    "hidden": true
   },
   "outputs": [
    {
     "data": {
      "application/vnd.jupyter.widget-view+json": {
       "model_id": "",
       "version_major": 2,
       "version_minor": 0
      },
      "text/plain": [
       "FloatProgress(value=0.0, bar_style='info', description='Progress:', layout=Layout(height='25px', width='50%'),…"
      ]
     },
     "metadata": {},
     "output_type": "display_data"
    }
   ],
   "source": [
    "column = \"i94port\""
   ]
  },
  {
   "cell_type": "code",
   "execution_count": 153,
   "metadata": {
    "ExecuteTime": {
     "end_time": "2020-08-29T21:57:06.674937Z",
     "start_time": "2020-08-29T21:57:00.508105Z"
    },
    "hidden": true
   },
   "outputs": [
    {
     "data": {
      "application/vnd.jupyter.widget-view+json": {
       "model_id": "",
       "version_major": 2,
       "version_minor": 0
      },
      "text/plain": [
       "FloatProgress(value=0.0, bar_style='info', description='Progress:', layout=Layout(height='25px', width='50%'),…"
      ]
     },
     "metadata": {},
     "output_type": "display_data"
    },
    {
     "data": {
      "application/vnd.jupyter.widget-view+json": {
       "model_id": "",
       "version_major": 2,
       "version_minor": 0
      },
      "text/plain": [
       "FloatProgress(value=0.0, bar_style='info', description='Progress:', layout=Layout(height='25px', width='50%'),…"
      ]
     },
     "metadata": {},
     "output_type": "display_data"
    }
   ],
   "source": [
    "%%spark -o column_df\n",
    "column_df = df.groupBy(column).agg(F.count(\"*\").alias(\"count\")).orderBy(F.desc(\"count\"))"
   ]
  },
  {
   "cell_type": "code",
   "execution_count": 154,
   "metadata": {
    "ExecuteTime": {
     "end_time": "2020-08-29T21:57:06.842635Z",
     "start_time": "2020-08-29T21:57:06.676885Z"
    },
    "hidden": true,
    "scrolled": true
   },
   "outputs": [
    {
     "data": {
      "application/vnd.jupyter.widget-view+json": {
       "model_id": "1c3d3d471ecd4dd2aaaa28d9e863a87b",
       "version_major": 2,
       "version_minor": 0
      },
      "text/plain": [
       "VBox(children=(HBox(children=(HTML(value='Type:'), Button(description='Table', layout=Layout(width='70px'), st…"
      ]
     },
     "metadata": {},
     "output_type": "display_data"
    },
    {
     "data": {
      "application/vnd.jupyter.widget-view+json": {
       "model_id": "98f02c6f3bab426591dc8418f382e142",
       "version_major": 2,
       "version_minor": 0
      },
      "text/plain": [
       "Output()"
      ]
     },
     "metadata": {},
     "output_type": "display_data"
    }
   ],
   "source": [
    "%%local\n",
    "column_df"
   ]
  },
  {
   "cell_type": "markdown",
   "metadata": {
    "hidden": true
   },
   "source": [
    "#### let's take a look at some of the non-US ports of entry, because that doesn't make sense"
   ]
  },
  {
   "cell_type": "code",
   "execution_count": 163,
   "metadata": {
    "ExecuteTime": {
     "end_time": "2020-08-29T22:03:16.087893Z",
     "start_time": "2020-08-29T22:03:15.038556Z"
    },
    "hidden": true
   },
   "outputs": [
    {
     "data": {
      "application/vnd.jupyter.widget-view+json": {
       "model_id": "",
       "version_major": 2,
       "version_minor": 0
      },
      "text/plain": [
       "FloatProgress(value=0.0, bar_style='info', description='Progress:', layout=Layout(height='25px', width='50%'),…"
      ]
     },
     "metadata": {},
     "output_type": "display_data"
    },
    {
     "name": "stdout",
     "output_type": "stream",
     "text": [
      "+-----+------+------+------+------+-------+-------+-------+-------+-------+------+-------+-----+--------+--------+-----+-------+-------+-------+-------+-------+--------+------+------+-------+---------------+-----+--------+\n",
      "|cicid| i94yr|i94mon|i94cit|i94res|i94port|arrdate|i94mode|i94addr|depdate|i94bir|i94visa|count|dtadfile|visapost|occup|entdepa|entdepd|entdepu|matflag|biryear| dtaddto|gender|insnum|airline|         admnum|fltno|visatype|\n",
      "+-----+------+------+------+------+-------+-------+-------+-------+-------+------+-------+-----+--------+--------+-----+-------+-------+-------+-------+-------+--------+------+------+-------+---------------+-----+--------+\n",
      "|594.0|2016.0|   4.0| 103.0| 103.0|    NAS|20545.0|    1.0|     FL|20547.0|  27.0|    2.0|  1.0|20160401|    null| null|      G|      N|   null|      M| 1989.0|06292016|     M|  null|     UP|5.5406109033E10|00221|      WT|\n",
      "|595.0|2016.0|   4.0| 103.0| 103.0|    NAS|20545.0|    1.0|     FL|20547.0|  26.0|    2.0|  1.0|20160401|    null| null|      G|      N|   null|      M| 1990.0|06292016|     M|  null|     UP|5.5406110033E10|00221|      WT|\n",
      "|596.0|2016.0|   4.0| 103.0| 103.0|    NAS|20545.0|    1.0|     FL|20547.0|  24.0|    2.0|  1.0|20160401|    null| null|      G|      N|   null|      M| 1992.0|06292016|     M|  null|     UP|5.5406105433E10|00221|      WT|\n",
      "|597.0|2016.0|   4.0| 103.0| 103.0|    NAS|20545.0|    1.0|     FL|20547.0|  26.0|    2.0|  1.0|20160401|    null| null|      O|      N|   null|      M| 1990.0|06292016|  null|  null|     UP|5.5406056933E10|00221|      WT|\n",
      "|598.0|2016.0|   4.0| 103.0| 103.0|    NAS|20545.0|    1.0|     FL|20547.0|  26.0|    2.0|  1.0|20160401|    null| null|      O|      N|   null|      M| 1990.0|06292016|  null|  null|     UP|5.5406064133E10|00221|      WT|\n",
      "+-----+------+------+------+------+-------+-------+-------+-------+-------+------+-------+-----+--------+--------+-----+-------+-------+-------+-------+-------+--------+------+------+-------+---------------+-----+--------+\n",
      "only showing top 5 rows"
     ]
    }
   ],
   "source": [
    "df[df.i94port.isin(['NAS'])].show(5)"
   ]
  },
  {
   "cell_type": "code",
   "execution_count": 171,
   "metadata": {
    "ExecuteTime": {
     "end_time": "2020-08-29T22:40:53.439451Z",
     "start_time": "2020-08-29T22:40:51.915164Z"
    },
    "hidden": true
   },
   "outputs": [
    {
     "data": {
      "application/vnd.jupyter.widget-view+json": {
       "model_id": "",
       "version_major": 2,
       "version_minor": 0
      },
      "text/plain": [
       "FloatProgress(value=0.0, bar_style='info', description='Progress:', layout=Layout(height='25px', width='50%'),…"
      ]
     },
     "metadata": {},
     "output_type": "display_data"
    },
    {
     "name": "stdout",
     "output_type": "stream",
     "text": [
      "+-------+------+------+------+------+-------+-------+-------+-------+-------+------+-------+-----+--------+--------+-----+-------+-------+-------+-------+-------+--------+------+------+-------+---------------+-----+--------+\n",
      "|  cicid| i94yr|i94mon|i94cit|i94res|i94port|arrdate|i94mode|i94addr|depdate|i94bir|i94visa|count|dtadfile|visapost|occup|entdepa|entdepd|entdepu|matflag|biryear| dtaddto|gender|insnum|airline|         admnum|fltno|visatype|\n",
      "+-------+------+------+------+------+-------+-------+-------+-------+-------+------+-------+-----+--------+--------+-----+-------+-------+-------+-------+-------+--------+------+------+-------+---------------+-----+--------+\n",
      "|  700.0|2016.0|   4.0| 103.0| 296.0|    MAA|20545.0|    1.0|     CA|20562.0|  36.0|    2.0|  1.0|20160401|     BMB| null|      G|      O|   null|      M| 1980.0|10012016|     F|  null|     EY| 9.249307933E10|00183|      B2|\n",
      "| 8732.0|2016.0|   4.0| 111.0| 111.0|    MAA|20545.0|    1.0|     IA|20565.0|  28.0|    2.0|  1.0|20160401|    null| null|      G|      N|   null|      M| 1988.0|06292016|     F|  null|     EY|5.5404986133E10|00131|      WT|\n",
      "|16498.0|2016.0|   4.0| 117.0| 296.0|    MAA|20545.0|    1.0|     CA|20554.0|  38.0|    2.0|  1.0|20160401|     ABD| null|      G|      O|   null|      M| 1978.0|10012016|     F|  null|     EY| 9.248807163E10|00183|      B2|\n",
      "|20406.0|2016.0|   4.0| 126.0| 296.0|    MAA|20545.0|    1.0|     DC|20550.0|  59.0|    2.0|  1.0|20160401|    null| null|      G|      O|   null|      M| 1957.0|06292016|     M|  null|     EY|5.5405056833E10|00131|      WT|\n",
      "|20407.0|2016.0|   4.0| 126.0| 296.0|    MAA|20545.0|    1.0|     US|20558.0|  58.0|    2.0|  1.0|20160401|    null| null|      G|      I|   null|      M| 1958.0|06292016|     F|  null|     EY|5.5405051233E10|00131|      WT|\n",
      "+-------+------+------+------+------+-------+-------+-------+-------+-------+------+-------+-----+--------+--------+-----+-------+-------+-------+-------+-------+--------+------+------+-------+---------------+-----+--------+\n",
      "only showing top 5 rows"
     ]
    }
   ],
   "source": [
    "df[df.i94port.isin(['SNO', 'SLP', 'GRU', 'LGW', 'LGW', 'PTY', 'LGW', 'ZZZ', 'MAA'])].show(5)"
   ]
  },
  {
   "cell_type": "code",
   "execution_count": 172,
   "metadata": {
    "ExecuteTime": {
     "end_time": "2020-08-29T22:47:44.818029Z",
     "start_time": "2020-08-29T22:47:42.005283Z"
    },
    "hidden": true
   },
   "outputs": [
    {
     "data": {
      "application/vnd.jupyter.widget-view+json": {
       "model_id": "",
       "version_major": 2,
       "version_minor": 0
      },
      "text/plain": [
       "FloatProgress(value=0.0, bar_style='info', description='Progress:', layout=Layout(height='25px', width='50%'),…"
      ]
     },
     "metadata": {},
     "output_type": "display_data"
    },
    {
     "name": "stdout",
     "output_type": "stream",
     "text": [
      "23441"
     ]
    }
   ],
   "source": [
    "df[df.i94port.isin(['MAA'])].count()"
   ]
  },
  {
   "cell_type": "markdown",
   "metadata": {
    "hidden": true
   },
   "source": [
    "### i94addr"
   ]
  },
  {
   "cell_type": "code",
   "execution_count": 164,
   "metadata": {
    "ExecuteTime": {
     "end_time": "2020-08-29T22:06:09.041813Z",
     "start_time": "2020-08-29T22:06:07.617463Z"
    },
    "hidden": true
   },
   "outputs": [
    {
     "data": {
      "application/vnd.jupyter.widget-view+json": {
       "model_id": "",
       "version_major": 2,
       "version_minor": 0
      },
      "text/plain": [
       "FloatProgress(value=0.0, bar_style='info', description='Progress:', layout=Layout(height='25px', width='50%'),…"
      ]
     },
     "metadata": {},
     "output_type": "display_data"
    }
   ],
   "source": [
    "column = \"i94addr\""
   ]
  },
  {
   "cell_type": "code",
   "execution_count": 165,
   "metadata": {
    "ExecuteTime": {
     "end_time": "2020-08-29T22:06:15.180843Z",
     "start_time": "2020-08-29T22:06:09.045389Z"
    },
    "hidden": true
   },
   "outputs": [
    {
     "data": {
      "application/vnd.jupyter.widget-view+json": {
       "model_id": "",
       "version_major": 2,
       "version_minor": 0
      },
      "text/plain": [
       "FloatProgress(value=0.0, bar_style='info', description='Progress:', layout=Layout(height='25px', width='50%'),…"
      ]
     },
     "metadata": {},
     "output_type": "display_data"
    },
    {
     "data": {
      "application/vnd.jupyter.widget-view+json": {
       "model_id": "",
       "version_major": 2,
       "version_minor": 0
      },
      "text/plain": [
       "FloatProgress(value=0.0, bar_style='info', description='Progress:', layout=Layout(height='25px', width='50%'),…"
      ]
     },
     "metadata": {},
     "output_type": "display_data"
    }
   ],
   "source": [
    "%%spark -o column_df\n",
    "column_df = df.groupBy(column).agg(F.count(\"*\").alias(\"count\")).orderBy(F.desc(\"count\"))"
   ]
  },
  {
   "cell_type": "code",
   "execution_count": 166,
   "metadata": {
    "ExecuteTime": {
     "end_time": "2020-08-29T22:06:15.347789Z",
     "start_time": "2020-08-29T22:06:15.182790Z"
    },
    "hidden": true,
    "scrolled": true
   },
   "outputs": [
    {
     "data": {
      "application/vnd.jupyter.widget-view+json": {
       "model_id": "070a2ce750944b01a3f1604ec877b061",
       "version_major": 2,
       "version_minor": 0
      },
      "text/plain": [
       "VBox(children=(HBox(children=(HTML(value='Type:'), Button(description='Table', layout=Layout(width='70px'), st…"
      ]
     },
     "metadata": {},
     "output_type": "display_data"
    },
    {
     "data": {
      "application/vnd.jupyter.widget-view+json": {
       "model_id": "2c04ee60f6c94851b127127d36c282c1",
       "version_major": 2,
       "version_minor": 0
      },
      "text/plain": [
       "Output()"
      ]
     },
     "metadata": {},
     "output_type": "display_data"
    }
   ],
   "source": [
    "%%local\n",
    "column_df"
   ]
  },
  {
   "cell_type": "code",
   "execution_count": 169,
   "metadata": {
    "ExecuteTime": {
     "end_time": "2020-08-29T22:07:56.337686Z",
     "start_time": "2020-08-29T22:07:52.953242Z"
    },
    "hidden": true
   },
   "outputs": [
    {
     "data": {
      "application/vnd.jupyter.widget-view+json": {
       "model_id": "",
       "version_major": 2,
       "version_minor": 0
      },
      "text/plain": [
       "FloatProgress(value=0.0, bar_style='info', description='Progress:', layout=Layout(height='25px', width='50%'),…"
      ]
     },
     "metadata": {},
     "output_type": "display_data"
    },
    {
     "data": {
      "application/vnd.jupyter.widget-view+json": {
       "model_id": "",
       "version_major": 2,
       "version_minor": 0
      },
      "text/plain": [
       "FloatProgress(value=0.0, bar_style='info', description='Progress:', layout=Layout(height='25px', width='50%'),…"
      ]
     },
     "metadata": {},
     "output_type": "display_data"
    }
   ],
   "source": [
    "%%spark -o null_value_df\n",
    "null_value_df = df.withColumn(\"is_null\", F.isnull(column)).groupBy(\"is_null\").agg(F.count(\"is_null\").alias(\"count\")).orderBy(F.desc(\"count\"))"
   ]
  },
  {
   "cell_type": "code",
   "execution_count": 170,
   "metadata": {
    "ExecuteTime": {
     "end_time": "2020-08-29T22:07:56.946652Z",
     "start_time": "2020-08-29T22:07:56.339706Z"
    },
    "hidden": true,
    "scrolled": true
   },
   "outputs": [
    {
     "data": {
      "application/vnd.jupyter.widget-view+json": {
       "model_id": "80bd4b250d234b41a84129e259b8c915",
       "version_major": 2,
       "version_minor": 0
      },
      "text/plain": [
       "VBox(children=(HBox(children=(HTML(value='Type:'), Button(description='Table', layout=Layout(width='70px'), st…"
      ]
     },
     "metadata": {},
     "output_type": "display_data"
    },
    {
     "data": {
      "application/vnd.jupyter.widget-view+json": {
       "model_id": "7c0940d2801f41e08cdf8910074144eb",
       "version_major": 2,
       "version_minor": 0
      },
      "text/plain": [
       "Output()"
      ]
     },
     "metadata": {},
     "output_type": "display_data"
    }
   ],
   "source": [
    "%%local\n",
    "null_value_df"
   ]
  },
  {
   "cell_type": "code",
   "execution_count": null,
   "metadata": {
    "hidden": true
   },
   "outputs": [],
   "source": []
  },
  {
   "cell_type": "markdown",
   "metadata": {
    "hidden": true
   },
   "source": [
    "### i94cit\n",
    "Citizenship"
   ]
  },
  {
   "cell_type": "code",
   "execution_count": 28,
   "metadata": {
    "ExecuteTime": {
     "end_time": "2020-08-29T19:00:03.874482Z",
     "start_time": "2020-08-29T19:00:02.375698Z"
    },
    "hidden": true
   },
   "outputs": [
    {
     "data": {
      "application/vnd.jupyter.widget-view+json": {
       "model_id": "",
       "version_major": 2,
       "version_minor": 0
      },
      "text/plain": [
       "FloatProgress(value=0.0, bar_style='info', description='Progress:', layout=Layout(height='25px', width='50%'),…"
      ]
     },
     "metadata": {},
     "output_type": "display_data"
    }
   ],
   "source": [
    "column = \"i94cit\""
   ]
  },
  {
   "cell_type": "code",
   "execution_count": 29,
   "metadata": {
    "ExecuteTime": {
     "end_time": "2020-08-29T19:00:11.496634Z",
     "start_time": "2020-08-29T19:00:03.881485Z"
    },
    "hidden": true
   },
   "outputs": [
    {
     "data": {
      "application/vnd.jupyter.widget-view+json": {
       "model_id": "",
       "version_major": 2,
       "version_minor": 0
      },
      "text/plain": [
       "FloatProgress(value=0.0, bar_style='info', description='Progress:', layout=Layout(height='25px', width='50%'),…"
      ]
     },
     "metadata": {},
     "output_type": "display_data"
    },
    {
     "data": {
      "application/vnd.jupyter.widget-view+json": {
       "model_id": "",
       "version_major": 2,
       "version_minor": 0
      },
      "text/plain": [
       "FloatProgress(value=0.0, bar_style='info', description='Progress:', layout=Layout(height='25px', width='50%'),…"
      ]
     },
     "metadata": {},
     "output_type": "display_data"
    }
   ],
   "source": [
    "%%spark -o column_df\n",
    "column_df = df.groupBy(column).agg(F.count(column).alias(\"count\")).orderBy(F.desc(\"count\"))"
   ]
  },
  {
   "cell_type": "code",
   "execution_count": 30,
   "metadata": {
    "ExecuteTime": {
     "end_time": "2020-08-29T19:00:11.663667Z",
     "start_time": "2020-08-29T19:00:11.499637Z"
    },
    "hidden": true,
    "scrolled": true
   },
   "outputs": [
    {
     "data": {
      "application/vnd.jupyter.widget-view+json": {
       "model_id": "b5ba5af8c7a345629b40161203a6a2aa",
       "version_major": 2,
       "version_minor": 0
      },
      "text/plain": [
       "VBox(children=(HBox(children=(HTML(value='Type:'), Button(description='Table', layout=Layout(width='70px'), st…"
      ]
     },
     "metadata": {},
     "output_type": "display_data"
    },
    {
     "data": {
      "application/vnd.jupyter.widget-view+json": {
       "model_id": "d8f48a65b0b34346a98284aa7ddc23a5",
       "version_major": 2,
       "version_minor": 0
      },
      "text/plain": [
       "Output()"
      ]
     },
     "metadata": {},
     "output_type": "display_data"
    }
   ],
   "source": [
    "%%local\n",
    "column_df"
   ]
  },
  {
   "cell_type": "code",
   "execution_count": 31,
   "metadata": {
    "ExecuteTime": {
     "end_time": "2020-08-29T19:00:11.684668Z",
     "start_time": "2020-08-29T19:00:11.664670Z"
    },
    "hidden": true
   },
   "outputs": [
    {
     "data": {
      "text/plain": [
       "i94cit      114811.0\n",
       "count     40761954.0\n",
       "dtype: float64"
      ]
     },
     "execution_count": 31,
     "metadata": {},
     "output_type": "execute_result"
    }
   ],
   "source": [
    "%%local\n",
    "column_df.sum()"
   ]
  },
  {
   "cell_type": "markdown",
   "metadata": {
    "hidden": true
   },
   "source": [
    "### i94res"
   ]
  },
  {
   "cell_type": "code",
   "execution_count": 32,
   "metadata": {
    "ExecuteTime": {
     "end_time": "2020-08-29T19:01:28.390904Z",
     "start_time": "2020-08-29T19:01:26.681217Z"
    },
    "hidden": true
   },
   "outputs": [
    {
     "data": {
      "application/vnd.jupyter.widget-view+json": {
       "model_id": "",
       "version_major": 2,
       "version_minor": 0
      },
      "text/plain": [
       "FloatProgress(value=0.0, bar_style='info', description='Progress:', layout=Layout(height='25px', width='50%'),…"
      ]
     },
     "metadata": {},
     "output_type": "display_data"
    }
   ],
   "source": [
    "column = \"i94res\""
   ]
  },
  {
   "cell_type": "code",
   "execution_count": 33,
   "metadata": {
    "ExecuteTime": {
     "end_time": "2020-08-29T19:01:35.818805Z",
     "start_time": "2020-08-29T19:01:28.399906Z"
    },
    "hidden": true
   },
   "outputs": [
    {
     "data": {
      "application/vnd.jupyter.widget-view+json": {
       "model_id": "",
       "version_major": 2,
       "version_minor": 0
      },
      "text/plain": [
       "FloatProgress(value=0.0, bar_style='info', description='Progress:', layout=Layout(height='25px', width='50%'),…"
      ]
     },
     "metadata": {},
     "output_type": "display_data"
    },
    {
     "data": {
      "application/vnd.jupyter.widget-view+json": {
       "model_id": "",
       "version_major": 2,
       "version_minor": 0
      },
      "text/plain": [
       "FloatProgress(value=0.0, bar_style='info', description='Progress:', layout=Layout(height='25px', width='50%'),…"
      ]
     },
     "metadata": {},
     "output_type": "display_data"
    }
   ],
   "source": [
    "%%spark -o column_df\n",
    "column_df = df.groupBy(column).agg(F.count(column).alias(\"count\")).orderBy(F.desc(\"count\"))"
   ]
  },
  {
   "cell_type": "code",
   "execution_count": 34,
   "metadata": {
    "ExecuteTime": {
     "end_time": "2020-08-29T19:01:35.989967Z",
     "start_time": "2020-08-29T19:01:35.821750Z"
    },
    "hidden": true,
    "scrolled": true
   },
   "outputs": [
    {
     "data": {
      "application/vnd.jupyter.widget-view+json": {
       "model_id": "d2c4eefdc87b4817b12a1bb5f07efc0a",
       "version_major": 2,
       "version_minor": 0
      },
      "text/plain": [
       "VBox(children=(HBox(children=(HTML(value='Type:'), Button(description='Table', layout=Layout(width='70px'), st…"
      ]
     },
     "metadata": {},
     "output_type": "display_data"
    },
    {
     "data": {
      "application/vnd.jupyter.widget-view+json": {
       "model_id": "b14825ebaea840db9ee667145e617cac",
       "version_major": 2,
       "version_minor": 0
      },
      "text/plain": [
       "Output()"
      ]
     },
     "metadata": {},
     "output_type": "display_data"
    }
   ],
   "source": [
    "%%local\n",
    "column_df"
   ]
  },
  {
   "cell_type": "code",
   "execution_count": 35,
   "metadata": {
    "ExecuteTime": {
     "end_time": "2020-08-29T19:01:36.011001Z",
     "start_time": "2020-08-29T19:01:35.990967Z"
    },
    "hidden": true
   },
   "outputs": [
    {
     "data": {
      "text/plain": [
       "i94res       83439.0\n",
       "count     40790529.0\n",
       "dtype: float64"
      ]
     },
     "execution_count": 35,
     "metadata": {},
     "output_type": "execute_result"
    }
   ],
   "source": [
    "%%local\n",
    "column_df.sum()"
   ]
  },
  {
   "cell_type": "markdown",
   "metadata": {
    "hidden": true
   },
   "source": [
    "### i94res vs i94cit"
   ]
  },
  {
   "cell_type": "code",
   "execution_count": 56,
   "metadata": {
    "ExecuteTime": {
     "end_time": "2020-08-23T21:44:07.539283Z",
     "start_time": "2020-08-23T21:44:06.101524Z"
    },
    "hidden": true
   },
   "outputs": [
    {
     "data": {
      "application/vnd.jupyter.widget-view+json": {
       "model_id": "",
       "version_major": 2,
       "version_minor": 0
      },
      "text/plain": [
       "FloatProgress(value=0.0, bar_style='info', description='Progress:', layout=Layout(height='25px', width='50%'),…"
      ]
     },
     "metadata": {},
     "output_type": "display_data"
    }
   ],
   "source": [
    "df_diff = df[df.i94res != df.i94cit].cache()"
   ]
  },
  {
   "cell_type": "code",
   "execution_count": 58,
   "metadata": {
    "ExecuteTime": {
     "end_time": "2020-08-23T21:47:46.783337Z",
     "start_time": "2020-08-23T21:47:45.164946Z"
    },
    "hidden": true
   },
   "outputs": [
    {
     "data": {
      "application/vnd.jupyter.widget-view+json": {
       "model_id": "",
       "version_major": 2,
       "version_minor": 0
      },
      "text/plain": [
       "FloatProgress(value=0.0, bar_style='info', description='Progress:', layout=Layout(height='25px', width='50%'),…"
      ]
     },
     "metadata": {},
     "output_type": "display_data"
    }
   ],
   "source": [
    "df_diff.createOrReplaceTempView(\"i94res_i94cit\")"
   ]
  },
  {
   "cell_type": "code",
   "execution_count": 57,
   "metadata": {
    "ExecuteTime": {
     "end_time": "2020-08-23T21:46:01.002484Z",
     "start_time": "2020-08-23T21:44:13.529242Z"
    },
    "hidden": true
   },
   "outputs": [
    {
     "data": {
      "application/vnd.jupyter.widget-view+json": {
       "model_id": "",
       "version_major": 2,
       "version_minor": 0
      },
      "text/plain": [
       "FloatProgress(value=0.0, bar_style='info', description='Progress:', layout=Layout(height='25px', width='50%'),…"
      ]
     },
     "metadata": {},
     "output_type": "display_data"
    },
    {
     "name": "stdout",
     "output_type": "stream",
     "text": [
      "6359725"
     ]
    }
   ],
   "source": [
    "df_diff.count()"
   ]
  },
  {
   "cell_type": "code",
   "execution_count": 60,
   "metadata": {
    "ExecuteTime": {
     "end_time": "2020-08-23T21:53:43.550342Z",
     "start_time": "2020-08-23T21:51:56.133571Z"
    },
    "hidden": true,
    "scrolled": true
   },
   "outputs": [
    {
     "data": {
      "application/vnd.jupyter.widget-view+json": {
       "model_id": "",
       "version_major": 2,
       "version_minor": 0
      },
      "text/plain": [
       "FloatProgress(value=0.0, bar_style='info', description='Progress:', layout=Layout(height='25px', width='50%'),…"
      ]
     },
     "metadata": {},
     "output_type": "display_data"
    },
    {
     "data": {
      "application/vnd.jupyter.widget-view+json": {
       "model_id": "a8998a92d21d494c987d97116ee8c894",
       "version_major": 2,
       "version_minor": 0
      },
      "text/plain": [
       "VBox(children=(HBox(children=(HTML(value='Type:'), Button(description='Table', layout=Layout(width='70px'), st…"
      ]
     },
     "metadata": {},
     "output_type": "display_data"
    },
    {
     "data": {
      "application/vnd.jupyter.widget-view+json": {
       "model_id": "8a65fcf49bbc41bab914bc7ded3d78ad",
       "version_major": 2,
       "version_minor": 0
      },
      "text/plain": [
       "Output()"
      ]
     },
     "metadata": {},
     "output_type": "display_data"
    }
   ],
   "source": [
    "%%sql\n",
    "SELECT DISTINCT i94cit, i94res\n",
    "FROM i94res_i94cit\n",
    "LIMIT 10"
   ]
  },
  {
   "cell_type": "markdown",
   "metadata": {
    "heading_collapsed": true
   },
   "source": [
    "## Other Columns"
   ]
  },
  {
   "cell_type": "markdown",
   "metadata": {
    "hidden": true
   },
   "source": [
    "### occup"
   ]
  },
  {
   "cell_type": "code",
   "execution_count": 13,
   "metadata": {
    "ExecuteTime": {
     "end_time": "2020-08-29T18:57:01.036848Z",
     "start_time": "2020-08-29T18:56:48.946611Z"
    },
    "hidden": true
   },
   "outputs": [
    {
     "data": {
      "application/vnd.jupyter.widget-view+json": {
       "model_id": "",
       "version_major": 2,
       "version_minor": 0
      },
      "text/plain": [
       "FloatProgress(value=0.0, bar_style='info', description='Progress:', layout=Layout(height='25px', width='50%'),…"
      ]
     },
     "metadata": {},
     "output_type": "display_data"
    },
    {
     "data": {
      "application/vnd.jupyter.widget-view+json": {
       "model_id": "",
       "version_major": 2,
       "version_minor": 0
      },
      "text/plain": [
       "FloatProgress(value=0.0, bar_style='info', description='Progress:', layout=Layout(height='25px', width='50%'),…"
      ]
     },
     "metadata": {},
     "output_type": "display_data"
    }
   ],
   "source": [
    "%%spark -o occup_df\n",
    "occup_df = df.groupBy('occup').agg(F.count(\"occup\").alias(\"count\")).orderBy(F.desc(\"count\"))"
   ]
  },
  {
   "cell_type": "code",
   "execution_count": 14,
   "metadata": {
    "ExecuteTime": {
     "end_time": "2020-08-29T18:57:01.199367Z",
     "start_time": "2020-08-29T18:57:01.037818Z"
    },
    "hidden": true,
    "scrolled": true
   },
   "outputs": [
    {
     "data": {
      "application/vnd.jupyter.widget-view+json": {
       "model_id": "",
       "version_major": 2,
       "version_minor": 0
      },
      "text/plain": [
       "VBox(children=(HBox(children=(HTML(value='Type:'), Button(description='Table', layout=Layout(width='70px'), st…"
      ]
     },
     "metadata": {},
     "output_type": "display_data"
    },
    {
     "data": {
      "application/vnd.jupyter.widget-view+json": {
       "model_id": "",
       "version_major": 2,
       "version_minor": 0
      },
      "text/plain": [
       "Output()"
      ]
     },
     "metadata": {},
     "output_type": "display_data"
    }
   ],
   "source": [
    "%%local\n",
    "occup_df"
   ]
  },
  {
   "cell_type": "code",
   "execution_count": 15,
   "metadata": {
    "ExecuteTime": {
     "end_time": "2020-08-29T18:57:01.235333Z",
     "start_time": "2020-08-29T18:57:01.205335Z"
    },
    "hidden": true
   },
   "outputs": [
    {
     "data": {
      "text/plain": [
       "count    192955\n",
       "dtype: int64"
      ]
     },
     "execution_count": 15,
     "metadata": {},
     "output_type": "execute_result"
    }
   ],
   "source": [
    "%%local\n",
    "occup_df.sum()"
   ]
  },
  {
   "cell_type": "markdown",
   "metadata": {
    "hidden": true
   },
   "source": [
    "### visatype"
   ]
  },
  {
   "cell_type": "code",
   "execution_count": 16,
   "metadata": {
    "ExecuteTime": {
     "end_time": "2020-08-29T18:57:51.979327Z",
     "start_time": "2020-08-29T18:57:50.310950Z"
    },
    "hidden": true
   },
   "outputs": [
    {
     "data": {
      "application/vnd.jupyter.widget-view+json": {
       "model_id": "",
       "version_major": 2,
       "version_minor": 0
      },
      "text/plain": [
       "FloatProgress(value=0.0, bar_style='info', description='Progress:', layout=Layout(height='25px', width='50%'),…"
      ]
     },
     "metadata": {},
     "output_type": "display_data"
    }
   ],
   "source": [
    "column = \"visatype\""
   ]
  },
  {
   "cell_type": "code",
   "execution_count": 17,
   "metadata": {
    "ExecuteTime": {
     "end_time": "2020-08-29T18:57:56.957047Z",
     "start_time": "2020-08-29T18:57:51.980280Z"
    },
    "hidden": true
   },
   "outputs": [
    {
     "data": {
      "application/vnd.jupyter.widget-view+json": {
       "model_id": "",
       "version_major": 2,
       "version_minor": 0
      },
      "text/plain": [
       "FloatProgress(value=0.0, bar_style='info', description='Progress:', layout=Layout(height='25px', width='50%'),…"
      ]
     },
     "metadata": {},
     "output_type": "display_data"
    },
    {
     "data": {
      "application/vnd.jupyter.widget-view+json": {
       "model_id": "",
       "version_major": 2,
       "version_minor": 0
      },
      "text/plain": [
       "FloatProgress(value=0.0, bar_style='info', description='Progress:', layout=Layout(height='25px', width='50%'),…"
      ]
     },
     "metadata": {},
     "output_type": "display_data"
    }
   ],
   "source": [
    "%%spark -o column_df\n",
    "column_df = df.groupBy(column).agg(F.count(column).alias(\"count\")).orderBy(F.desc(\"count\"))"
   ]
  },
  {
   "cell_type": "code",
   "execution_count": 18,
   "metadata": {
    "ExecuteTime": {
     "end_time": "2020-08-29T18:57:57.124083Z",
     "start_time": "2020-08-29T18:57:56.960053Z"
    },
    "hidden": true,
    "scrolled": true
   },
   "outputs": [
    {
     "data": {
      "application/vnd.jupyter.widget-view+json": {
       "model_id": "",
       "version_major": 2,
       "version_minor": 0
      },
      "text/plain": [
       "VBox(children=(HBox(children=(HTML(value='Type:'), Button(description='Table', layout=Layout(width='70px'), st…"
      ]
     },
     "metadata": {},
     "output_type": "display_data"
    },
    {
     "data": {
      "application/vnd.jupyter.widget-view+json": {
       "model_id": "",
       "version_major": 2,
       "version_minor": 0
      },
      "text/plain": [
       "Output()"
      ]
     },
     "metadata": {},
     "output_type": "display_data"
    }
   ],
   "source": [
    "%%local\n",
    "column_df"
   ]
  },
  {
   "cell_type": "code",
   "execution_count": 19,
   "metadata": {
    "ExecuteTime": {
     "end_time": "2020-08-29T18:57:57.140049Z",
     "start_time": "2020-08-29T18:57:57.126047Z"
    },
    "hidden": true
   },
   "outputs": [
    {
     "data": {
      "text/plain": [
       "visatype    WTB2WBB1F1GMTCPE2F2E1IM1I1GMBM2CPLSBP\n",
       "count                                    40790529\n",
       "dtype: object"
      ]
     },
     "execution_count": 19,
     "metadata": {},
     "output_type": "execute_result"
    }
   ],
   "source": [
    "%%local\n",
    "column_df.sum()"
   ]
  },
  {
   "cell_type": "markdown",
   "metadata": {
    "hidden": true
   },
   "source": [
    "### i94mode"
   ]
  },
  {
   "cell_type": "code",
   "execution_count": 20,
   "metadata": {
    "ExecuteTime": {
     "end_time": "2020-08-29T18:58:08.058337Z",
     "start_time": "2020-08-29T18:58:06.983266Z"
    },
    "hidden": true
   },
   "outputs": [
    {
     "data": {
      "application/vnd.jupyter.widget-view+json": {
       "model_id": "",
       "version_major": 2,
       "version_minor": 0
      },
      "text/plain": [
       "FloatProgress(value=0.0, bar_style='info', description='Progress:', layout=Layout(height='25px', width='50%'),…"
      ]
     },
     "metadata": {},
     "output_type": "display_data"
    }
   ],
   "source": [
    "column = \"i94mode\""
   ]
  },
  {
   "cell_type": "code",
   "execution_count": 21,
   "metadata": {
    "ExecuteTime": {
     "end_time": "2020-08-29T18:58:12.430857Z",
     "start_time": "2020-08-29T18:58:08.063320Z"
    },
    "hidden": true
   },
   "outputs": [
    {
     "data": {
      "application/vnd.jupyter.widget-view+json": {
       "model_id": "",
       "version_major": 2,
       "version_minor": 0
      },
      "text/plain": [
       "FloatProgress(value=0.0, bar_style='info', description='Progress:', layout=Layout(height='25px', width='50%'),…"
      ]
     },
     "metadata": {},
     "output_type": "display_data"
    },
    {
     "data": {
      "application/vnd.jupyter.widget-view+json": {
       "model_id": "",
       "version_major": 2,
       "version_minor": 0
      },
      "text/plain": [
       "FloatProgress(value=0.0, bar_style='info', description='Progress:', layout=Layout(height='25px', width='50%'),…"
      ]
     },
     "metadata": {},
     "output_type": "display_data"
    }
   ],
   "source": [
    "%%spark -o column_df\n",
    "column_df = df.groupBy(column).agg(F.count(column).alias(\"count\")).orderBy(F.desc(\"count\"))"
   ]
  },
  {
   "cell_type": "code",
   "execution_count": 22,
   "metadata": {
    "ExecuteTime": {
     "end_time": "2020-08-29T18:58:12.613800Z",
     "start_time": "2020-08-29T18:58:12.434846Z"
    },
    "hidden": true,
    "scrolled": true
   },
   "outputs": [
    {
     "data": {
      "application/vnd.jupyter.widget-view+json": {
       "model_id": "",
       "version_major": 2,
       "version_minor": 0
      },
      "text/plain": [
       "VBox(children=(HBox(children=(HTML(value='Type:'), Button(description='Table', layout=Layout(width='70px'), st…"
      ]
     },
     "metadata": {},
     "output_type": "display_data"
    },
    {
     "data": {
      "application/vnd.jupyter.widget-view+json": {
       "model_id": "",
       "version_major": 2,
       "version_minor": 0
      },
      "text/plain": [
       "Output()"
      ]
     },
     "metadata": {},
     "output_type": "display_data"
    }
   ],
   "source": [
    "%%local\n",
    "column_df"
   ]
  },
  {
   "cell_type": "code",
   "execution_count": 23,
   "metadata": {
    "ExecuteTime": {
     "end_time": "2020-08-29T18:58:12.622821Z",
     "start_time": "2020-08-29T18:58:12.614801Z"
    },
    "hidden": true
   },
   "outputs": [
    {
     "data": {
      "text/plain": [
       "i94mode          15.0\n",
       "count      40716580.0\n",
       "dtype: float64"
      ]
     },
     "execution_count": 23,
     "metadata": {},
     "output_type": "execute_result"
    }
   ],
   "source": [
    "%%local\n",
    "column_df.sum()"
   ]
  },
  {
   "cell_type": "markdown",
   "metadata": {
    "hidden": true
   },
   "source": [
    "### visapost\n",
    "This is the Department of State where where Visa was issued, don't think we'll use it"
   ]
  },
  {
   "cell_type": "code",
   "execution_count": 55,
   "metadata": {
    "ExecuteTime": {
     "end_time": "2020-08-29T19:11:04.508120Z",
     "start_time": "2020-08-29T19:11:03.301920Z"
    },
    "hidden": true
   },
   "outputs": [
    {
     "data": {
      "application/vnd.jupyter.widget-view+json": {
       "model_id": "",
       "version_major": 2,
       "version_minor": 0
      },
      "text/plain": [
       "FloatProgress(value=0.0, bar_style='info', description='Progress:', layout=Layout(height='25px', width='50%'),…"
      ]
     },
     "metadata": {},
     "output_type": "display_data"
    }
   ],
   "source": [
    "column = \"visapost\""
   ]
  },
  {
   "cell_type": "code",
   "execution_count": 56,
   "metadata": {
    "ExecuteTime": {
     "end_time": "2020-08-29T19:11:13.151436Z",
     "start_time": "2020-08-29T19:11:06.088647Z"
    },
    "hidden": true
   },
   "outputs": [
    {
     "data": {
      "application/vnd.jupyter.widget-view+json": {
       "model_id": "",
       "version_major": 2,
       "version_minor": 0
      },
      "text/plain": [
       "FloatProgress(value=0.0, bar_style='info', description='Progress:', layout=Layout(height='25px', width='50%'),…"
      ]
     },
     "metadata": {},
     "output_type": "display_data"
    },
    {
     "data": {
      "application/vnd.jupyter.widget-view+json": {
       "model_id": "",
       "version_major": 2,
       "version_minor": 0
      },
      "text/plain": [
       "FloatProgress(value=0.0, bar_style='info', description='Progress:', layout=Layout(height='25px', width='50%'),…"
      ]
     },
     "metadata": {},
     "output_type": "display_data"
    }
   ],
   "source": [
    "%%spark -o column_df\n",
    "column_df = df.groupBy(column).agg(F.count(column).alias(\"count\")).orderBy(F.desc(\"count\"))"
   ]
  },
  {
   "cell_type": "code",
   "execution_count": 57,
   "metadata": {
    "ExecuteTime": {
     "end_time": "2020-08-29T19:11:13.323512Z",
     "start_time": "2020-08-29T19:11:13.152295Z"
    },
    "hidden": true,
    "scrolled": true
   },
   "outputs": [
    {
     "data": {
      "application/vnd.jupyter.widget-view+json": {
       "model_id": "1d420c24da4b47a1ba20cee753adc9eb",
       "version_major": 2,
       "version_minor": 0
      },
      "text/plain": [
       "VBox(children=(HBox(children=(HTML(value='Type:'), Button(description='Table', layout=Layout(width='70px'), st…"
      ]
     },
     "metadata": {},
     "output_type": "display_data"
    },
    {
     "data": {
      "application/vnd.jupyter.widget-view+json": {
       "model_id": "b6d7faf9bc5445f9aaa440d83604b8e2",
       "version_major": 2,
       "version_minor": 0
      },
      "text/plain": [
       "Output()"
      ]
     },
     "metadata": {},
     "output_type": "display_data"
    }
   ],
   "source": [
    "%%local\n",
    "column_df"
   ]
  },
  {
   "cell_type": "code",
   "execution_count": 58,
   "metadata": {
    "ExecuteTime": {
     "end_time": "2020-08-29T19:11:13.346507Z",
     "start_time": "2020-08-29T19:11:13.325472Z"
    },
    "hidden": true
   },
   "outputs": [
    {
     "data": {
      "text/plain": [
       "count    16758354\n",
       "dtype: int64"
      ]
     },
     "execution_count": 58,
     "metadata": {},
     "output_type": "execute_result"
    }
   ],
   "source": [
    "%%local\n",
    "column_df.sum()"
   ]
  },
  {
   "cell_type": "markdown",
   "metadata": {
    "hidden": true
   },
   "source": [
    "### entdepa\n",
    "How the passenger was admitted to the US. No idea what the letters mean"
   ]
  },
  {
   "cell_type": "code",
   "execution_count": 64,
   "metadata": {
    "ExecuteTime": {
     "end_time": "2020-08-30T18:47:16.949025Z",
     "start_time": "2020-08-30T18:47:15.255393Z"
    },
    "hidden": true
   },
   "outputs": [
    {
     "data": {
      "application/vnd.jupyter.widget-view+json": {
       "model_id": "",
       "version_major": 2,
       "version_minor": 0
      },
      "text/plain": [
       "FloatProgress(value=0.0, bar_style='info', description='Progress:', layout=Layout(height='25px', width='50%'),…"
      ]
     },
     "metadata": {},
     "output_type": "display_data"
    }
   ],
   "source": [
    "column = \"entdepa\""
   ]
  },
  {
   "cell_type": "code",
   "execution_count": 65,
   "metadata": {
    "ExecuteTime": {
     "end_time": "2020-08-30T18:47:22.721031Z",
     "start_time": "2020-08-30T18:47:16.951030Z"
    },
    "hidden": true
   },
   "outputs": [
    {
     "data": {
      "application/vnd.jupyter.widget-view+json": {
       "model_id": "",
       "version_major": 2,
       "version_minor": 0
      },
      "text/plain": [
       "FloatProgress(value=0.0, bar_style='info', description='Progress:', layout=Layout(height='25px', width='50%'),…"
      ]
     },
     "metadata": {},
     "output_type": "display_data"
    },
    {
     "data": {
      "application/vnd.jupyter.widget-view+json": {
       "model_id": "",
       "version_major": 2,
       "version_minor": 0
      },
      "text/plain": [
       "FloatProgress(value=0.0, bar_style='info', description='Progress:', layout=Layout(height='25px', width='50%'),…"
      ]
     },
     "metadata": {},
     "output_type": "display_data"
    }
   ],
   "source": [
    "%%spark -o column_df\n",
    "column_df = df.groupBy(column).agg(F.count(\"*\").alias(\"count\")).orderBy(F.desc(\"count\"))"
   ]
  },
  {
   "cell_type": "code",
   "execution_count": 66,
   "metadata": {
    "ExecuteTime": {
     "end_time": "2020-08-30T18:47:22.904981Z",
     "start_time": "2020-08-30T18:47:22.722998Z"
    },
    "hidden": true,
    "scrolled": true
   },
   "outputs": [
    {
     "data": {
      "application/vnd.jupyter.widget-view+json": {
       "model_id": "963ab2d5e46f45f4a62674c071390267",
       "version_major": 2,
       "version_minor": 0
      },
      "text/plain": [
       "VBox(children=(HBox(children=(HTML(value='Type:'), Button(description='Table', layout=Layout(width='70px'), st…"
      ]
     },
     "metadata": {},
     "output_type": "display_data"
    },
    {
     "data": {
      "application/vnd.jupyter.widget-view+json": {
       "model_id": "721e3d1d7049496f8cc563545df1a72a",
       "version_major": 2,
       "version_minor": 0
      },
      "text/plain": [
       "Output()"
      ]
     },
     "metadata": {},
     "output_type": "display_data"
    }
   ],
   "source": [
    "%%local\n",
    "column_df"
   ]
  },
  {
   "cell_type": "markdown",
   "metadata": {
    "hidden": true
   },
   "source": [
    "### entdepu\n",
    "If the traveller's status was updated"
   ]
  },
  {
   "cell_type": "code",
   "execution_count": 70,
   "metadata": {
    "ExecuteTime": {
     "end_time": "2020-08-30T18:48:06.523618Z",
     "start_time": "2020-08-30T18:48:05.450469Z"
    },
    "hidden": true
   },
   "outputs": [
    {
     "data": {
      "application/vnd.jupyter.widget-view+json": {
       "model_id": "",
       "version_major": 2,
       "version_minor": 0
      },
      "text/plain": [
       "FloatProgress(value=0.0, bar_style='info', description='Progress:', layout=Layout(height='25px', width='50%'),…"
      ]
     },
     "metadata": {},
     "output_type": "display_data"
    }
   ],
   "source": [
    "column = \"entdepu\""
   ]
  },
  {
   "cell_type": "code",
   "execution_count": 71,
   "metadata": {
    "ExecuteTime": {
     "end_time": "2020-08-30T18:48:10.403477Z",
     "start_time": "2020-08-30T18:48:06.525577Z"
    },
    "hidden": true
   },
   "outputs": [
    {
     "data": {
      "application/vnd.jupyter.widget-view+json": {
       "model_id": "",
       "version_major": 2,
       "version_minor": 0
      },
      "text/plain": [
       "FloatProgress(value=0.0, bar_style='info', description='Progress:', layout=Layout(height='25px', width='50%'),…"
      ]
     },
     "metadata": {},
     "output_type": "display_data"
    },
    {
     "data": {
      "application/vnd.jupyter.widget-view+json": {
       "model_id": "",
       "version_major": 2,
       "version_minor": 0
      },
      "text/plain": [
       "FloatProgress(value=0.0, bar_style='info', description='Progress:', layout=Layout(height='25px', width='50%'),…"
      ]
     },
     "metadata": {},
     "output_type": "display_data"
    }
   ],
   "source": [
    "%%spark -o column_df\n",
    "column_df = df.groupBy(column).agg(F.count(\"*\").alias(\"count\")).orderBy(F.desc(\"count\"))"
   ]
  },
  {
   "cell_type": "code",
   "execution_count": 72,
   "metadata": {
    "ExecuteTime": {
     "end_time": "2020-08-30T18:48:10.584721Z",
     "start_time": "2020-08-30T18:48:10.405476Z"
    },
    "hidden": true,
    "scrolled": true
   },
   "outputs": [
    {
     "data": {
      "application/vnd.jupyter.widget-view+json": {
       "model_id": "ec71492220a74ad9a9988bf70dc2f693",
       "version_major": 2,
       "version_minor": 0
      },
      "text/plain": [
       "VBox(children=(HBox(children=(HTML(value='Type:'), Button(description='Table', layout=Layout(width='70px'), st…"
      ]
     },
     "metadata": {},
     "output_type": "display_data"
    },
    {
     "data": {
      "application/vnd.jupyter.widget-view+json": {
       "model_id": "a7a266690a90488eb2aecb7c0c82a713",
       "version_major": 2,
       "version_minor": 0
      },
      "text/plain": [
       "Output()"
      ]
     },
     "metadata": {},
     "output_type": "display_data"
    }
   ],
   "source": [
    "%%local\n",
    "column_df"
   ]
  },
  {
   "cell_type": "markdown",
   "metadata": {
    "hidden": true
   },
   "source": [
    "### entdepd\n",
    "How the traveller departed"
   ]
  },
  {
   "cell_type": "code",
   "execution_count": 61,
   "metadata": {
    "ExecuteTime": {
     "end_time": "2020-08-30T18:45:53.523705Z",
     "start_time": "2020-08-30T18:45:52.074467Z"
    },
    "hidden": true
   },
   "outputs": [
    {
     "data": {
      "application/vnd.jupyter.widget-view+json": {
       "model_id": "",
       "version_major": 2,
       "version_minor": 0
      },
      "text/plain": [
       "FloatProgress(value=0.0, bar_style='info', description='Progress:', layout=Layout(height='25px', width='50%'),…"
      ]
     },
     "metadata": {},
     "output_type": "display_data"
    }
   ],
   "source": [
    "column = \"entdepd\""
   ]
  },
  {
   "cell_type": "code",
   "execution_count": 62,
   "metadata": {
    "ExecuteTime": {
     "end_time": "2020-08-30T18:46:03.530072Z",
     "start_time": "2020-08-30T18:45:53.525705Z"
    },
    "hidden": true
   },
   "outputs": [
    {
     "data": {
      "application/vnd.jupyter.widget-view+json": {
       "model_id": "",
       "version_major": 2,
       "version_minor": 0
      },
      "text/plain": [
       "FloatProgress(value=0.0, bar_style='info', description='Progress:', layout=Layout(height='25px', width='50%'),…"
      ]
     },
     "metadata": {},
     "output_type": "display_data"
    },
    {
     "data": {
      "application/vnd.jupyter.widget-view+json": {
       "model_id": "",
       "version_major": 2,
       "version_minor": 0
      },
      "text/plain": [
       "FloatProgress(value=0.0, bar_style='info', description='Progress:', layout=Layout(height='25px', width='50%'),…"
      ]
     },
     "metadata": {},
     "output_type": "display_data"
    }
   ],
   "source": [
    "%%spark -o column_df\n",
    "column_df = df.groupBy(column).agg(F.count(\"*\").alias(\"count\")).orderBy(F.desc(\"count\"))"
   ]
  },
  {
   "cell_type": "code",
   "execution_count": 63,
   "metadata": {
    "ExecuteTime": {
     "end_time": "2020-08-30T18:46:05.156580Z",
     "start_time": "2020-08-30T18:46:03.532077Z"
    },
    "hidden": true,
    "scrolled": true
   },
   "outputs": [
    {
     "data": {
      "application/vnd.jupyter.widget-view+json": {
       "model_id": "066f3c35872f41d5bcccdeb136442f52",
       "version_major": 2,
       "version_minor": 0
      },
      "text/plain": [
       "VBox(children=(HBox(children=(HTML(value='Type:'), Button(description='Table', layout=Layout(width='70px'), st…"
      ]
     },
     "metadata": {},
     "output_type": "display_data"
    },
    {
     "data": {
      "application/vnd.jupyter.widget-view+json": {
       "model_id": "84ed97d689be40bd98bd1ff2cdf60997",
       "version_major": 2,
       "version_minor": 0
      },
      "text/plain": [
       "Output()"
      ]
     },
     "metadata": {},
     "output_type": "display_data"
    }
   ],
   "source": [
    "%%local\n",
    "column_df"
   ]
  },
  {
   "cell_type": "markdown",
   "metadata": {
    "hidden": true
   },
   "source": [
    "### gender"
   ]
  },
  {
   "cell_type": "code",
   "execution_count": 131,
   "metadata": {
    "ExecuteTime": {
     "end_time": "2020-08-29T21:34:15.919401Z",
     "start_time": "2020-08-29T21:34:14.257814Z"
    },
    "hidden": true
   },
   "outputs": [
    {
     "data": {
      "application/vnd.jupyter.widget-view+json": {
       "model_id": "",
       "version_major": 2,
       "version_minor": 0
      },
      "text/plain": [
       "FloatProgress(value=0.0, bar_style='info', description='Progress:', layout=Layout(height='25px', width='50%'),…"
      ]
     },
     "metadata": {},
     "output_type": "display_data"
    }
   ],
   "source": [
    "column = \"gender\""
   ]
  },
  {
   "cell_type": "code",
   "execution_count": 132,
   "metadata": {
    "ExecuteTime": {
     "end_time": "2020-08-29T21:37:28.562422Z",
     "start_time": "2020-08-29T21:37:24.594682Z"
    },
    "hidden": true
   },
   "outputs": [
    {
     "data": {
      "application/vnd.jupyter.widget-view+json": {
       "model_id": "",
       "version_major": 2,
       "version_minor": 0
      },
      "text/plain": [
       "FloatProgress(value=0.0, bar_style='info', description='Progress:', layout=Layout(height='25px', width='50%'),…"
      ]
     },
     "metadata": {},
     "output_type": "display_data"
    },
    {
     "data": {
      "application/vnd.jupyter.widget-view+json": {
       "model_id": "",
       "version_major": 2,
       "version_minor": 0
      },
      "text/plain": [
       "FloatProgress(value=0.0, bar_style='info', description='Progress:', layout=Layout(height='25px', width='50%'),…"
      ]
     },
     "metadata": {},
     "output_type": "display_data"
    }
   ],
   "source": [
    "%%spark -o column_df\n",
    "column_df = df.groupBy(column).agg(F.count(\"*\").alias(\"count\")).orderBy(F.desc(\"count\"))"
   ]
  },
  {
   "cell_type": "code",
   "execution_count": 133,
   "metadata": {
    "ExecuteTime": {
     "end_time": "2020-08-29T21:37:28.748089Z",
     "start_time": "2020-08-29T21:37:28.564418Z"
    },
    "hidden": true,
    "scrolled": true
   },
   "outputs": [
    {
     "data": {
      "application/vnd.jupyter.widget-view+json": {
       "model_id": "f2d5078b57e541ff91e5f82d9220d819",
       "version_major": 2,
       "version_minor": 0
      },
      "text/plain": [
       "VBox(children=(HBox(children=(HTML(value='Type:'), Button(description='Table', layout=Layout(width='70px'), st…"
      ]
     },
     "metadata": {},
     "output_type": "display_data"
    },
    {
     "data": {
      "application/vnd.jupyter.widget-view+json": {
       "model_id": "ae24ef1d4d6948ba8f8b8eaf1a8595c8",
       "version_major": 2,
       "version_minor": 0
      },
      "text/plain": [
       "Output()"
      ]
     },
     "metadata": {},
     "output_type": "display_data"
    }
   ],
   "source": [
    "%%local\n",
    "column_df"
   ]
  },
  {
   "cell_type": "code",
   "execution_count": 77,
   "metadata": {
    "ExecuteTime": {
     "end_time": "2020-08-29T19:51:43.626695Z",
     "start_time": "2020-08-29T19:51:43.601702Z"
    },
    "hidden": true
   },
   "outputs": [
    {
     "data": {
      "text/plain": [
       "count    36710546\n",
       "dtype: int64"
      ]
     },
     "execution_count": 77,
     "metadata": {},
     "output_type": "execute_result"
    }
   ],
   "source": [
    "%%local\n",
    "column_df.sum()"
   ]
  },
  {
   "cell_type": "code",
   "execution_count": 127,
   "metadata": {
    "ExecuteTime": {
     "end_time": "2020-08-29T21:31:02.236143Z",
     "start_time": "2020-08-29T21:30:58.364968Z"
    },
    "hidden": true
   },
   "outputs": [
    {
     "data": {
      "application/vnd.jupyter.widget-view+json": {
       "model_id": "",
       "version_major": 2,
       "version_minor": 0
      },
      "text/plain": [
       "FloatProgress(value=0.0, bar_style='info', description='Progress:', layout=Layout(height='25px', width='50%'),…"
      ]
     },
     "metadata": {},
     "output_type": "display_data"
    },
    {
     "data": {
      "application/vnd.jupyter.widget-view+json": {
       "model_id": "",
       "version_major": 2,
       "version_minor": 0
      },
      "text/plain": [
       "FloatProgress(value=0.0, bar_style='info', description='Progress:', layout=Layout(height='25px', width='50%'),…"
      ]
     },
     "metadata": {},
     "output_type": "display_data"
    }
   ],
   "source": [
    "%%spark -o null_value_df\n",
    "null_value_df = df.withColumn(\"is_null\", F.isnull(column)).groupBy(\"is_null\").agg(F.count(\"is_null\").alias(\"count\")).orderBy(F.desc(\"count\"))"
   ]
  },
  {
   "cell_type": "code",
   "execution_count": 128,
   "metadata": {
    "ExecuteTime": {
     "end_time": "2020-08-29T21:31:02.431925Z",
     "start_time": "2020-08-29T21:31:02.245147Z"
    },
    "hidden": true,
    "scrolled": true
   },
   "outputs": [
    {
     "data": {
      "application/vnd.jupyter.widget-view+json": {
       "model_id": "4762cd530bec4365bd1abae0eb89e049",
       "version_major": 2,
       "version_minor": 0
      },
      "text/plain": [
       "VBox(children=(HBox(children=(HTML(value='Type:'), Button(description='Table', layout=Layout(width='70px'), st…"
      ]
     },
     "metadata": {},
     "output_type": "display_data"
    },
    {
     "data": {
      "application/vnd.jupyter.widget-view+json": {
       "model_id": "73a609ea5e4f43568e73e8238216eabf",
       "version_major": 2,
       "version_minor": 0
      },
      "text/plain": [
       "Output()"
      ]
     },
     "metadata": {},
     "output_type": "display_data"
    }
   ],
   "source": [
    "%%local\n",
    "null_value_df"
   ]
  },
  {
   "cell_type": "markdown",
   "metadata": {
    "hidden": true
   },
   "source": [
    "### matflag"
   ]
  },
  {
   "cell_type": "code",
   "execution_count": 137,
   "metadata": {
    "ExecuteTime": {
     "end_time": "2020-08-29T21:43:11.785410Z",
     "start_time": "2020-08-29T21:43:10.550322Z"
    },
    "hidden": true
   },
   "outputs": [
    {
     "data": {
      "application/vnd.jupyter.widget-view+json": {
       "model_id": "",
       "version_major": 2,
       "version_minor": 0
      },
      "text/plain": [
       "FloatProgress(value=0.0, bar_style='info', description='Progress:', layout=Layout(height='25px', width='50%'),…"
      ]
     },
     "metadata": {},
     "output_type": "display_data"
    }
   ],
   "source": [
    "column = \"matflag\""
   ]
  },
  {
   "cell_type": "code",
   "execution_count": 138,
   "metadata": {
    "ExecuteTime": {
     "end_time": "2020-08-29T21:43:15.597521Z",
     "start_time": "2020-08-29T21:43:11.793347Z"
    },
    "hidden": true
   },
   "outputs": [
    {
     "data": {
      "application/vnd.jupyter.widget-view+json": {
       "model_id": "",
       "version_major": 2,
       "version_minor": 0
      },
      "text/plain": [
       "FloatProgress(value=0.0, bar_style='info', description='Progress:', layout=Layout(height='25px', width='50%'),…"
      ]
     },
     "metadata": {},
     "output_type": "display_data"
    },
    {
     "data": {
      "application/vnd.jupyter.widget-view+json": {
       "model_id": "",
       "version_major": 2,
       "version_minor": 0
      },
      "text/plain": [
       "FloatProgress(value=0.0, bar_style='info', description='Progress:', layout=Layout(height='25px', width='50%'),…"
      ]
     },
     "metadata": {},
     "output_type": "display_data"
    }
   ],
   "source": [
    "%%spark -o column_df\n",
    "column_df = df.groupBy(column).agg(F.count(\"*\").alias(\"count\")).orderBy(F.desc(\"count\"))"
   ]
  },
  {
   "cell_type": "code",
   "execution_count": 139,
   "metadata": {
    "ExecuteTime": {
     "end_time": "2020-08-29T21:43:15.758523Z",
     "start_time": "2020-08-29T21:43:15.601565Z"
    },
    "hidden": true,
    "scrolled": false
   },
   "outputs": [
    {
     "data": {
      "application/vnd.jupyter.widget-view+json": {
       "model_id": "f848aea22dd44ec5b672ac0f36e49454",
       "version_major": 2,
       "version_minor": 0
      },
      "text/plain": [
       "VBox(children=(HBox(children=(HTML(value='Type:'), Button(description='Table', layout=Layout(width='70px'), st…"
      ]
     },
     "metadata": {},
     "output_type": "display_data"
    },
    {
     "data": {
      "application/vnd.jupyter.widget-view+json": {
       "model_id": "0ea9851e25ce47afacb653f2ae90ea01",
       "version_major": 2,
       "version_minor": 0
      },
      "text/plain": [
       "Output()"
      ]
     },
     "metadata": {},
     "output_type": "display_data"
    }
   ],
   "source": [
    "%%local\n",
    "column_df"
   ]
  },
  {
   "cell_type": "code",
   "execution_count": 140,
   "metadata": {
    "ExecuteTime": {
     "end_time": "2020-08-29T21:43:15.766557Z",
     "start_time": "2020-08-29T21:43:15.760525Z"
    },
    "hidden": true
   },
   "outputs": [
    {
     "data": {
      "text/plain": [
       "count    40790529\n",
       "dtype: int64"
      ]
     },
     "execution_count": 140,
     "metadata": {},
     "output_type": "execute_result"
    }
   ],
   "source": [
    "%%local\n",
    "column_df.sum()"
   ]
  },
  {
   "cell_type": "code",
   "execution_count": 121,
   "metadata": {
    "ExecuteTime": {
     "end_time": "2020-08-29T21:28:55.959921Z",
     "start_time": "2020-08-29T21:28:51.794451Z"
    },
    "hidden": true
   },
   "outputs": [
    {
     "data": {
      "application/vnd.jupyter.widget-view+json": {
       "model_id": "",
       "version_major": 2,
       "version_minor": 0
      },
      "text/plain": [
       "FloatProgress(value=0.0, bar_style='info', description='Progress:', layout=Layout(height='25px', width='50%'),…"
      ]
     },
     "metadata": {},
     "output_type": "display_data"
    },
    {
     "data": {
      "application/vnd.jupyter.widget-view+json": {
       "model_id": "",
       "version_major": 2,
       "version_minor": 0
      },
      "text/plain": [
       "FloatProgress(value=0.0, bar_style='info', description='Progress:', layout=Layout(height='25px', width='50%'),…"
      ]
     },
     "metadata": {},
     "output_type": "display_data"
    }
   ],
   "source": [
    "%%spark -o null_value_df\n",
    "null_value_df = df.withColumn(\"is_null\", F.isnull(column)).groupBy(\"is_null\").agg(F.count(\"is_null\").alias(\"count\")).orderBy(F.desc(\"count\"))"
   ]
  },
  {
   "cell_type": "code",
   "execution_count": 122,
   "metadata": {
    "ExecuteTime": {
     "end_time": "2020-08-29T21:28:59.389379Z",
     "start_time": "2020-08-29T21:28:59.224377Z"
    },
    "hidden": true,
    "scrolled": true
   },
   "outputs": [
    {
     "data": {
      "application/vnd.jupyter.widget-view+json": {
       "model_id": "db8f0ea3c8e24121b3fcd8090b28bfbe",
       "version_major": 2,
       "version_minor": 0
      },
      "text/plain": [
       "VBox(children=(HBox(children=(HTML(value='Type:'), Button(description='Table', layout=Layout(width='70px'), st…"
      ]
     },
     "metadata": {},
     "output_type": "display_data"
    },
    {
     "data": {
      "application/vnd.jupyter.widget-view+json": {
       "model_id": "3193dc20fe3c4460935f0c9033508980",
       "version_major": 2,
       "version_minor": 0
      },
      "text/plain": [
       "Output()"
      ]
     },
     "metadata": {},
     "output_type": "display_data"
    }
   ],
   "source": [
    "%%local\n",
    "null_value_df"
   ]
  },
  {
   "cell_type": "markdown",
   "metadata": {
    "heading_collapsed": true
   },
   "source": [
    "## Dates"
   ]
  },
  {
   "cell_type": "markdown",
   "metadata": {
    "hidden": true
   },
   "source": [
    "### arrdate\n",
    "The range of values looks pretty good, no outliers or invalid values"
   ]
  },
  {
   "cell_type": "code",
   "execution_count": 36,
   "metadata": {
    "ExecuteTime": {
     "end_time": "2020-08-29T19:02:11.356268Z",
     "start_time": "2020-08-29T19:02:10.102440Z"
    },
    "hidden": true
   },
   "outputs": [
    {
     "data": {
      "application/vnd.jupyter.widget-view+json": {
       "model_id": "",
       "version_major": 2,
       "version_minor": 0
      },
      "text/plain": [
       "FloatProgress(value=0.0, bar_style='info', description='Progress:', layout=Layout(height='25px', width='50%'),…"
      ]
     },
     "metadata": {},
     "output_type": "display_data"
    }
   ],
   "source": [
    "column = \"arrdate\""
   ]
  },
  {
   "cell_type": "code",
   "execution_count": 37,
   "metadata": {
    "ExecuteTime": {
     "end_time": "2020-08-29T19:02:30.778793Z",
     "start_time": "2020-08-29T19:02:28.627366Z"
    },
    "hidden": true
   },
   "outputs": [
    {
     "data": {
      "application/vnd.jupyter.widget-view+json": {
       "model_id": "",
       "version_major": 2,
       "version_minor": 0
      },
      "text/plain": [
       "FloatProgress(value=0.0, bar_style='info', description='Progress:', layout=Layout(height='25px', width='50%'),…"
      ]
     },
     "metadata": {},
     "output_type": "display_data"
    },
    {
     "name": "stdout",
     "output_type": "stream",
     "text": [
      "+-------+------------------+\n",
      "|summary|           arrdate|\n",
      "+-------+------------------+\n",
      "|  count|          40790529|\n",
      "|   mean| 20643.13001496009|\n",
      "| stddev|100.98698880802502|\n",
      "|    min|           20454.0|\n",
      "|    max|           20819.0|\n",
      "+-------+------------------+"
     ]
    }
   ],
   "source": [
    "df.describe(column).show()"
   ]
  },
  {
   "cell_type": "code",
   "execution_count": 38,
   "metadata": {
    "ExecuteTime": {
     "end_time": "2020-08-29T19:02:34.640338Z",
     "start_time": "2020-08-29T19:02:30.780794Z"
    },
    "hidden": true
   },
   "outputs": [
    {
     "data": {
      "application/vnd.jupyter.widget-view+json": {
       "model_id": "",
       "version_major": 2,
       "version_minor": 0
      },
      "text/plain": [
       "FloatProgress(value=0.0, bar_style='info', description='Progress:', layout=Layout(height='25px', width='50%'),…"
      ]
     },
     "metadata": {},
     "output_type": "display_data"
    },
    {
     "data": {
      "application/vnd.jupyter.widget-view+json": {
       "model_id": "",
       "version_major": 2,
       "version_minor": 0
      },
      "text/plain": [
       "FloatProgress(value=0.0, bar_style='info', description='Progress:', layout=Layout(height='25px', width='50%'),…"
      ]
     },
     "metadata": {},
     "output_type": "display_data"
    }
   ],
   "source": [
    "%%spark -o column_df\n",
    "column_df = df.withColumn(\"is_null\", F.isnull(column)).groupBy(\"is_null\").agg(F.count(\"is_null\").alias(\"count\")).orderBy(F.desc(\"count\"))"
   ]
  },
  {
   "cell_type": "code",
   "execution_count": 39,
   "metadata": {
    "ExecuteTime": {
     "end_time": "2020-08-29T19:02:34.791480Z",
     "start_time": "2020-08-29T19:02:34.642338Z"
    },
    "hidden": true,
    "scrolled": true
   },
   "outputs": [
    {
     "data": {
      "application/vnd.jupyter.widget-view+json": {
       "model_id": "f7572d0605964181bce478f2afc7d798",
       "version_major": 2,
       "version_minor": 0
      },
      "text/plain": [
       "VBox(children=(HBox(children=(HTML(value='Type:'), Button(description='Table', layout=Layout(width='70px'), st…"
      ]
     },
     "metadata": {},
     "output_type": "display_data"
    },
    {
     "data": {
      "application/vnd.jupyter.widget-view+json": {
       "model_id": "90e7bbff954a4df9b8903b1782515773",
       "version_major": 2,
       "version_minor": 0
      },
      "text/plain": [
       "Output()"
      ]
     },
     "metadata": {},
     "output_type": "display_data"
    }
   ],
   "source": [
    "%%local\n",
    "column_df"
   ]
  },
  {
   "cell_type": "markdown",
   "metadata": {
    "hidden": true
   },
   "source": [
    "### depdate\n",
    "This one has negative values, doesn't make sense, they need to be replaced with NaNs"
   ]
  },
  {
   "cell_type": "code",
   "execution_count": 61,
   "metadata": {
    "ExecuteTime": {
     "end_time": "2020-08-29T19:20:32.370114Z",
     "start_time": "2020-08-29T19:20:30.939840Z"
    },
    "hidden": true
   },
   "outputs": [
    {
     "data": {
      "application/vnd.jupyter.widget-view+json": {
       "model_id": "",
       "version_major": 2,
       "version_minor": 0
      },
      "text/plain": [
       "FloatProgress(value=0.0, bar_style='info', description='Progress:', layout=Layout(height='25px', width='50%'),…"
      ]
     },
     "metadata": {},
     "output_type": "display_data"
    }
   ],
   "source": [
    "column = \"depdate\""
   ]
  },
  {
   "cell_type": "code",
   "execution_count": 41,
   "metadata": {
    "ExecuteTime": {
     "end_time": "2020-08-29T19:02:37.811050Z",
     "start_time": "2020-08-29T19:02:36.122006Z"
    },
    "hidden": true
   },
   "outputs": [
    {
     "data": {
      "application/vnd.jupyter.widget-view+json": {
       "model_id": "",
       "version_major": 2,
       "version_minor": 0
      },
      "text/plain": [
       "FloatProgress(value=0.0, bar_style='info', description='Progress:', layout=Layout(height='25px', width='50%'),…"
      ]
     },
     "metadata": {},
     "output_type": "display_data"
    },
    {
     "name": "stdout",
     "output_type": "stream",
     "text": [
      "+-------+------------------+\n",
      "|summary|           depdate|\n",
      "+-------+------------------+\n",
      "|  count|          37482517|\n",
      "|   mean|20659.627880833083|\n",
      "| stddev|116.65803017360834|\n",
      "|    min|          -14388.0|\n",
      "|    max|           48342.0|\n",
      "+-------+------------------+"
     ]
    }
   ],
   "source": [
    "df.describe(column).show()"
   ]
  },
  {
   "cell_type": "code",
   "execution_count": 42,
   "metadata": {
    "ExecuteTime": {
     "end_time": "2020-08-29T19:02:41.028547Z",
     "start_time": "2020-08-29T19:02:37.818047Z"
    },
    "hidden": true
   },
   "outputs": [
    {
     "data": {
      "application/vnd.jupyter.widget-view+json": {
       "model_id": "",
       "version_major": 2,
       "version_minor": 0
      },
      "text/plain": [
       "FloatProgress(value=0.0, bar_style='info', description='Progress:', layout=Layout(height='25px', width='50%'),…"
      ]
     },
     "metadata": {},
     "output_type": "display_data"
    },
    {
     "data": {
      "application/vnd.jupyter.widget-view+json": {
       "model_id": "",
       "version_major": 2,
       "version_minor": 0
      },
      "text/plain": [
       "FloatProgress(value=0.0, bar_style='info', description='Progress:', layout=Layout(height='25px', width='50%'),…"
      ]
     },
     "metadata": {},
     "output_type": "display_data"
    }
   ],
   "source": [
    "%%spark -o column_df\n",
    "column_df = df.withColumn(\"is_null\", F.isnull(column)).groupBy(\"is_null\").agg(F.count(\"is_null\").alias(\"count\")).orderBy(F.desc(\"count\"))"
   ]
  },
  {
   "cell_type": "code",
   "execution_count": 43,
   "metadata": {
    "ExecuteTime": {
     "end_time": "2020-08-29T19:02:41.196541Z",
     "start_time": "2020-08-29T19:02:41.031549Z"
    },
    "hidden": true,
    "scrolled": true
   },
   "outputs": [
    {
     "data": {
      "application/vnd.jupyter.widget-view+json": {
       "model_id": "0ef8d1f3cdcb4685a29fa402d9c04764",
       "version_major": 2,
       "version_minor": 0
      },
      "text/plain": [
       "VBox(children=(HBox(children=(HTML(value='Type:'), Button(description='Table', layout=Layout(width='70px'), st…"
      ]
     },
     "metadata": {},
     "output_type": "display_data"
    },
    {
     "data": {
      "application/vnd.jupyter.widget-view+json": {
       "model_id": "ee6e63e15c39484a8bdc9f28a6aaaed9",
       "version_major": 2,
       "version_minor": 0
      },
      "text/plain": [
       "Output()"
      ]
     },
     "metadata": {},
     "output_type": "display_data"
    }
   ],
   "source": [
    "%%local\n",
    "column_df"
   ]
  },
  {
   "cell_type": "code",
   "execution_count": 62,
   "metadata": {
    "ExecuteTime": {
     "end_time": "2020-08-29T19:20:41.019369Z",
     "start_time": "2020-08-29T19:20:34.805975Z"
    },
    "hidden": true
   },
   "outputs": [
    {
     "data": {
      "application/vnd.jupyter.widget-view+json": {
       "model_id": "",
       "version_major": 2,
       "version_minor": 0
      },
      "text/plain": [
       "FloatProgress(value=0.0, bar_style='info', description='Progress:', layout=Layout(height='25px', width='50%'),…"
      ]
     },
     "metadata": {},
     "output_type": "display_data"
    },
    {
     "data": {
      "application/vnd.jupyter.widget-view+json": {
       "model_id": "",
       "version_major": 2,
       "version_minor": 0
      },
      "text/plain": [
       "FloatProgress(value=0.0, bar_style='info', description='Progress:', layout=Layout(height='25px', width='50%'),…"
      ]
     },
     "metadata": {},
     "output_type": "display_data"
    }
   ],
   "source": [
    "%%spark -o counts_df\n",
    "counts_df = df.groupBy(column).agg(F.count(column).alias(\"count\")).orderBy(column)"
   ]
  },
  {
   "cell_type": "code",
   "execution_count": 63,
   "metadata": {
    "ExecuteTime": {
     "end_time": "2020-08-29T19:20:41.179373Z",
     "start_time": "2020-08-29T19:20:41.021416Z"
    },
    "hidden": true
   },
   "outputs": [
    {
     "data": {
      "application/vnd.jupyter.widget-view+json": {
       "model_id": "534bc980531c4ab3969408824fdc03e1",
       "version_major": 2,
       "version_minor": 0
      },
      "text/plain": [
       "VBox(children=(HBox(children=(HTML(value='Type:'), Button(description='Table', layout=Layout(width='70px'), st…"
      ]
     },
     "metadata": {},
     "output_type": "display_data"
    },
    {
     "data": {
      "application/vnd.jupyter.widget-view+json": {
       "model_id": "88c6d9f58ea742a3b3346b2482839162",
       "version_major": 2,
       "version_minor": 0
      },
      "text/plain": [
       "Output()"
      ]
     },
     "metadata": {},
     "output_type": "display_data"
    }
   ],
   "source": [
    "%%local\n",
    "counts_df"
   ]
  },
  {
   "cell_type": "markdown",
   "metadata": {
    "hidden": true
   },
   "source": [
    "### dtadfile\n",
    "Date traveller was added to file. Distribution looks ok"
   ]
  },
  {
   "cell_type": "code",
   "execution_count": 45,
   "metadata": {
    "ExecuteTime": {
     "end_time": "2020-08-29T19:05:25.464825Z",
     "start_time": "2020-08-29T19:05:24.013017Z"
    },
    "hidden": true
   },
   "outputs": [
    {
     "data": {
      "application/vnd.jupyter.widget-view+json": {
       "model_id": "",
       "version_major": 2,
       "version_minor": 0
      },
      "text/plain": [
       "FloatProgress(value=0.0, bar_style='info', description='Progress:', layout=Layout(height='25px', width='50%'),…"
      ]
     },
     "metadata": {},
     "output_type": "display_data"
    }
   ],
   "source": [
    "column = \"dtadfile\""
   ]
  },
  {
   "cell_type": "code",
   "execution_count": 46,
   "metadata": {
    "ExecuteTime": {
     "end_time": "2020-08-29T19:05:34.203631Z",
     "start_time": "2020-08-29T19:05:25.466824Z"
    },
    "hidden": true
   },
   "outputs": [
    {
     "data": {
      "application/vnd.jupyter.widget-view+json": {
       "model_id": "",
       "version_major": 2,
       "version_minor": 0
      },
      "text/plain": [
       "FloatProgress(value=0.0, bar_style='info', description='Progress:', layout=Layout(height='25px', width='50%'),…"
      ]
     },
     "metadata": {},
     "output_type": "display_data"
    },
    {
     "name": "stdout",
     "output_type": "stream",
     "text": [
      "+-------+--------------------+\n",
      "|summary|            dtadfile|\n",
      "+-------+--------------------+\n",
      "|  count|            40659479|\n",
      "|   mean|2.0160697567812737E7|\n",
      "| stddev|  327.44246148196436|\n",
      "|    min|            20081124|\n",
      "|    max|            20170609|\n",
      "+-------+--------------------+"
     ]
    }
   ],
   "source": [
    "df.describe(column).show()"
   ]
  },
  {
   "cell_type": "code",
   "execution_count": 47,
   "metadata": {
    "ExecuteTime": {
     "end_time": "2020-08-29T19:05:38.581961Z",
     "start_time": "2020-08-29T19:05:34.205593Z"
    },
    "hidden": true
   },
   "outputs": [
    {
     "data": {
      "application/vnd.jupyter.widget-view+json": {
       "model_id": "",
       "version_major": 2,
       "version_minor": 0
      },
      "text/plain": [
       "FloatProgress(value=0.0, bar_style='info', description='Progress:', layout=Layout(height='25px', width='50%'),…"
      ]
     },
     "metadata": {},
     "output_type": "display_data"
    },
    {
     "data": {
      "application/vnd.jupyter.widget-view+json": {
       "model_id": "",
       "version_major": 2,
       "version_minor": 0
      },
      "text/plain": [
       "FloatProgress(value=0.0, bar_style='info', description='Progress:', layout=Layout(height='25px', width='50%'),…"
      ]
     },
     "metadata": {},
     "output_type": "display_data"
    }
   ],
   "source": [
    "%%spark -o column_df\n",
    "column_df = df.withColumn(\"is_null\", F.isnull(column)).groupBy(\"is_null\").agg(F.count(\"is_null\").alias(\"count\")).orderBy(F.desc(\"count\"))"
   ]
  },
  {
   "cell_type": "code",
   "execution_count": 48,
   "metadata": {
    "ExecuteTime": {
     "end_time": "2020-08-29T19:05:38.739956Z",
     "start_time": "2020-08-29T19:05:38.583956Z"
    },
    "hidden": true,
    "scrolled": true
   },
   "outputs": [
    {
     "data": {
      "application/vnd.jupyter.widget-view+json": {
       "model_id": "79cf061d5c1643e590bd579f60aba2b5",
       "version_major": 2,
       "version_minor": 0
      },
      "text/plain": [
       "VBox(children=(HBox(children=(HTML(value='Type:'), Button(description='Table', layout=Layout(width='70px'), st…"
      ]
     },
     "metadata": {},
     "output_type": "display_data"
    },
    {
     "data": {
      "application/vnd.jupyter.widget-view+json": {
       "model_id": "c7a90e13e3914c7dac4b6f3b95d169d2",
       "version_major": 2,
       "version_minor": 0
      },
      "text/plain": [
       "Output()"
      ]
     },
     "metadata": {},
     "output_type": "display_data"
    }
   ],
   "source": [
    "%%local\n",
    "column_df"
   ]
  },
  {
   "cell_type": "markdown",
   "metadata": {
    "hidden": true
   },
   "source": [
    "### dtaddto\n",
    "Date the traveller is admitted to"
   ]
  },
  {
   "cell_type": "code",
   "execution_count": 49,
   "metadata": {
    "ExecuteTime": {
     "end_time": "2020-08-29T19:05:40.039708Z",
     "start_time": "2020-08-29T19:05:38.740955Z"
    },
    "hidden": true
   },
   "outputs": [
    {
     "data": {
      "application/vnd.jupyter.widget-view+json": {
       "model_id": "",
       "version_major": 2,
       "version_minor": 0
      },
      "text/plain": [
       "FloatProgress(value=0.0, bar_style='info', description='Progress:', layout=Layout(height='25px', width='50%'),…"
      ]
     },
     "metadata": {},
     "output_type": "display_data"
    }
   ],
   "source": [
    "column = \"dtaddto\""
   ]
  },
  {
   "cell_type": "code",
   "execution_count": 50,
   "metadata": {
    "ExecuteTime": {
     "end_time": "2020-08-29T19:05:48.790943Z",
     "start_time": "2020-08-29T19:05:40.044700Z"
    },
    "hidden": true
   },
   "outputs": [
    {
     "data": {
      "application/vnd.jupyter.widget-view+json": {
       "model_id": "",
       "version_major": 2,
       "version_minor": 0
      },
      "text/plain": [
       "FloatProgress(value=0.0, bar_style='info', description='Progress:', layout=Layout(height='25px', width='50%'),…"
      ]
     },
     "metadata": {},
     "output_type": "display_data"
    },
    {
     "name": "stdout",
     "output_type": "stream",
     "text": [
      "+-------+------------------+\n",
      "|summary|           dtaddto|\n",
      "+-------+------------------+\n",
      "|  count|          40688978|\n",
      "|   mean| 6759393.900854463|\n",
      "| stddev|3592018.9151380444|\n",
      "|    min|          -00-0000|\n",
      "|    max|          `1132017|\n",
      "+-------+------------------+"
     ]
    }
   ],
   "source": [
    "df.describe(column).show()"
   ]
  },
  {
   "cell_type": "code",
   "execution_count": 51,
   "metadata": {
    "ExecuteTime": {
     "end_time": "2020-08-29T19:05:52.907550Z",
     "start_time": "2020-08-29T19:05:48.795950Z"
    },
    "hidden": true
   },
   "outputs": [
    {
     "data": {
      "application/vnd.jupyter.widget-view+json": {
       "model_id": "",
       "version_major": 2,
       "version_minor": 0
      },
      "text/plain": [
       "FloatProgress(value=0.0, bar_style='info', description='Progress:', layout=Layout(height='25px', width='50%'),…"
      ]
     },
     "metadata": {},
     "output_type": "display_data"
    },
    {
     "data": {
      "application/vnd.jupyter.widget-view+json": {
       "model_id": "",
       "version_major": 2,
       "version_minor": 0
      },
      "text/plain": [
       "FloatProgress(value=0.0, bar_style='info', description='Progress:', layout=Layout(height='25px', width='50%'),…"
      ]
     },
     "metadata": {},
     "output_type": "display_data"
    }
   ],
   "source": [
    "%%spark -o column_df\n",
    "column_df = df.withColumn(\"is_null\", F.isnull(column)).groupBy(\"is_null\").agg(F.count(\"is_null\").alias(\"count\")).orderBy(F.desc(\"count\"))"
   ]
  },
  {
   "cell_type": "code",
   "execution_count": 52,
   "metadata": {
    "ExecuteTime": {
     "end_time": "2020-08-29T19:05:53.071551Z",
     "start_time": "2020-08-29T19:05:52.909553Z"
    },
    "hidden": true,
    "scrolled": true
   },
   "outputs": [
    {
     "data": {
      "application/vnd.jupyter.widget-view+json": {
       "model_id": "0acc547e73004fb6917c42b19888174e",
       "version_major": 2,
       "version_minor": 0
      },
      "text/plain": [
       "VBox(children=(HBox(children=(HTML(value='Type:'), Button(description='Table', layout=Layout(width='70px'), st…"
      ]
     },
     "metadata": {},
     "output_type": "display_data"
    },
    {
     "data": {
      "application/vnd.jupyter.widget-view+json": {
       "model_id": "6e85b45c1287479e854f6b93e95f0ea1",
       "version_major": 2,
       "version_minor": 0
      },
      "text/plain": [
       "Output()"
      ]
     },
     "metadata": {},
     "output_type": "display_data"
    }
   ],
   "source": [
    "%%local\n",
    "column_df"
   ]
  },
  {
   "cell_type": "code",
   "execution_count": 53,
   "metadata": {
    "ExecuteTime": {
     "end_time": "2020-08-29T19:06:00.697661Z",
     "start_time": "2020-08-29T19:05:53.073550Z"
    },
    "hidden": true
   },
   "outputs": [
    {
     "data": {
      "application/vnd.jupyter.widget-view+json": {
       "model_id": "",
       "version_major": 2,
       "version_minor": 0
      },
      "text/plain": [
       "FloatProgress(value=0.0, bar_style='info', description='Progress:', layout=Layout(height='25px', width='50%'),…"
      ]
     },
     "metadata": {},
     "output_type": "display_data"
    },
    {
     "data": {
      "application/vnd.jupyter.widget-view+json": {
       "model_id": "",
       "version_major": 2,
       "version_minor": 0
      },
      "text/plain": [
       "FloatProgress(value=0.0, bar_style='info', description='Progress:', layout=Layout(height='25px', width='50%'),…"
      ]
     },
     "metadata": {},
     "output_type": "display_data"
    }
   ],
   "source": [
    "%%spark -o column_df\n",
    "column_df = df.groupBy(column).agg(F.count(column).alias(\"count\")).orderBy(F.desc(\"count\"))"
   ]
  },
  {
   "cell_type": "markdown",
   "metadata": {
    "hidden": true
   },
   "source": [
    "**We Should deal witht the D/S status by splitting it into a separate feature**"
   ]
  },
  {
   "cell_type": "code",
   "execution_count": 54,
   "metadata": {
    "ExecuteTime": {
     "end_time": "2020-08-29T19:06:00.874395Z",
     "start_time": "2020-08-29T19:06:00.698659Z"
    },
    "hidden": true
   },
   "outputs": [
    {
     "data": {
      "application/vnd.jupyter.widget-view+json": {
       "model_id": "bc49fd41a5d7475787c02d3ca6025808",
       "version_major": 2,
       "version_minor": 0
      },
      "text/plain": [
       "VBox(children=(HBox(children=(HTML(value='Type:'), Button(description='Table', layout=Layout(width='70px'), st…"
      ]
     },
     "metadata": {},
     "output_type": "display_data"
    },
    {
     "data": {
      "application/vnd.jupyter.widget-view+json": {
       "model_id": "a2c30a2738fb4d2a93ecb7a17ef864fb",
       "version_major": 2,
       "version_minor": 0
      },
      "text/plain": [
       "Output()"
      ]
     },
     "metadata": {},
     "output_type": "display_data"
    }
   ],
   "source": [
    "%%local\n",
    "column_df"
   ]
  },
  {
   "cell_type": "markdown",
   "metadata": {},
   "source": [
    "# Read the dimension tables"
   ]
  },
  {
   "cell_type": "code",
   "execution_count": 13,
   "metadata": {
    "ExecuteTime": {
     "end_time": "2020-08-30T21:06:59.064635Z",
     "start_time": "2020-08-30T21:06:51.166777Z"
    }
   },
   "outputs": [
    {
     "data": {
      "application/vnd.jupyter.widget-view+json": {
       "model_id": "",
       "version_major": 2,
       "version_minor": 0
      },
      "text/plain": [
       "FloatProgress(value=0.0, bar_style='info', description='Progress:', layout=Layout(height='25px', width='50%'),…"
      ]
     },
     "metadata": {},
     "output_type": "display_data"
    }
   ],
   "source": [
    "gdp_df = spark.read.option(\"header\", True).format(\"csv\").load(f\"{BUCKET_URL}/gdp.csv\")\n",
    "country_ids_df = spark.read.option(\"header\", True).format(\"csv\").load(f\"{BUCKET_URL}/country_ids.csv\")\n",
    "states_df = spark.read.option(\"header\", True).format(\"csv\").load(f\"{BUCKET_URL}/states.csv\")\n",
    "ports_df = spark.read.option(\"header\", True).format(\"csv\").load(f\"{BUCKET_URL}/ports.csv\")"
   ]
  },
  {
   "cell_type": "code",
   "execution_count": 14,
   "metadata": {
    "ExecuteTime": {
     "end_time": "2020-08-30T21:07:02.749508Z",
     "start_time": "2020-08-30T21:07:01.673517Z"
    }
   },
   "outputs": [
    {
     "data": {
      "application/vnd.jupyter.widget-view+json": {
       "model_id": "",
       "version_major": 2,
       "version_minor": 0
      },
      "text/plain": [
       "FloatProgress(value=0.0, bar_style='info', description='Progress:', layout=Layout(height='25px', width='50%'),…"
      ]
     },
     "metadata": {},
     "output_type": "display_data"
    }
   ],
   "source": [
    "country_ids_df_cleaned = (\n",
    "    country_ids_df\n",
    "    .withColumn(\"country_id\", F.col(\"country_id\").cast(IntegerType()))\n",
    "    .withColumn(\"country_name\", F.initcap(F.col(\"country_name\"))) # title case\n",
    "    .withColumn(\"country_name_lower\", F.lower(F.col(\"country_name\")))\n",
    ")"
   ]
  },
  {
   "cell_type": "code",
   "execution_count": 15,
   "metadata": {
    "ExecuteTime": {
     "end_time": "2020-08-30T21:07:07.160382Z",
     "start_time": "2020-08-30T21:07:05.865319Z"
    }
   },
   "outputs": [
    {
     "data": {
      "application/vnd.jupyter.widget-view+json": {
       "model_id": "",
       "version_major": 2,
       "version_minor": 0
      },
      "text/plain": [
       "FloatProgress(value=0.0, bar_style='info', description='Progress:', layout=Layout(height='25px', width='50%'),…"
      ]
     },
     "metadata": {},
     "output_type": "display_data"
    }
   ],
   "source": [
    "gdp_df_cleaned = (\n",
    "    gdp_df\n",
    "    .withColumnRenamed(\"Country Name\", \"country_name\")\n",
    "    .withColumnRenamed(\"Country Code\", \"country_code\")\n",
    "    .withColumnRenamed(\"Value\", \"gdp_value\")\n",
    "    .filter(F.col(\"Year\") == \"2016\")\n",
    "    .withColumn(\"gdp_value\", F.col(\"gdp_value\").cast(FloatType()).cast(LongType()))\n",
    "    .withColumn(\"country_name\", F.initcap(F.col(\"country_name\"))) # title case\n",
    "    .withColumn(\"country_name_lower\", F.lower(F.col(\"country_name\")))\n",
    "    .drop(\"Year\")\n",
    ")"
   ]
  },
  {
   "cell_type": "code",
   "execution_count": 13,
   "metadata": {
    "ExecuteTime": {
     "end_time": "2020-08-30T20:04:35.524113Z",
     "start_time": "2020-08-30T20:04:33.858165Z"
    }
   },
   "outputs": [
    {
     "data": {
      "application/vnd.jupyter.widget-view+json": {
       "model_id": "",
       "version_major": 2,
       "version_minor": 0
      },
      "text/plain": [
       "FloatProgress(value=0.0, bar_style='info', description='Progress:', layout=Layout(height='25px', width='50%'),…"
      ]
     },
     "metadata": {},
     "output_type": "display_data"
    },
    {
     "name": "stdout",
     "output_type": "stream",
     "text": [
      "+-------+--------------------+\n",
      "|port_id|           port_name|\n",
      "+-------+--------------------+\n",
      "|    ALC|           ALCAN, AK|\n",
      "|    ANC|       ANCHORAGE, AK|\n",
      "|    BAR|BAKER AAF - BAKER...|\n",
      "|    DAC|   DALTONS CACHE, AK|\n",
      "|    PIZ|DEW STATION PT LA...|\n",
      "|    DTH|    DUTCH HARBOR, AK|\n",
      "|    EGL|           EAGLE, AK|\n",
      "|    FRB|       FAIRBANKS, AK|\n",
      "|    HOM|           HOMER, AK|\n",
      "|    HYD|           HYDER, AK|\n",
      "|    JUN|          JUNEAU, AK|\n",
      "|    5KE|       KETCHIKAN, AK|\n",
      "|    KET|       KETCHIKAN, AK|\n",
      "|    MOS|MOSES POINT INTER...|\n",
      "|    NIK|         NIKISKI, AK|\n",
      "|    NOM|             NOM, AK|\n",
      "|    PKC|     POKER CREEK, AK|\n",
      "|    ORI|  PORT LIONS SPB, AK|\n",
      "|    SKA|         SKAGWAY, AK|\n",
      "|    SNP| ST. PAUL ISLAND, AK|\n",
      "+-------+--------------------+\n",
      "only showing top 20 rows"
     ]
    }
   ],
   "source": [
    "ports_df.show()"
   ]
  },
  {
   "cell_type": "code",
   "execution_count": 14,
   "metadata": {
    "ExecuteTime": {
     "end_time": "2020-08-30T20:04:37.215539Z",
     "start_time": "2020-08-30T20:04:35.526116Z"
    }
   },
   "outputs": [
    {
     "data": {
      "application/vnd.jupyter.widget-view+json": {
       "model_id": "",
       "version_major": 2,
       "version_minor": 0
      },
      "text/plain": [
       "FloatProgress(value=0.0, bar_style='info', description='Progress:', layout=Layout(height='25px', width='50%'),…"
      ]
     },
     "metadata": {},
     "output_type": "display_data"
    },
    {
     "name": "stdout",
     "output_type": "stream",
     "text": [
      "+--------------------+------------+--------------+--------------------+\n",
      "|        country_name|country_code|     gdp_value|  country_name_lower|\n",
      "+--------------------+------------+--------------+--------------------+\n",
      "|          Arab World|         ARB| 2504702558208|          arab world|\n",
      "|Caribbean Small S...|         CSS|   66707361792|caribbean small s...|\n",
      "|Central Europe An...|         CEB| 1312157728768|central europe an...|\n",
      "|Early-demographic...|         EAR|10401989263360|early-demographic...|\n",
      "| East Asia & Pacific|         EAS|22480427155456| east asia & pacific|\n",
      "|East Asia & Pacif...|         EAP|13512435826688|east asia & pacif...|\n",
      "|East Asia & Pacif...|         TEA|13486491959296|east asia & pacif...|\n",
      "|           Euro Area|         EMU|11934055268352|           euro area|\n",
      "|Europe & Central ...|         ECS|20273841569792|europe & central ...|\n",
      "|Europe & Central ...|         ECA| 2991823781888|europe & central ...|\n",
      "|Europe & Central ...|         TEC| 3463188316160|europe & central ...|\n",
      "|      European Union|         EUU|16487344504832|      european union|\n",
      "|Fragile And Confl...|         FCS|  744250605568|fragile and confl...|\n",
      "|Heavily Indebted ...|         HPC|  648289320960|heavily indebted ...|\n",
      "|         High Income|         HIC|48557461602304|         high income|\n",
      "|           Ibrd Only|         IBD|25981475618816|           ibrd only|\n",
      "|    Ida & Ibrd Total|         IBT|27972820008960|    ida & ibrd total|\n",
      "|           Ida Blend|         IDB|  923605991424|           ida blend|\n",
      "|            Ida Only|         IDX| 1072786505728|            ida only|\n",
      "|           Ida Total|         IDA| 1999807709184|           ida total|\n",
      "+--------------------+------------+--------------+--------------------+\n",
      "only showing top 20 rows"
     ]
    }
   ],
   "source": [
    "gdp_df_cleaned.show()"
   ]
  },
  {
   "cell_type": "markdown",
   "metadata": {},
   "source": [
    "# Cleaning"
   ]
  },
  {
   "cell_type": "code",
   "execution_count": 16,
   "metadata": {
    "ExecuteTime": {
     "end_time": "2020-08-30T21:07:47.022440Z",
     "start_time": "2020-08-30T21:07:45.580898Z"
    }
   },
   "outputs": [
    {
     "data": {
      "application/vnd.jupyter.widget-view+json": {
       "model_id": "",
       "version_major": 2,
       "version_minor": 0
      },
      "text/plain": [
       "FloatProgress(value=0.0, bar_style='info', description='Progress:', layout=Layout(height='25px', width='50%'),…"
      ]
     },
     "metadata": {},
     "output_type": "display_data"
    }
   ],
   "source": [
    "USEFUL_COLUMNS = [\n",
    "    \"admnum\", \"i94yr\", \"i94mon\",\n",
    "    \"arrdate\", \"depdate\", \"dtaddto\",\n",
    "    \"i94cit\", \"i94res\", \"i94port\", \"i94addr\",\n",
    "    \"matflag\", \"i94mode\",\n",
    "    \"i94bir\", \"gender\", \"visatype\", \"i94visa\",\n",
    "    \"entdepa\", \"entdepu\", \"entdepd\"\n",
    "]"
   ]
  },
  {
   "cell_type": "code",
   "execution_count": 17,
   "metadata": {
    "ExecuteTime": {
     "end_time": "2020-08-30T21:07:48.037861Z",
     "start_time": "2020-08-30T21:07:47.024439Z"
    }
   },
   "outputs": [
    {
     "data": {
      "application/vnd.jupyter.widget-view+json": {
       "model_id": "",
       "version_major": 2,
       "version_minor": 0
      },
      "text/plain": [
       "FloatProgress(value=0.0, bar_style='info', description='Progress:', layout=Layout(height='25px', width='50%'),…"
      ]
     },
     "metadata": {},
     "output_type": "display_data"
    }
   ],
   "source": [
    "clean_df = df.select(USEFUL_COLUMNS)"
   ]
  },
  {
   "cell_type": "code",
   "execution_count": 33,
   "metadata": {
    "ExecuteTime": {
     "end_time": "2020-08-30T18:14:29.336610Z",
     "start_time": "2020-08-30T18:14:28.034827Z"
    }
   },
   "outputs": [
    {
     "data": {
      "application/vnd.jupyter.widget-view+json": {
       "model_id": "",
       "version_major": 2,
       "version_minor": 0
      },
      "text/plain": [
       "FloatProgress(value=0.0, bar_style='info', description='Progress:', layout=Layout(height='25px', width='50%'),…"
      ]
     },
     "metadata": {},
     "output_type": "display_data"
    },
    {
     "name": "stdout",
     "output_type": "stream",
     "text": [
      "+-------------+------+------+-------+-------+--------+------+------+-------+-------+-------+-------+------+------+--------+-------+-------+-------+-------+\n",
      "|       admnum| i94yr|i94mon|arrdate|depdate| dtaddto|i94cit|i94res|i94port|i94addr|matflag|i94mode|i94bir|gender|visatype|i94visa|entdepa|entdepu|entdepd|\n",
      "+-------------+------+------+-------+-------+--------+------+------+-------+-------+-------+-------+------+------+--------+-------+-------+-------+-------+\n",
      "|1.897628485E9|2016.0|   4.0|20573.0|   null|10282016| 692.0| 692.0|    XXX|   null|   null|   null|  37.0|  null|      B2|    2.0|      T|      U|   null|\n",
      "| 3.73679633E9|2016.0|   4.0|20551.0|   null|     D/S| 254.0| 276.0|    ATL|     AL|   null|    1.0|  25.0|     M|      F1|    3.0|      G|      Y|   null|\n",
      "+-------------+------+------+-------+-------+--------+------+------+-------+-------+-------+-------+------+------+--------+-------+-------+-------+-------+\n",
      "only showing top 2 rows"
     ]
    }
   ],
   "source": [
    "clean_df.show(2)"
   ]
  },
  {
   "cell_type": "code",
   "execution_count": 18,
   "metadata": {
    "ExecuteTime": {
     "end_time": "2020-08-30T21:07:50.655132Z",
     "start_time": "2020-08-30T21:07:49.360030Z"
    }
   },
   "outputs": [
    {
     "data": {
      "application/vnd.jupyter.widget-view+json": {
       "model_id": "",
       "version_major": 2,
       "version_minor": 0
      },
      "text/plain": [
       "FloatProgress(value=0.0, bar_style='info', description='Progress:', layout=Layout(height='25px', width='50%'),…"
      ]
     },
     "metadata": {},
     "output_type": "display_data"
    }
   ],
   "source": [
    "@udf(DateType())\n",
    "def get_date_from_int(x):\n",
    "    if x is None:\n",
    "        return x\n",
    "    if x < 0:\n",
    "        return datetime.datetime(1900,1,1) # default date for invalid dates\n",
    "    else:\n",
    "        return datetime.datetime(1960, 1, 1) + datetime.timedelta(x)\n",
    "\n",
    "@udf(StringType())\n",
    "def normalize_gender(x):\n",
    "    if x in {\"M\", \"F\"}:\n",
    "        return x\n",
    "    elif x is None:\n",
    "        return None\n",
    "    else:\n",
    "        return \"OTHER\"\n",
    "\n",
    "@udf(BooleanType())\n",
    "def normalize_match_flag(x):\n",
    "    if x == None:\n",
    "        return False\n",
    "    else:\n",
    "        return True\n",
    "\n",
    "@udf(StringType())\n",
    "def normalize_mode(x):\n",
    "    if x == 1:\n",
    "        return \"Air\"\n",
    "    elif x == 2:\n",
    "        return \"Sea\"\n",
    "    elif x == 3:\n",
    "        return \"Land\"\n",
    "    elif x is None:\n",
    "        return None\n",
    "    else:\n",
    "        return \"Other\"\n",
    "    \n",
    "@udf(StringType())\n",
    "def normalize_visa_category(x):\n",
    "    if x == 1:\n",
    "        return \"Business\"\n",
    "    elif x == 2:\n",
    "        return \"Pleasure\"\n",
    "    elif x == 3:\n",
    "        return \"Student\"\n",
    "    elif x is None:\n",
    "        return None\n",
    "    else:\n",
    "        return \"Other\""
   ]
  },
  {
   "cell_type": "code",
   "execution_count": 19,
   "metadata": {
    "ExecuteTime": {
     "end_time": "2020-08-30T21:07:52.523105Z",
     "start_time": "2020-08-30T21:07:51.252015Z"
    }
   },
   "outputs": [
    {
     "data": {
      "application/vnd.jupyter.widget-view+json": {
       "model_id": "",
       "version_major": 2,
       "version_minor": 0
      },
      "text/plain": [
       "FloatProgress(value=0.0, bar_style='info', description='Progress:', layout=Layout(height='25px', width='50%'),…"
      ]
     },
     "metadata": {},
     "output_type": "display_data"
    }
   ],
   "source": [
    "new_df = (\n",
    "    clean_df\n",
    "    .withColumnRenamed('i94yr', 'year')\n",
    "    .withColumnRenamed('i94mon', 'month')\n",
    "    .withColumnRenamed('i94res', 'country_residence_id')\n",
    "    .withColumnRenamed('i94cit', 'country_citizenship_id')\n",
    "    .withColumnRenamed('i94port', 'entry_port')\n",
    "    .withColumnRenamed('i94addr', 'destination_state')\n",
    "    .withColumnRenamed('i94mode', 'travel_mode')\n",
    "    .withColumnRenamed('i94bir', 'age')\n",
    "    .withColumnRenamed('i94visa', 'visa_category')\n",
    "    .withColumnRenamed('visatype', 'visa_type')\n",
    "    .withColumnRenamed('matflag', 'dates_match_flag')\n",
    "    .withColumnRenamed('arrdate', 'arrival_date')\n",
    "    .withColumnRenamed('depdate', 'departure_date')\n",
    "    .withColumnRenamed('dtaddto', 'permitted_date')\n",
    ")"
   ]
  },
  {
   "cell_type": "code",
   "execution_count": 20,
   "metadata": {
    "ExecuteTime": {
     "end_time": "2020-08-30T21:07:53.859786Z",
     "start_time": "2020-08-30T21:07:52.576084Z"
    }
   },
   "outputs": [
    {
     "data": {
      "application/vnd.jupyter.widget-view+json": {
       "model_id": "",
       "version_major": 2,
       "version_minor": 0
      },
      "text/plain": [
       "FloatProgress(value=0.0, bar_style='info', description='Progress:', layout=Layout(height='25px', width='50%'),…"
      ]
     },
     "metadata": {},
     "output_type": "display_data"
    }
   ],
   "source": [
    "same_user_window = Window.partitionBy(\"admnum\").orderBy(\"arrival_date\").rowsBetween(Window.unboundedPreceding, -1)"
   ]
  },
  {
   "cell_type": "code",
   "execution_count": 21,
   "metadata": {
    "ExecuteTime": {
     "end_time": "2020-08-30T21:07:55.144574Z",
     "start_time": "2020-08-30T21:07:53.861822Z"
    }
   },
   "outputs": [
    {
     "data": {
      "application/vnd.jupyter.widget-view+json": {
       "model_id": "",
       "version_major": 2,
       "version_minor": 0
      },
      "text/plain": [
       "FloatProgress(value=0.0, bar_style='info', description='Progress:', layout=Layout(height='25px', width='50%'),…"
      ]
     },
     "metadata": {},
     "output_type": "display_data"
    }
   ],
   "source": [
    "new_df = (\n",
    "    new_df\n",
    "    .withColumn('admnum', F.col(\"admnum\").cast(IntegerType()))\n",
    "    .withColumn('year', F.col(\"year\").cast(IntegerType()))\n",
    "    .withColumn('month', F.col(\"month\").cast(IntegerType()))\n",
    "    .withColumn('unrestricted_stay', F.when(F.col('permitted_date') == 'D/S', True).otherwise(False))\n",
    "    .withColumn('arrival_date', get_date_from_int(F.col(\"arrival_date\")))\n",
    "    .withColumn('departure_date', get_date_from_int(F.col(\"departure_date\")))\n",
    "    .withColumn('permitted_date', F.to_date('permitted_date', 'MMddyyyy'))\n",
    "    .withColumn('age', F.col(\"age\").cast(IntegerType()))\n",
    "    .withColumn('gender', normalize_gender(F.col(\"gender\")))\n",
    "    .withColumn('dates_match_flag', normalize_match_flag(F.col(\"dates_match_flag\")))\n",
    "    .withColumn('travel_mode', normalize_mode(F.col(\"travel_mode\")))\n",
    "    .withColumn('visa_category', normalize_visa_category(F.col(\"visa_category\").cast(IntegerType())))\n",
    "    .withColumn('visa_category', normalize_visa_category(F.col(\"visa_category\").cast(IntegerType())))\n",
    "    .withColumn('country_citizenship_id', F.col(\"country_citizenship_id\").cast(IntegerType()))\n",
    "    .withColumn('country_residence_id', F.col(\"country_residence_id\").cast(IntegerType()))\n",
    "    .withColumn('num_previous_stays', F.count(\"*\").over(same_user_window))\n",
    ")"
   ]
  },
  {
   "cell_type": "code",
   "execution_count": 21,
   "metadata": {
    "ExecuteTime": {
     "end_time": "2020-08-30T20:05:17.847863Z",
     "start_time": "2020-08-30T20:05:16.539901Z"
    }
   },
   "outputs": [
    {
     "data": {
      "application/vnd.jupyter.widget-view+json": {
       "model_id": "",
       "version_major": 2,
       "version_minor": 0
      },
      "text/plain": [
       "FloatProgress(value=0.0, bar_style='info', description='Progress:', layout=Layout(height='25px', width='50%'),…"
      ]
     },
     "metadata": {},
     "output_type": "display_data"
    },
    {
     "name": "stdout",
     "output_type": "stream",
     "text": [
      "root\n",
      " |-- admnum: integer (nullable = true)\n",
      " |-- year: integer (nullable = true)\n",
      " |-- month: integer (nullable = true)\n",
      " |-- arrival_date: date (nullable = true)\n",
      " |-- departure_date: date (nullable = true)\n",
      " |-- permitted_date: date (nullable = true)\n",
      " |-- country_citizenship: integer (nullable = true)\n",
      " |-- country_residence: integer (nullable = true)\n",
      " |-- entry_port: string (nullable = true)\n",
      " |-- destination_state: string (nullable = true)\n",
      " |-- dates_match_flag: boolean (nullable = true)\n",
      " |-- travel_mode: string (nullable = true)\n",
      " |-- age: integer (nullable = true)\n",
      " |-- gender: string (nullable = true)\n",
      " |-- visa_type: string (nullable = true)\n",
      " |-- visa_category: string (nullable = true)\n",
      " |-- entdepa: string (nullable = true)\n",
      " |-- entdepu: string (nullable = true)\n",
      " |-- entdepd: string (nullable = true)\n",
      " |-- unrestricted_stay: boolean (nullable = false)\n",
      " |-- num_previous_stays: long (nullable = false)"
     ]
    }
   ],
   "source": [
    "new_df.printSchema()"
   ]
  },
  {
   "cell_type": "code",
   "execution_count": 91,
   "metadata": {
    "ExecuteTime": {
     "end_time": "2020-08-30T19:30:46.265243Z",
     "start_time": "2020-08-30T19:28:24.330437Z"
    }
   },
   "outputs": [
    {
     "data": {
      "application/vnd.jupyter.widget-view+json": {
       "model_id": "",
       "version_major": 2,
       "version_minor": 0
      },
      "text/plain": [
       "FloatProgress(value=0.0, bar_style='info', description='Progress:', layout=Layout(height='25px', width='50%'),…"
      ]
     },
     "metadata": {},
     "output_type": "display_data"
    },
    {
     "name": "stdout",
     "output_type": "stream",
     "text": [
      "+---------+----+-----+------------+--------------+--------------+-------------------+-----------------+----------+-----------------+----------------+-----------+---+------+---------+-------------+-------+-------+-------+-----------------+------------------+\n",
      "|   admnum|year|month|arrival_date|departure_date|permitted_date|country_citizenship|country_residence|entry_port|destination_state|dates_match_flag|travel_mode|age|gender|visa_type|visa_category|entdepa|entdepu|entdepd|unrestricted_stay|num_previous_stays|\n",
      "+---------+----+-----+------------+--------------+--------------+-------------------+-----------------+----------+-----------------+----------------+-----------+---+------+---------+-------------+-------+-------+-------+-----------------+------------------+\n",
      "|  1302524|2016|    3|  2016-03-04|          null|    2018-03-03|                691|              691|       MIA|               FL|           false|        Air| 31|     F|       E2|         null|      A|   null|   null|            false|                 0|\n",
      "|112108485|2016|    1|  2016-01-25|    2016-02-17|          null|                504|              504|       MIA|               FL|            true|        Air| 25|     F|       F1|         null|      U|   null|      O|             true|                 0|\n",
      "|128226185|2016|    1|  2016-01-23|    2016-04-09|    2016-05-23|                245|              245|       BLA|             null|            true|       Land| 71|     M|       B2|         null|      Z|   null|      K|            false|                 0|\n",
      "|128226185|2016|    4|  2016-04-09|    2016-05-21|    2016-05-23|                245|              245|       BLA|             null|            true|       Land| 71|     M|       B2|         null|      Z|   null|      O|            false|                 1|\n",
      "|157149885|2016|    1|  2016-01-18|          null|          null|                268|              268|       SFR|               CA|           false|        Air| 32|     F|       F1|         null|      U|   null|   null|             true|                 0|\n",
      "|157194785|2016|    1|  2016-01-16|    2016-03-17|          null|                368|              368|       NYC|               OH|            true|        Air| 24|     M|       F1|         null|      U|   null|      I|             true|                 0|\n",
      "|160400285|2016|    1|  2016-01-01|          null|          null|                696|              696|       MIA|               OH|           false|        Air| 30|     M|       F1|         null|      U|   null|   null|             true|                 0|\n",
      "|184485728|2016|   12|  2016-12-19|          null|    2017-06-20|                135|              135|       NYC|               NY|           false|        Air| 47|     M|       B2|         null|      A|   null|   null|            false|                 0|\n",
      "|191769585|2016|    1|  2016-01-17|    2016-02-05|    2016-06-09|                260|              260|       PHU|             null|            true|       Land| 66|     F|       B2|         null|      Z|   null|      O|            false|                 0|\n",
      "|197610585|2016|    3|  2016-03-22|    2016-07-01|    2016-12-10|                464|              464|       AND|               CA|            true|       Land| 45|     M|       B2|         null|      Z|   null|      I|            false|                 0|\n",
      "+---------+----+-----+------------+--------------+--------------+-------------------+-----------------+----------+-----------------+----------------+-----------+---+------+---------+-------------+-------+-------+-------+-----------------+------------------+\n",
      "only showing top 10 rows"
     ]
    }
   ],
   "source": [
    "new_df.show(10)"
   ]
  },
  {
   "cell_type": "code",
   "execution_count": 22,
   "metadata": {
    "ExecuteTime": {
     "end_time": "2020-08-30T21:07:59.465733Z",
     "start_time": "2020-08-30T21:07:58.402169Z"
    }
   },
   "outputs": [
    {
     "data": {
      "application/vnd.jupyter.widget-view+json": {
       "model_id": "",
       "version_major": 2,
       "version_minor": 0
      },
      "text/plain": [
       "FloatProgress(value=0.0, bar_style='info', description='Progress:', layout=Layout(height='25px', width='50%'),…"
      ]
     },
     "metadata": {},
     "output_type": "display_data"
    }
   ],
   "source": [
    "joined_df = (\n",
    "    new_df\n",
    "    .alias(\"immigration\")\n",
    "    .join(country_ids_df_cleaned.alias(\"cit_df\"), F.col(\"immigration.country_citizenship\") == F.col(\"cit_df.country_id\"), \"leftouter\")\n",
    "    .join(country_ids_df_cleaned.alias(\"res_df\"), F.col(\"immigration.country_residence\") == F.col(\"res_df.country_id\"), \"leftouter\")\n",
    "    .join(ports_df.alias(\"port_df\"), F.col(\"immigration.entry_port\") == F.col(\"port_df.port_id\"), \"leftouter\")\n",
    "    .selectExpr(\"immigration.*\", \"cit_df.country_name as cit_country\", \"res_df.country_name as res_country\", \"port_df.port_name\")\n",
    ")"
   ]
  },
  {
   "cell_type": "code",
   "execution_count": 172,
   "metadata": {
    "ExecuteTime": {
     "end_time": "2020-08-30T13:46:29.364339Z",
     "start_time": "2020-08-30T13:46:26.780144Z"
    }
   },
   "outputs": [
    {
     "data": {
      "application/vnd.jupyter.widget-view+json": {
       "model_id": "",
       "version_major": 2,
       "version_minor": 0
      },
      "text/plain": [
       "FloatProgress(value=0.0, bar_style='info', description='Progress:', layout=Layout(height='25px', width='50%'),…"
      ]
     },
     "metadata": {},
     "output_type": "display_data"
    },
    {
     "name": "stdout",
     "output_type": "stream",
     "text": [
      "+----+-----+------------+--------------+--------------+-------------------+-----------------+----------+-----------------+----------------+-----------+---+------+---------+-------------+-------+-----------+-----------+--------------------+\n",
      "|year|month|arrival_date|departure_date|permitted_date|country_citizenship|country_residence|entry_port|destination_state|dates_match_flag|travel_mode|age|gender|visa_type|visa_category|entdepu|cit_country|res_country|           port_name|\n",
      "+----+-----+------------+--------------+--------------+-------------------+-----------------+----------+-----------------+----------------+-----------+---+------+---------+-------------+-------+-----------+-----------+--------------------+\n",
      "|2016|    4|  2016-04-29|          null|    2016-10-28|                692|              692|       XXX|             null|           false|       null| 37|  null|       B2|         null|      U|    Ecuador|    Ecuador|NOT REPORTED/UNKN...|\n",
      "|2016|    4|  2016-04-07|          null|          null|                254|              276|       ATL|               AL|           false|        Air| 25|     M|       F1|         null|      Y|       null|South Korea|         ATLANTA, GA|\n",
      "|2016|    4|  2016-04-01|    2016-08-25|    2016-09-30|                101|              101|       WAS|               MI|            true|        Air| 55|     M|       B2|         null|   null|    Albania|    Albania|       WASHINGTON DC|\n",
      "|2016|    4|  2016-04-01|    2016-04-23|    2016-09-30|                101|              101|       NYC|               MA|            true|        Air| 28|  null|       B2|         null|   null|    Albania|    Albania|        NEW YORK, NY|\n",
      "|2016|    4|  2016-04-01|    2016-04-23|    2016-09-30|                101|              101|       NYC|               MA|            true|        Air|  4|  null|       B2|         null|   null|    Albania|    Albania|        NEW YORK, NY|\n",
      "|2016|    4|  2016-04-01|    2016-04-11|    2016-09-30|                101|              101|       NYC|               MI|            true|        Air| 57|  null|       B1|         null|   null|    Albania|    Albania|        NEW YORK, NY|\n",
      "|2016|    4|  2016-04-01|    2016-04-14|    2016-09-30|                101|              101|       NYC|               NJ|            true|        Air| 63|  null|       B2|         null|   null|    Albania|    Albania|        NEW YORK, NY|\n",
      "|2016|    4|  2016-04-01|    2016-04-14|    2016-09-30|                101|              101|       NYC|               NJ|            true|        Air| 57|  null|       B2|         null|   null|    Albania|    Albania|        NEW YORK, NY|\n",
      "|2016|    4|  2016-04-01|    2016-04-09|    2016-09-30|                101|              101|       NYC|               NY|            true|        Air| 46|  null|       B2|         null|   null|    Albania|    Albania|        NEW YORK, NY|\n",
      "|2016|    4|  2016-04-01|    2016-04-18|    2016-09-30|                101|              101|       NYC|               NY|            true|        Air| 48|  null|       B1|         null|   null|    Albania|    Albania|        NEW YORK, NY|\n",
      "|2016|    4|  2016-04-01|    2016-08-05|    2016-09-30|                101|              101|       NYC|               NY|            true|        Air| 52|  null|       B2|         null|   null|    Albania|    Albania|        NEW YORK, NY|\n",
      "|2016|    4|  2016-04-01|    2016-04-10|    2016-09-30|                101|              101|       TOR|               MO|            true|        Air| 33|  null|       B2|         null|   null|    Albania|    Albania|     TORONTO, CANADA|\n",
      "|2016|    4|  2016-04-01|    2016-04-05|    2016-04-06|                101|              101|       BOS|               MA|            true|        Air| 58|     M|       B1|         null|   null|    Albania|    Albania|          BOSTON, MA|\n",
      "|2016|    4|  2016-04-01|    2016-04-05|    2016-04-06|                101|              101|       ATL|               MA|            true|        Air| 56|     F|       B1|         null|   null|    Albania|    Albania|         ATLANTA, GA|\n",
      "|2016|    4|  2016-04-01|    2016-04-17|    2016-09-30|                101|              101|       ATL|               MA|            true|        Air| 62|     M|       B2|         null|   null|    Albania|    Albania|         ATLANTA, GA|\n",
      "|2016|    4|  2016-04-01|    2016-05-04|    2016-09-30|                101|              101|       ATL|               NJ|            true|        Air| 49|     M|       B2|         null|   null|    Albania|    Albania|         ATLANTA, GA|\n",
      "|2016|    4|  2016-04-01|    2016-06-06|    2016-09-30|                101|              101|       ATL|               NY|            true|        Air| 43|     M|       B2|         null|   null|    Albania|    Albania|         ATLANTA, GA|\n",
      "|2016|    4|  2016-04-01|    2016-04-10|    2016-09-30|                101|              101|       HOU|               TX|            true|        Air| 53|     F|       B2|         null|   null|    Albania|    Albania|         HOUSTON, TX|\n",
      "|2016|    4|  2016-04-01|          null|    2016-09-30|                101|              101|       NYC|               CT|           false|        Air| 48|     M|       B2|         null|   null|    Albania|    Albania|        NEW YORK, NY|\n",
      "|2016|    4|  2016-04-01|          null|    2016-09-30|                101|              101|       NYC|               CT|           false|        Air| 74|     F|       B2|         null|   null|    Albania|    Albania|        NEW YORK, NY|\n",
      "+----+-----+------------+--------------+--------------+-------------------+-----------------+----------+-----------------+----------------+-----------+---+------+---------+-------------+-------+-----------+-----------+--------------------+\n",
      "only showing top 20 rows"
     ]
    }
   ],
   "source": [
    "joined_df.show()"
   ]
  },
  {
   "cell_type": "markdown",
   "metadata": {},
   "source": [
    "We have a lot of invalid citizenship countries"
   ]
  },
  {
   "cell_type": "code",
   "execution_count": 156,
   "metadata": {
    "ExecuteTime": {
     "end_time": "2020-08-30T12:47:15.978915Z",
     "start_time": "2020-08-30T12:47:13.171658Z"
    }
   },
   "outputs": [
    {
     "data": {
      "application/vnd.jupyter.widget-view+json": {
       "model_id": "",
       "version_major": 2,
       "version_minor": 0
      },
      "text/plain": [
       "FloatProgress(value=0.0, bar_style='info', description='Progress:', layout=Layout(height='25px', width='50%'),…"
      ]
     },
     "metadata": {},
     "output_type": "display_data"
    },
    {
     "name": "stdout",
     "output_type": "stream",
     "text": [
      "5017037"
     ]
    }
   ],
   "source": [
    "joined_df[~F.isnull(F.col(\"country_citizenship\")) & F.isnull(F.col(\"cit_country\"))].count()"
   ]
  },
  {
   "cell_type": "markdown",
   "metadata": {},
   "source": [
    "We don't have any invalid residence countries"
   ]
  },
  {
   "cell_type": "code",
   "execution_count": 157,
   "metadata": {
    "ExecuteTime": {
     "end_time": "2020-08-30T12:47:45.574162Z",
     "start_time": "2020-08-30T12:47:43.252176Z"
    }
   },
   "outputs": [
    {
     "data": {
      "application/vnd.jupyter.widget-view+json": {
       "model_id": "",
       "version_major": 2,
       "version_minor": 0
      },
      "text/plain": [
       "FloatProgress(value=0.0, bar_style='info', description='Progress:', layout=Layout(height='25px', width='50%'),…"
      ]
     },
     "metadata": {},
     "output_type": "display_data"
    },
    {
     "name": "stdout",
     "output_type": "stream",
     "text": [
      "0"
     ]
    }
   ],
   "source": [
    "joined_df[~F.isnull(F.col(\"country_residence\")) & F.isnull(F.col(\"res_country\"))].count()"
   ]
  },
  {
   "cell_type": "markdown",
   "metadata": {},
   "source": [
    "We have a relatively small number of invalid ports"
   ]
  },
  {
   "cell_type": "code",
   "execution_count": 158,
   "metadata": {
    "ExecuteTime": {
     "end_time": "2020-08-30T12:49:29.856561Z",
     "start_time": "2020-08-30T12:49:24.554357Z"
    }
   },
   "outputs": [
    {
     "data": {
      "application/vnd.jupyter.widget-view+json": {
       "model_id": "",
       "version_major": 2,
       "version_minor": 0
      },
      "text/plain": [
       "FloatProgress(value=0.0, bar_style='info', description='Progress:', layout=Layout(height='25px', width='50%'),…"
      ]
     },
     "metadata": {},
     "output_type": "display_data"
    },
    {
     "name": "stdout",
     "output_type": "stream",
     "text": [
      "41128"
     ]
    }
   ],
   "source": [
    "joined_df[~F.isnull(F.col(\"entry_port\")) & F.isnull(F.col(\"port_name\"))].count()"
   ]
  },
  {
   "cell_type": "markdown",
   "metadata": {
    "heading_collapsed": true
   },
   "source": [
    "### Defining the label for our ML Problem\n",
    "\n",
    "The ML Problem is to figure out if the passenger will overstay his permit. "
   ]
  },
  {
   "cell_type": "markdown",
   "metadata": {
    "hidden": true
   },
   "source": [
    "Just because your `departure_date` > `permitted_date` doesn't mean that you overstayed"
   ]
  },
  {
   "cell_type": "code",
   "execution_count": 37,
   "metadata": {
    "ExecuteTime": {
     "end_time": "2020-08-30T21:38:42.112618Z",
     "start_time": "2020-08-30T21:38:38.833384Z"
    },
    "hidden": true
   },
   "outputs": [
    {
     "data": {
      "application/vnd.jupyter.widget-view+json": {
       "model_id": "",
       "version_major": 2,
       "version_minor": 0
      },
      "text/plain": [
       "FloatProgress(value=0.0, bar_style='info', description='Progress:', layout=Layout(height='25px', width='50%'),…"
      ]
     },
     "metadata": {},
     "output_type": "display_data"
    },
    {
     "name": "stdout",
     "output_type": "stream",
     "text": [
      "84717"
     ]
    }
   ],
   "source": [
    "label_df[\n",
    "    (label_df.dates_match_flag == True) &\n",
    "    (label_df.unrestricted_stay == False) &\n",
    "    (label_df.departure_date > label_df.permitted_date) &\n",
    "    (F.isnull(label_df.entdepu))\n",
    "].count()"
   ]
  },
  {
   "cell_type": "markdown",
   "metadata": {
    "hidden": true
   },
   "source": [
    "Let's see what relying on just the `dates_match_flag` will give us"
   ]
  },
  {
   "cell_type": "code",
   "execution_count": 23,
   "metadata": {
    "ExecuteTime": {
     "end_time": "2020-08-30T21:08:07.791780Z",
     "start_time": "2020-08-30T21:08:06.536757Z"
    },
    "hidden": true
   },
   "outputs": [
    {
     "data": {
      "application/vnd.jupyter.widget-view+json": {
       "model_id": "",
       "version_major": 2,
       "version_minor": 0
      },
      "text/plain": [
       "FloatProgress(value=0.0, bar_style='info', description='Progress:', layout=Layout(height='25px', width='50%'),…"
      ]
     },
     "metadata": {},
     "output_type": "display_data"
    }
   ],
   "source": [
    "label_df = joined_df.select([\n",
    "    \"admnum\", \"year\", \"month\", \n",
    "    \"arrival_date\", \"departure_date\", \"permitted_date\", \"unrestricted_stay\", \n",
    "    \"cit_country\", \"res_country\", \n",
    "    \"entdepa\", \"entdepu\", \"entdepd\", \n",
    "    \"visa_type\", \"dates_match_flag\"\n",
    "])"
   ]
  },
  {
   "cell_type": "code",
   "execution_count": 24,
   "metadata": {
    "ExecuteTime": {
     "end_time": "2020-08-30T21:08:09.941353Z",
     "start_time": "2020-08-30T21:08:07.792755Z"
    },
    "hidden": true
   },
   "outputs": [
    {
     "data": {
      "application/vnd.jupyter.widget-view+json": {
       "model_id": "",
       "version_major": 2,
       "version_minor": 0
      },
      "text/plain": [
       "FloatProgress(value=0.0, bar_style='info', description='Progress:', layout=Layout(height='25px', width='50%'),…"
      ]
     },
     "metadata": {},
     "output_type": "display_data"
    }
   ],
   "source": [
    "label_df = label_df.repartition(8).cache()"
   ]
  },
  {
   "cell_type": "code",
   "execution_count": 25,
   "metadata": {
    "ExecuteTime": {
     "end_time": "2020-08-30T20:09:47.509303Z",
     "start_time": "2020-08-30T20:05:40.478391Z"
    },
    "hidden": true
   },
   "outputs": [
    {
     "data": {
      "application/vnd.jupyter.widget-view+json": {
       "model_id": "",
       "version_major": 2,
       "version_minor": 0
      },
      "text/plain": [
       "FloatProgress(value=0.0, bar_style='info', description='Progress:', layout=Layout(height='25px', width='50%'),…"
      ]
     },
     "metadata": {},
     "output_type": "display_data"
    },
    {
     "name": "stdout",
     "output_type": "stream",
     "text": [
      "3219581"
     ]
    }
   ],
   "source": [
    "label_df[\n",
    "    (label_df.dates_match_flag == False)\n",
    "].count()"
   ]
  },
  {
   "cell_type": "markdown",
   "metadata": {
    "hidden": true
   },
   "source": [
    "Can the dates match even if there is no departure date? Apparently yes"
   ]
  },
  {
   "cell_type": "code",
   "execution_count": 29,
   "metadata": {
    "ExecuteTime": {
     "end_time": "2020-08-30T18:03:41.161093Z",
     "start_time": "2020-08-30T18:02:51.406634Z"
    },
    "hidden": true
   },
   "outputs": [
    {
     "data": {
      "application/vnd.jupyter.widget-view+json": {
       "model_id": "",
       "version_major": 2,
       "version_minor": 0
      },
      "text/plain": [
       "FloatProgress(value=0.0, bar_style='info', description='Progress:', layout=Layout(height='25px', width='50%'),…"
      ]
     },
     "metadata": {},
     "output_type": "display_data"
    },
    {
     "name": "stdout",
     "output_type": "stream",
     "text": [
      "88526"
     ]
    }
   ],
   "source": [
    "label_df[\n",
    "    (label_df.dates_match_flag == True) &\n",
    "    (F.isnull(label_df.departure_date))\n",
    "].count()"
   ]
  },
  {
   "cell_type": "code",
   "execution_count": 26,
   "metadata": {
    "ExecuteTime": {
     "end_time": "2020-08-30T20:09:58.382613Z",
     "start_time": "2020-08-30T20:09:56.447909Z"
    },
    "hidden": true
   },
   "outputs": [
    {
     "data": {
      "application/vnd.jupyter.widget-view+json": {
       "model_id": "",
       "version_major": 2,
       "version_minor": 0
      },
      "text/plain": [
       "FloatProgress(value=0.0, bar_style='info', description='Progress:', layout=Layout(height='25px', width='50%'),…"
      ]
     },
     "metadata": {},
     "output_type": "display_data"
    },
    {
     "name": "stdout",
     "output_type": "stream",
     "text": [
      "+----------+----+-----+------------+--------------+--------------+-----------------+-----------+--------------+-------+-------+-------+---------+----------------+\n",
      "|    admnum|year|month|arrival_date|departure_date|permitted_date|unrestricted_stay|cit_country|   res_country|entdepa|entdepu|entdepd|visa_type|dates_match_flag|\n",
      "+----------+----+-----+------------+--------------+--------------+-----------------+-----------+--------------+-------+-------+-------+---------+----------------+\n",
      "|2147483647|2016|    4|  2016-04-29|          null|    2016-07-28|            false|     France|        France|      A|   null|      W|       WT|            true|\n",
      "|2147483647|2016|    4|  2016-04-26|          null|    2016-05-01|            false|     Sweden|        Sweden|      Z|   null|      W|       WT|            true|\n",
      "| 672542985|2016|    4|  2016-04-02|          null|    2016-10-01|            false|      Chile|         Chile|      U|   null|      W|       B2|            true|\n",
      "|2147483647|2016|    4|  2016-04-05|          null|    2016-07-04|            false|  Australia|     Australia|      A|   null|      W|       WT|            true|\n",
      "|2147483647|2016|    4|  2016-04-05|          null|    2016-07-04|            false|  Australia|     Australia|      A|   null|      W|       WT|            true|\n",
      "|2147483647|2016|    4|  2016-04-05|          null|    2016-07-04|            false|  Australia|     Australia|      A|   null|      W|       WT|            true|\n",
      "|2147483647|2016|    4|  2016-04-29|          null|    2016-07-28|            false|       null|United Kingdom|      A|   null|      W|       WT|            true|\n",
      "|2147483647|2016|    4|  2016-04-26|          null|    2016-07-24|            false|  Singapore|     Singapore|      Z|   null|      V|       WT|            true|\n",
      "|2147483647|2016|    4|  2016-04-21|          null|    2016-07-19|            false|       null|United Kingdom|      A|   null|      W|       WT|            true|\n",
      "|2147483647|2016|    4|  2016-04-30|          null|    2016-07-28|            false|       null|   South Korea|      A|   null|      W|       WT|            true|\n",
      "|2147483647|2016|    4|  2016-04-11|          null|    2016-07-04|            false|       null|United Kingdom|      A|   null|      W|       WT|            true|\n",
      "|2147483647|2016|    4|  2016-04-05|          null|    2016-06-04|            false|       null|United Kingdom|      A|   null|      W|       WT|            true|\n",
      "|2147483647|2016|    4|  2016-04-05|          null|    2016-06-04|            false|       null|United Kingdom|      A|   null|      W|       WT|            true|\n",
      "|2147483647|2016|    4|  2016-04-05|          null|    2016-06-04|            false|       null|United Kingdom|      A|   null|      W|       WT|            true|\n",
      "|2147483647|2016|    4|  2016-04-05|          null|    2016-06-04|            false|       null|United Kingdom|      A|   null|      W|       WT|            true|\n",
      "|2147483647|2016|    4|  2016-04-05|          null|    2016-06-04|            false|       null|United Kingdom|      A|   null|      W|       WT|            true|\n",
      "|2147483647|2016|    4|  2016-04-08|          null|    2016-07-06|            false|     France|        France|      A|   null|      W|       WT|            true|\n",
      "|2147483647|2016|    4|  2016-04-08|          null|    2016-07-06|            false|     France|        France|      A|   null|      W|       WT|            true|\n",
      "|2147483647|2016|    4|  2016-04-28|          null|    2016-07-26|            false|     France|        France|      A|   null|      W|       WT|            true|\n",
      "|2147483647|2016|    4|  2016-04-29|          null|    2016-10-28|            false|    Ukraine|       Ukraine|      Z|   null|      W|       B2|            true|\n",
      "|2147483647|2016|    4|  2016-04-05|          null|    2016-07-04|            false|    Ireland|       Ireland|      A|   null|      W|       WT|            true|\n",
      "|2147483647|2016|    4|  2016-04-23|          null|    2016-07-22|            false|    Germany|       Germany|      A|   null|      W|       WT|            true|\n",
      "|2147483647|2016|    4|  2016-04-01|          null|    2016-06-29|            false|       null|   South Korea|      Z|   null|      W|       WT|            true|\n",
      "|2147483647|2016|    4|  2016-04-15|          null|    2016-07-13|            false|       null|       Austria|      Z|   null|      W|       WT|            true|\n",
      "|2147483647|2016|    4|  2016-04-04|          null|    2016-07-03|            false|      Italy|         Italy|      A|   null|      W|       WB|            true|\n",
      "|2147483647|2016|    4|  2016-04-10|          null|    2016-07-08|            false|     France|        France|      A|   null|      W|       WT|            true|\n",
      "|2147483647|2016|    4|  2016-04-07|          null|    2016-07-05|            false|       null|United Kingdom|      A|   null|      W|       WT|            true|\n",
      "|2147483647|2016|    4|  2016-04-23|          null|    2016-07-21|            false|New Zealand|     Australia|      A|   null|      W|       WT|            true|\n",
      "|2147483647|2016|    4|  2016-04-04|          null|    2016-06-13|            false|       null|         India|      Z|   null|      W|       B1|            true|\n",
      "|2147483647|2016|    4|  2016-04-05|          null|    2016-10-04|            false|  Hong Kong|     Hong Kong|      A|   null|      W|       B2|            true|\n",
      "|2147483647|2016|    4|  2016-04-01|          null|    2016-06-30|            false|     France|        France|      A|   null|      W|       WT|            true|\n",
      "|2147483647|2016|    4|  2016-04-23|          null|    2016-07-22|            false|     Sweden|        Sweden|      A|   null|      W|       WT|            true|\n",
      "|2147483647|2016|    4|  2016-04-05|          null|    2016-07-04|            false|       null|United Kingdom|      A|   null|      D|       WT|            true|\n",
      "|2147483647|2016|    4|  2016-04-02|          null|    2016-05-26|            false|     France|        France|      A|   null|      V|       WT|            true|\n",
      "|2147483647|2016|    4|  2016-04-11|          null|    2016-07-09|            false|     France|        France|      A|   null|      W|       WT|            true|\n",
      "|2147483647|2016|    4|  2016-04-15|          null|    2016-07-13|            false|     France|        France|      A|   null|      W|       WT|            true|\n",
      "|2147483647|2016|    4|  2016-04-11|          null|    2016-07-09|            false|    Denmark|       Denmark|      A|   null|      D|       WT|            true|\n",
      "|2147483647|2016|    4|  2016-04-23|          null|    2016-07-21|            false|  Australia|     Australia|      A|   null|      W|      GMT|            true|\n",
      "|2147483647|2016|    4|  2016-04-11|          null|    2016-07-09|            false|    Denmark|       Denmark|      A|   null|      W|       WT|            true|\n",
      "|2147483647|2016|    4|  2016-04-28|          null|    2016-07-26|            false|       null|United Kingdom|      A|   null|      W|       WT|            true|\n",
      "|2147483647|2016|    4|  2016-04-10|          null|    2016-09-12|            false|       null|         India|      Z|   null|      W|       B2|            true|\n",
      "|2147483647|2016|    4|  2016-04-06|          null|    2016-07-04|            false|     France|        France|      A|   null|      W|       WT|            true|\n",
      "|2147483647|2016|    4|  2016-04-18|          null|    2016-07-16|            false|Netherlands|   Netherlands|      A|   null|      W|       WB|            true|\n",
      "|2147483647|2016|    4|  2016-04-17|          null|    2016-04-21|            false|Netherlands|   Netherlands|      Z|   null|      W|       WT|            true|\n",
      "|2147483647|2016|    4|  2016-04-23|          null|    2016-07-21|            false|       null|United Kingdom|      A|   null|      W|       WT|            true|\n",
      "|2147483647|2016|    4|  2016-04-25|          null|    2016-07-23|            false|     France|        France|      A|   null|      W|       WT|            true|\n",
      "|2147483647|2016|    4|  2016-04-05|          null|    2016-07-04|            false|       null|United Kingdom|      A|   null|      W|       WT|            true|\n",
      "|2147483647|2016|    4|  2016-04-05|          null|    2016-07-04|            false|       null|United Kingdom|      A|   null|      W|       WT|            true|\n",
      "|2147483647|2016|    4|  2016-04-05|          null|    2016-07-04|            false|       null|United Kingdom|      A|   null|      W|       WT|            true|\n",
      "|2147483647|2016|    4|  2016-04-05|          null|    2016-07-04|            false|       null|United Kingdom|      A|   null|      W|       WT|            true|\n",
      "|2147483647|2016|    4|  2016-04-05|          null|    2016-07-04|            false|       null|United Kingdom|      A|   null|      W|       WT|            true|\n",
      "|2147483647|2016|    4|  2016-04-05|          null|    2016-07-04|            false|       null|United Kingdom|      A|   null|      W|       WT|            true|\n",
      "|2147483647|2016|    4|  2016-04-05|          null|    2016-07-04|            false|       null|United Kingdom|      A|   null|      W|       WT|            true|\n",
      "|2147483647|2016|    4|  2016-04-05|          null|    2016-07-04|            false|       null|United Kingdom|      A|   null|      W|       WT|            true|\n",
      "|2147483647|2016|    4|  2016-04-05|          null|    2016-07-04|            false|       null|United Kingdom|      A|   null|      W|       WT|            true|\n",
      "|2147483647|2016|    4|  2016-04-05|          null|    2016-07-04|            false|       null|United Kingdom|      A|   null|      W|       WT|            true|\n",
      "|2147483647|2016|    4|  2016-04-05|          null|    2016-07-04|            false|       null|United Kingdom|      A|   null|      W|       WT|            true|\n",
      "|2147483647|2016|    4|  2016-04-05|          null|    2016-07-04|            false|       null|United Kingdom|      A|   null|      W|       WT|            true|\n",
      "|2147483647|2016|    4|  2016-04-05|          null|    2016-07-04|            false|       null|United Kingdom|      A|   null|      W|       WT|            true|\n",
      "|2147483647|2016|    4|  2016-04-05|          null|    2016-07-04|            false|       null|United Kingdom|      A|   null|      W|       WT|            true|\n",
      "|2147483647|2016|    4|  2016-04-05|          null|    2016-07-04|            false|       null|United Kingdom|      A|   null|      W|       WT|            true|\n",
      "|2147483647|2016|    4|  2016-04-05|          null|    2016-07-04|            false|       null|United Kingdom|      A|   null|      W|       WT|            true|\n",
      "|2147483647|2016|    4|  2016-04-05|          null|    2016-07-04|            false|       null|United Kingdom|      A|   null|      W|       WT|            true|\n",
      "|2147483647|2016|    4|  2016-04-05|          null|    2016-07-04|            false|       null|United Kingdom|      A|   null|      W|       WT|            true|\n",
      "|2147483647|2016|    4|  2016-04-05|          null|    2016-07-04|            false|       null|United Kingdom|      A|   null|      W|       WT|            true|\n",
      "|2147483647|2016|    4|  2016-04-05|          null|    2016-07-04|            false|       null|United Kingdom|      A|   null|      W|       WT|            true|\n",
      "|2147483647|2016|    4|  2016-04-05|          null|    2016-07-04|            false|       null|United Kingdom|      A|   null|      W|       WT|            true|\n",
      "|2147483647|2016|    4|  2016-04-05|          null|    2016-07-04|            false|       null|United Kingdom|      A|   null|      W|       WT|            true|\n",
      "|2147483647|2016|    4|  2016-04-05|          null|    2016-10-04|            false|       null|United Kingdom|      A|   null|      W|       B2|            true|\n",
      "|2147483647|2016|    4|  2016-04-17|          null|    2016-07-15|            false|Netherlands|   Netherlands|      Z|   null|      W|       WT|            true|\n",
      "|2147483647|2016|    4|  2016-04-13|          null|    2016-07-11|            false|  Australia|     Australia|      A|   null|      W|       WT|            true|\n",
      "|2147483647|2016|    4|  2016-04-15|          null|    2016-07-13|            false|Switzerland|   Switzerland|      A|   null|      W|       WT|            true|\n",
      "|2147483647|2016|    4|  2016-04-05|          null|    2016-10-04|            false|      China|         China|      Z|   null|      W|       B2|            true|\n",
      "|2147483647|2016|    4|  2016-04-23|          null|    2016-07-21|            false|  Australia|     Australia|      A|   null|      W|       WT|            true|\n",
      "|2147483647|2016|    4|  2016-04-23|          null|    2016-07-21|            false|  Australia|     Australia|      A|   null|      W|       WT|            true|\n",
      "|2147483647|2016|    4|  2016-04-23|          null|    2016-07-21|            false|  Australia|     Australia|      A|   null|      W|       WT|            true|\n",
      "|2147483647|2016|    4|  2016-04-23|          null|    2016-07-21|            false|  Australia|     Australia|      A|   null|      W|       WT|            true|\n",
      "|2147483647|2016|    4|  2016-04-23|          null|    2016-07-21|            false|  Australia|     Australia|      A|   null|      W|       WT|            true|\n",
      "|2147483647|2016|    4|  2016-04-23|          null|    2016-07-21|            false|  Australia|     Australia|      A|   null|      W|       WT|            true|\n",
      "|2147483647|2016|    4|  2016-04-23|          null|    2016-07-21|            false|  Australia|     Australia|      A|   null|      W|       WT|            true|\n",
      "|2147483647|2016|    4|  2016-04-23|          null|    2016-07-21|            false|  Australia|     Australia|      A|   null|      W|       WT|            true|\n",
      "|2147483647|2016|    4|  2016-04-23|          null|    2016-07-21|            false|  Australia|     Australia|      A|   null|      W|       WT|            true|\n",
      "|2147483647|2016|    4|  2016-04-23|          null|    2016-07-21|            false|  Australia|     Australia|      A|   null|      W|       WT|            true|\n",
      "|2147483647|2016|    4|  2016-04-23|          null|    2016-07-21|            false|  Australia|     Australia|      A|   null|      W|       WT|            true|\n",
      "|2147483647|2016|    4|  2016-04-23|          null|    2016-07-21|            false|  Australia|     Australia|      A|   null|      W|       WT|            true|\n",
      "|2147483647|2016|    4|  2016-04-23|          null|    2016-07-21|            false|  Australia|     Australia|      A|   null|      W|       WT|            true|\n",
      "|2147483647|2016|    4|  2016-04-23|          null|    2016-07-21|            false|  Australia|     Australia|      A|   null|      W|       WT|            true|\n",
      "|2147483647|2016|    4|  2016-04-23|          null|    2016-07-21|            false|  Australia|     Australia|      A|   null|      W|       WT|            true|\n",
      "|2147483647|2016|    4|  2016-04-23|          null|    2016-07-21|            false|  Australia|     Australia|      A|   null|      W|       WT|            true|\n",
      "|2147483647|2016|    4|  2016-04-23|          null|    2016-07-21|            false|  Australia|     Australia|      A|   null|      W|       WT|            true|\n",
      "|2147483647|2016|    4|  2016-04-23|          null|    2016-07-21|            false|  Australia|     Australia|      A|   null|      W|       WT|            true|\n",
      "|2147483647|2016|    4|  2016-04-23|          null|    2016-07-21|            false|  Australia|     Australia|      A|   null|      W|       WT|            true|\n",
      "|2147483647|2016|    4|  2016-04-23|          null|    2016-07-21|            false|  Australia|     Australia|      A|   null|      W|       WT|            true|\n",
      "|2147483647|2016|    4|  2016-04-23|          null|    2016-07-21|            false|  Australia|     Australia|      A|   null|      W|       WT|            true|\n",
      "|2147483647|2016|    4|  2016-04-23|          null|    2016-07-21|            false|  Australia|     Australia|      A|   null|      W|       WT|            true|\n",
      "|2147483647|2016|    4|  2016-04-23|          null|    2016-07-21|            false|  Australia|     Australia|      A|   null|      W|       WT|            true|\n",
      "|2147483647|2016|    4|  2016-04-23|          null|    2016-07-21|            false|  Australia|     Australia|      A|   null|      W|       WT|            true|\n",
      "|2147483647|2016|    4|  2016-04-23|          null|    2016-07-21|            false|  Australia|     Australia|      A|   null|      W|       WT|            true|\n",
      "|2147483647|2016|    4|  2016-04-23|          null|    2016-07-21|            false|  Australia|     Australia|      A|   null|      W|       WT|            true|\n",
      "|2147483647|2016|    4|  2016-04-23|          null|    2016-07-21|            false|  Australia|     Australia|      A|   null|      W|       WT|            true|\n",
      "+----------+----+-----+------------+--------------+--------------+-----------------+-----------+--------------+-------+-------+-------+---------+----------------+\n",
      "only showing top 100 rows"
     ]
    }
   ],
   "source": [
    "label_df[\n",
    "    (label_df.dates_match_flag == True) &\n",
    "    (F.isnull(label_df.departure_date))\n",
    "].show(100)"
   ]
  },
  {
   "cell_type": "markdown",
   "metadata": {
    "hidden": true
   },
   "source": [
    "Let's see if the `entdepd` flag would serve as a surrogate for departing? Yes"
   ]
  },
  {
   "cell_type": "code",
   "execution_count": 38,
   "metadata": {
    "ExecuteTime": {
     "end_time": "2020-08-30T20:33:46.425837Z",
     "start_time": "2020-08-30T20:33:44.280136Z"
    },
    "hidden": true,
    "scrolled": true
   },
   "outputs": [
    {
     "data": {
      "application/vnd.jupyter.widget-view+json": {
       "model_id": "",
       "version_major": 2,
       "version_minor": 0
      },
      "text/plain": [
       "FloatProgress(value=0.0, bar_style='info', description='Progress:', layout=Layout(height='25px', width='50%'),…"
      ]
     },
     "metadata": {},
     "output_type": "display_data"
    },
    {
     "name": "stdout",
     "output_type": "stream",
     "text": [
      "0"
     ]
    }
   ],
   "source": [
    "label_df[\n",
    "    (label_df.dates_match_flag == True) &\n",
    "    (F.isnull(label_df.departure_date)) &\n",
    "    (F.isnull(label_df.entdepd))\n",
    "].count()"
   ]
  },
  {
   "cell_type": "markdown",
   "metadata": {
    "hidden": true
   },
   "source": [
    "This means that for `dates_match_flag` = True, the passenger will always have departed"
   ]
  },
  {
   "cell_type": "markdown",
   "metadata": {
    "hidden": true
   },
   "source": [
    "#### Dates not matching"
   ]
  },
  {
   "cell_type": "code",
   "execution_count": 35,
   "metadata": {
    "ExecuteTime": {
     "end_time": "2020-08-30T20:19:06.465166Z",
     "start_time": "2020-08-30T20:19:04.128897Z"
    },
    "hidden": true
   },
   "outputs": [
    {
     "data": {
      "application/vnd.jupyter.widget-view+json": {
       "model_id": "",
       "version_major": 2,
       "version_minor": 0
      },
      "text/plain": [
       "FloatProgress(value=0.0, bar_style='info', description='Progress:', layout=Layout(height='25px', width='50%'),…"
      ]
     },
     "metadata": {},
     "output_type": "display_data"
    },
    {
     "name": "stdout",
     "output_type": "stream",
     "text": [
      "3219581"
     ]
    }
   ],
   "source": [
    "label_df[\n",
    "    (label_df.dates_match_flag == False)\n",
    "].count()"
   ]
  },
  {
   "cell_type": "markdown",
   "metadata": {
    "hidden": true
   },
   "source": [
    "**Can we trust the match flag = False only?**"
   ]
  },
  {
   "cell_type": "markdown",
   "metadata": {
    "hidden": true
   },
   "source": [
    "##### Unrestricted Stays"
   ]
  },
  {
   "cell_type": "markdown",
   "metadata": {
    "hidden": true
   },
   "source": [
    "Let's see what happens for unrestricted stays (D/S permission dates)"
   ]
  },
  {
   "cell_type": "markdown",
   "metadata": {
    "hidden": true
   },
   "source": [
    "Non-matching unrestricted"
   ]
  },
  {
   "cell_type": "code",
   "execution_count": 39,
   "metadata": {
    "ExecuteTime": {
     "end_time": "2020-08-30T20:36:09.862992Z",
     "start_time": "2020-08-30T20:36:07.530372Z"
    },
    "hidden": true
   },
   "outputs": [
    {
     "data": {
      "application/vnd.jupyter.widget-view+json": {
       "model_id": "",
       "version_major": 2,
       "version_minor": 0
      },
      "text/plain": [
       "FloatProgress(value=0.0, bar_style='info', description='Progress:', layout=Layout(height='25px', width='50%'),…"
      ]
     },
     "metadata": {},
     "output_type": "display_data"
    },
    {
     "name": "stdout",
     "output_type": "stream",
     "text": [
      "1019714"
     ]
    }
   ],
   "source": [
    "label_df[\n",
    "    (label_df.dates_match_flag == False) &\n",
    "    (label_df.unrestricted_stay == True)\n",
    "].count()"
   ]
  },
  {
   "cell_type": "markdown",
   "metadata": {
    "hidden": true
   },
   "source": [
    "Only very few of those unrestricted stays who don't match, actually departed"
   ]
  },
  {
   "cell_type": "code",
   "execution_count": 42,
   "metadata": {
    "ExecuteTime": {
     "end_time": "2020-08-30T20:39:46.403479Z",
     "start_time": "2020-08-30T20:39:44.481035Z"
    },
    "hidden": true
   },
   "outputs": [
    {
     "data": {
      "application/vnd.jupyter.widget-view+json": {
       "model_id": "",
       "version_major": 2,
       "version_minor": 0
      },
      "text/plain": [
       "FloatProgress(value=0.0, bar_style='info', description='Progress:', layout=Layout(height='25px', width='50%'),…"
      ]
     },
     "metadata": {},
     "output_type": "display_data"
    },
    {
     "name": "stdout",
     "output_type": "stream",
     "text": [
      "24"
     ]
    }
   ],
   "source": [
    "label_df[\n",
    "    (label_df.dates_match_flag == False) &\n",
    "    (label_df.unrestricted_stay == True) &\n",
    "    (~F.isnull(label_df.departure_date))\n",
    "].count()"
   ]
  },
  {
   "cell_type": "code",
   "execution_count": 43,
   "metadata": {
    "ExecuteTime": {
     "end_time": "2020-08-30T20:40:00.365169Z",
     "start_time": "2020-08-30T20:39:55.404027Z"
    },
    "hidden": true
   },
   "outputs": [
    {
     "data": {
      "application/vnd.jupyter.widget-view+json": {
       "model_id": "",
       "version_major": 2,
       "version_minor": 0
      },
      "text/plain": [
       "FloatProgress(value=0.0, bar_style='info', description='Progress:', layout=Layout(height='25px', width='50%'),…"
      ]
     },
     "metadata": {},
     "output_type": "display_data"
    },
    {
     "name": "stdout",
     "output_type": "stream",
     "text": [
      "+----------+----+-----+------------+--------------+--------------+-----------------+--------------------+--------------------+-------+-------+-------+---------+----------------+\n",
      "|    admnum|year|month|arrival_date|departure_date|permitted_date|unrestricted_stay|         cit_country|         res_country|entdepa|entdepu|entdepd|visa_type|dates_match_flag|\n",
      "+----------+----+-----+------------+--------------+--------------+-----------------+--------------------+--------------------+-------+-------+-------+---------+----------------+\n",
      "|1638408985|2016|    7|  2016-07-03|    2016-08-27|          null|             true|         Switzerland|         Switzerland|      Z|      U|      O|       F1|           false|\n",
      "|2147483647|2016|    7|  2016-07-24|    2016-08-13|          null|             true|              Brazil|              Brazil|      G|      U|      Q|       F1|           false|\n",
      "|2147483647|2016|    7|  2016-07-26|    2016-08-09|          null|             true|                null|         South Korea|      G|      U|      N|       F1|           false|\n",
      "|2147483647|2016|    7|  2016-07-30|    2016-08-12|          null|             true|               Japan|               Japan|      Z|      U|      J|       F1|           false|\n",
      "|2147483647|2016|    7|  2016-07-25|    2016-08-18|          null|             true|             Vietnam|             Vietnam|      G|      U|      I|       F1|           false|\n",
      "|2147483647|2016|    7|  2016-07-24|    2016-08-16|          null|             true|                Iran|                Iran|      G|      U|      I|       F1|           false|\n",
      "|1643837385|2016|    7|  2016-07-03|    2016-08-13|          null|             true|               China|               China|      T|      U|      O|       F1|           false|\n",
      "|2147483647|2016|    7|  2016-07-20|    2016-08-10|          null|             true|             Nigeria|             Nigeria|      T|      U|      N|       F1|           false|\n",
      "|1641731885|2016|    7|  2016-07-03|    2016-08-01|          null|             true|Mexico Air Sea, A...|Mexico Air Sea, A...|      T|      U|      O|       F1|           false|\n",
      "|2147483647|2016|    7|  2016-07-30|    2016-08-20|          null|             true|         Netherlands|         Netherlands|      T|      U|      O|       F1|           false|\n",
      "|1937219285|2016|    7|  2016-07-15|    2016-08-27|          null|             true|                null|         South Korea|      T|      U|      O|       F2|           false|\n",
      "|2147483647|2016|    7|  2016-07-23|    2016-08-31|          null|             true|              France|              France|      T|      U|      O|       F1|           false|\n",
      "|1828708985|2016|    7|  2016-07-09|    2016-08-21|          null|             true|           Venezuela|           Venezuela|      T|      U|      O|       F1|           false|\n",
      "|1550319085|2016|    6|  2016-06-29|    2016-08-12|          null|             true|                null|              Turkey|      T|      U|      O|       F1|           false|\n",
      "|2147483647|2016|    8|  2016-08-04|    2016-09-06|          null|             true|               China|               China|      G|      U|      O|       F1|           false|\n",
      "|2147483647|2016|    8|  2016-08-09|    2016-09-19|          null|             true|             Romania|             Romania|      Z|   null|      N|       F1|           false|\n",
      "|2147483647|2016|    7|  2016-07-24|    2016-08-07|          null|             true|Mexico Air Sea, A...|Mexico Air Sea, A...|      T|      U|      O|       F1|           false|\n",
      "|2147483647|2016|    7|  2016-07-24|    2016-08-20|          null|             true|Mexico Air Sea, A...|Mexico Air Sea, A...|      T|      U|      O|       F1|           false|\n",
      "|2147483647|2016|    7|  2016-07-25|    2016-08-05|          null|             true|               Italy|               Italy|      T|      U|      O|       F1|           false|\n",
      "|1521934485|2016|    6|  2016-06-28|    2016-09-04|          null|             true|            Malaysia|Mayotte (africa -...|      T|      U|      O|       F1|           false|\n",
      "+----------+----+-----+------------+--------------+--------------+-----------------+--------------------+--------------------+-------+-------+-------+---------+----------------+\n",
      "only showing top 20 rows"
     ]
    }
   ],
   "source": [
    "label_df[\n",
    "    (label_df.dates_match_flag == False) &\n",
    "    (label_df.unrestricted_stay == True) &\n",
    "    (~F.isnull(label_df.departure_date))\n",
    "].show()"
   ]
  },
  {
   "cell_type": "markdown",
   "metadata": {
    "hidden": true
   },
   "source": [
    "Matching unrestricted"
   ]
  },
  {
   "cell_type": "code",
   "execution_count": 49,
   "metadata": {
    "ExecuteTime": {
     "end_time": "2020-08-30T21:54:25.932257Z",
     "start_time": "2020-08-30T21:54:23.815311Z"
    },
    "hidden": true
   },
   "outputs": [
    {
     "data": {
      "application/vnd.jupyter.widget-view+json": {
       "model_id": "",
       "version_major": 2,
       "version_minor": 0
      },
      "text/plain": [
       "FloatProgress(value=0.0, bar_style='info', description='Progress:', layout=Layout(height='25px', width='50%'),…"
      ]
     },
     "metadata": {},
     "output_type": "display_data"
    },
    {
     "name": "stdout",
     "output_type": "stream",
     "text": [
      "573322"
     ]
    }
   ],
   "source": [
    "label_df[\n",
    "    (label_df.dates_match_flag == True) &\n",
    "    (label_df.unrestricted_stay == True)\n",
    "].count()"
   ]
  },
  {
   "cell_type": "markdown",
   "metadata": {
    "hidden": true
   },
   "source": [
    "How many of those matching unrestricted actually departed (and that's why they are matching)"
   ]
  },
  {
   "cell_type": "code",
   "execution_count": 61,
   "metadata": {
    "ExecuteTime": {
     "end_time": "2020-08-30T22:03:07.385017Z",
     "start_time": "2020-08-30T22:03:05.057951Z"
    },
    "hidden": true
   },
   "outputs": [
    {
     "data": {
      "application/vnd.jupyter.widget-view+json": {
       "model_id": "",
       "version_major": 2,
       "version_minor": 0
      },
      "text/plain": [
       "FloatProgress(value=0.0, bar_style='info', description='Progress:', layout=Layout(height='25px', width='50%'),…"
      ]
     },
     "metadata": {},
     "output_type": "display_data"
    },
    {
     "name": "stdout",
     "output_type": "stream",
     "text": [
      "+----------+------+\n",
      "|did_depart| count|\n",
      "+----------+------+\n",
      "|      true|573217|\n",
      "|     false|   105|\n",
      "+----------+------+"
     ]
    }
   ],
   "source": [
    "label_df[\n",
    "    (label_df.dates_match_flag == True) &\n",
    "    (label_df.unrestricted_stay == True)\n",
    "].groupBy(\n",
    "    (~(F.isnull(F.col(\"departure_date\")))).alias(\"did_depart\")\n",
    ").count().show()"
   ]
  },
  {
   "cell_type": "markdown",
   "metadata": {
    "hidden": true
   },
   "source": [
    "Let's see who those 105 are\n",
    "\n",
    "Ok, they all have the `entdepd` flag, so they actually departed"
   ]
  },
  {
   "cell_type": "code",
   "execution_count": 56,
   "metadata": {
    "ExecuteTime": {
     "end_time": "2020-08-30T21:59:31.689670Z",
     "start_time": "2020-08-30T21:59:28.697419Z"
    },
    "hidden": true
   },
   "outputs": [
    {
     "data": {
      "application/vnd.jupyter.widget-view+json": {
       "model_id": "",
       "version_major": 2,
       "version_minor": 0
      },
      "text/plain": [
       "FloatProgress(value=0.0, bar_style='info', description='Progress:', layout=Layout(height='25px', width='50%'),…"
      ]
     },
     "metadata": {},
     "output_type": "display_data"
    },
    {
     "name": "stdout",
     "output_type": "stream",
     "text": [
      "+----------+----+-----+------------+--------------+--------------+-----------------+--------------+--------------+-------+-------+-------+---------+----------------+\n",
      "|    admnum|year|month|arrival_date|departure_date|permitted_date|unrestricted_stay|   cit_country|   res_country|entdepa|entdepu|entdepd|visa_type|dates_match_flag|\n",
      "+----------+----+-----+------------+--------------+--------------+-----------------+--------------+--------------+-------+-------+-------+---------+----------------+\n",
      "|2147483647|2016|    1|  2016-01-18|          null|          null|             true|     Hong Kong|     Hong Kong|      Z|   null|      W|       F1|            true|\n",
      "|2147483647|2016|   11|  2016-11-17|          null|          null|             true|         China|         China|      Z|   null|      W|       F1|            true|\n",
      "|2147483647|2016|   11|  2016-11-27|          null|          null|             true|         China|         China|      Z|   null|      W|       F1|            true|\n",
      "|2147483647|2016|    9|  2016-09-04|          null|          null|             true|United Kingdom|United Kingdom|      Z|   null|      W|       F1|            true|\n",
      "|2147483647|2016|    9|  2016-09-14|          null|          null|             true|          Iran|          Iran|      Z|   null|      W|       F1|            true|\n",
      "|2147483647|2016|    6|  2016-06-18|          null|          null|             true|         China|         China|      Z|   null|      W|       F1|            true|\n",
      "|2147483647|2016|    8|  2016-08-15|          null|          null|             true|   Netherlands|   Netherlands|      Z|   null|      W|       F1|            true|\n",
      "|2147483647|2016|    8|  2016-08-14|          null|          null|             true|         China|         China|      Z|   null|      W|       F1|            true|\n",
      "|2147483647|2016|   11|  2016-11-27|          null|          null|             true|United Kingdom|United Kingdom|      Z|   null|      W|       F1|            true|\n",
      "|2147483647|2016|   10|  2016-10-06|          null|          null|             true|         China|         China|      Z|   null|      W|       F1|            true|\n",
      "|2147483647|2016|   10|  2016-10-07|          null|          null|             true|         China|         China|      Z|   null|      W|       F1|            true|\n",
      "|2147483647|2016|    9|  2016-09-14|          null|          null|             true|     Hong Kong|     Hong Kong|      Z|   null|      W|       F1|            true|\n",
      "|2147483647|2016|   10|  2016-10-30|          null|          null|             true|         India|         India|      Z|   null|      W|       F1|            true|\n",
      "|2147483647|2016|    9|  2016-09-05|          null|          null|             true|          null|   South Korea|      Z|      U|      W|       F1|            true|\n",
      "|2147483647|2016|    9|  2016-09-26|          null|          null|             true|     Venezuela|     Venezuela|      Z|   null|      W|       F1|            true|\n",
      "|2147483647|2016|    9|  2016-09-01|          null|          null|             true|          null|   South Korea|      Z|   null|      W|       F1|            true|\n",
      "|2147483647|2016|   11|  2016-11-25|          null|          null|             true|         China|         China|      Z|   null|      W|       F1|            true|\n",
      "|2147483647|2016|   12|  2016-12-30|          null|          null|             true|     Hong Kong|     Hong Kong|      Z|   null|      W|       F1|            true|\n",
      "|2147483647|2016|    4|  2016-04-10|          null|          null|             true|         China|         China|      Z|   null|      W|       F1|            true|\n",
      "|2147483647|2016|    9|  2016-09-04|          null|          null|             true|         China|         China|      Z|   null|      W|       F1|            true|\n",
      "+----------+----+-----+------------+--------------+--------------+-----------------+--------------+--------------+-------+-------+-------+---------+----------------+\n",
      "only showing top 20 rows"
     ]
    }
   ],
   "source": [
    "label_df[\n",
    "    (label_df.dates_match_flag == True) &\n",
    "    (label_df.unrestricted_stay == True) &\n",
    "    (F.isnull(label_df.departure_date))\n",
    "].show()"
   ]
  },
  {
   "cell_type": "markdown",
   "metadata": {
    "hidden": true
   },
   "source": [
    "Let's try again"
   ]
  },
  {
   "cell_type": "code",
   "execution_count": 63,
   "metadata": {
    "ExecuteTime": {
     "end_time": "2020-08-30T22:04:30.120373Z",
     "start_time": "2020-08-30T22:04:27.357522Z"
    },
    "hidden": true
   },
   "outputs": [
    {
     "data": {
      "application/vnd.jupyter.widget-view+json": {
       "model_id": "",
       "version_major": 2,
       "version_minor": 0
      },
      "text/plain": [
       "FloatProgress(value=0.0, bar_style='info', description='Progress:', layout=Layout(height='25px', width='50%'),…"
      ]
     },
     "metadata": {},
     "output_type": "display_data"
    },
    {
     "name": "stdout",
     "output_type": "stream",
     "text": [
      "+----------+------+\n",
      "|did_depart| count|\n",
      "+----------+------+\n",
      "|      true|573322|\n",
      "+----------+------+"
     ]
    }
   ],
   "source": [
    "label_df[\n",
    "    (label_df.dates_match_flag == True) &\n",
    "    (label_df.unrestricted_stay == True)\n",
    "].groupBy(\n",
    "    (\n",
    "        (~(F.isnull(F.col(\"departure_date\")))) | \n",
    "        (~(F.isnull(F.col(\"entdepd\"))))\n",
    "    ).alias(\"did_depart\")\n",
    ").count().show()"
   ]
  },
  {
   "cell_type": "markdown",
   "metadata": {
    "hidden": true
   },
   "source": [
    "So for unrestricted stays, this flag is not reliable, because we don't know if there is no match because the passenger actually overstayed after his Status expired, or if there is no match because he is still in the country"
   ]
  },
  {
   "cell_type": "markdown",
   "metadata": {
    "hidden": true
   },
   "source": [
    "**This means that we for all unrestricted stays, our overstay flag will be = False**"
   ]
  },
  {
   "cell_type": "markdown",
   "metadata": {
    "hidden": true
   },
   "source": [
    "##### Restricted Stays"
   ]
  },
  {
   "cell_type": "code",
   "execution_count": 43,
   "metadata": {
    "ExecuteTime": {
     "end_time": "2020-08-30T21:43:03.209408Z",
     "start_time": "2020-08-30T21:43:01.377757Z"
    },
    "hidden": true
   },
   "outputs": [
    {
     "data": {
      "application/vnd.jupyter.widget-view+json": {
       "model_id": "",
       "version_major": 2,
       "version_minor": 0
      },
      "text/plain": [
       "FloatProgress(value=0.0, bar_style='info', description='Progress:', layout=Layout(height='25px', width='50%'),…"
      ]
     },
     "metadata": {},
     "output_type": "display_data"
    },
    {
     "name": "stdout",
     "output_type": "stream",
     "text": [
      "2199867"
     ]
    }
   ],
   "source": [
    "label_df[\n",
    "    (label_df.dates_match_flag == False) &\n",
    "    (label_df.unrestricted_stay == False)\n",
    "].count()"
   ]
  },
  {
   "cell_type": "code",
   "execution_count": 40,
   "metadata": {
    "ExecuteTime": {
     "end_time": "2020-08-30T20:36:49.958680Z",
     "start_time": "2020-08-30T20:36:48.230218Z"
    },
    "hidden": true
   },
   "outputs": [
    {
     "data": {
      "application/vnd.jupyter.widget-view+json": {
       "model_id": "",
       "version_major": 2,
       "version_minor": 0
      },
      "text/plain": [
       "FloatProgress(value=0.0, bar_style='info', description='Progress:', layout=Layout(height='25px', width='50%'),…"
      ]
     },
     "metadata": {},
     "output_type": "display_data"
    },
    {
     "name": "stdout",
     "output_type": "stream",
     "text": [
      "+----------+----+-----+------------+--------------+--------------+-----------------+------------+------------+-------+-------+-------+---------+----------------+\n",
      "|    admnum|year|month|arrival_date|departure_date|permitted_date|unrestricted_stay| cit_country| res_country|entdepa|entdepu|entdepd|visa_type|dates_match_flag|\n",
      "+----------+----+-----+------------+--------------+--------------+-----------------+------------+------------+-------+-------+-------+---------+----------------+\n",
      "|2147483647|2016|    4|  2016-04-19|          null|          null|             true|     Nigeria|     Nigeria|      U|   null|   null|       F1|           false|\n",
      "| 878004585|2016|    4|  2016-04-23|          null|          null|             true|       China|       China|      T|   null|   null|       F1|           false|\n",
      "|2147483647|2016|    4|  2016-04-21|          null|          null|             true|       Italy|       Italy|      G|   null|   null|        I|           false|\n",
      "|2147483647|2016|    4|  2016-04-23|          null|          null|             true|     Tunisia|     Tunisia|      G|   null|   null|       F1|           false|\n",
      "|2147483647|2016|    4|  2016-04-19|          null|          null|             true|      Taiwan|      Taiwan|      G|   null|   null|       F1|           false|\n",
      "| 839107685|2016|    4|  2016-04-20|          null|          null|             true|Saudi Arabia|Saudi Arabia|      T|   null|   null|       F1|           false|\n",
      "|2147483647|2016|    4|  2016-04-19|          null|          null|             true|    Thailand|    Thailand|      G|   null|   null|       F1|           false|\n",
      "|2147483647|2016|    4|  2016-04-21|          null|          null|             true|       China|       China|      G|   null|   null|        I|           false|\n",
      "|2147483647|2016|    4|  2016-04-22|          null|          null|             true|       Nepal|       Nepal|      G|   null|   null|       F1|           false|\n",
      "|2147483647|2016|    4|  2016-04-23|          null|          null|             true|Saudi Arabia|Saudi Arabia|      G|   null|   null|       F2|           false|\n",
      "| 876087885|2016|    4|  2016-04-22|          null|          null|             true|Sierra Leone|Sierra Leone|      T|   null|   null|       F1|           false|\n",
      "|2147483647|2016|    4|  2016-04-23|          null|          null|             true|      Brazil|      Brazil|      G|   null|   null|       F2|           false|\n",
      "|2147483647|2016|    4|  2016-04-22|          null|          null|             true|       Japan|       Japan|      G|   null|   null|       F1|           false|\n",
      "|2147483647|2016|    4|  2016-04-19|          null|          null|             true|     Nigeria|     Nigeria|      G|   null|   null|       F1|           false|\n",
      "|2147483647|2016|    4|  2016-04-21|          null|          null|             true|     Vietnam|     Vietnam|      G|   null|   null|       F1|           false|\n",
      "| 849436685|2016|    4|  2016-04-22|          null|          null|             true|       India|       India|      T|   null|   null|       F1|           false|\n",
      "|2147483647|2016|    4|  2016-04-22|          null|          null|             true|       Italy|       Italy|      G|   null|   null|       F1|           false|\n",
      "|2147483647|2016|    4|  2016-04-22|          null|          null|             true|    Colombia|    Colombia|      G|   null|   null|       F1|           false|\n",
      "| 849165285|2016|    4|  2016-04-21|          null|          null|             true|       China|       China|      T|   null|   null|       F1|           false|\n",
      "|2147483647|2016|    4|  2016-04-21|          null|          null|             true|      Taiwan|      Taiwan|      G|   null|   null|       F1|           false|\n",
      "+----------+----+-----+------------+--------------+--------------+-----------------+------------+------------+-------+-------+-------+---------+----------------+\n",
      "only showing top 20 rows"
     ]
    }
   ],
   "source": [
    "label_df[\n",
    "    (label_df.dates_match_flag == False) &\n",
    "    (label_df.unrestricted_stay == True)\n",
    "].show()"
   ]
  },
  {
   "cell_type": "markdown",
   "metadata": {
    "hidden": true
   },
   "source": [
    "Out of the people who do not match and have restricted stays, very rarely do people actually depart, **those are the ones we are most interested in**, the overstayers"
   ]
  },
  {
   "cell_type": "code",
   "execution_count": 68,
   "metadata": {
    "ExecuteTime": {
     "end_time": "2020-08-30T22:12:39.509553Z",
     "start_time": "2020-08-30T22:12:36.902518Z"
    },
    "hidden": true
   },
   "outputs": [
    {
     "data": {
      "application/vnd.jupyter.widget-view+json": {
       "model_id": "",
       "version_major": 2,
       "version_minor": 0
      },
      "text/plain": [
       "FloatProgress(value=0.0, bar_style='info', description='Progress:', layout=Layout(height='25px', width='50%'),…"
      ]
     },
     "metadata": {},
     "output_type": "display_data"
    },
    {
     "name": "stdout",
     "output_type": "stream",
     "text": [
      "2413"
     ]
    }
   ],
   "source": [
    "label_df[\n",
    "    (label_df.dates_match_flag == False) &\n",
    "    (label_df.unrestricted_stay == False) &\n",
    "    ((~(F.isnull(label_df.departure_date))) | (~(F.isnull(label_df.entdepd))) )\n",
    "].count()"
   ]
  },
  {
   "cell_type": "code",
   "execution_count": 70,
   "metadata": {
    "ExecuteTime": {
     "end_time": "2020-08-30T22:14:15.938201Z",
     "start_time": "2020-08-30T22:14:13.819312Z"
    },
    "hidden": true
   },
   "outputs": [
    {
     "data": {
      "application/vnd.jupyter.widget-view+json": {
       "model_id": "",
       "version_major": 2,
       "version_minor": 0
      },
      "text/plain": [
       "FloatProgress(value=0.0, bar_style='info', description='Progress:', layout=Layout(height='25px', width='50%'),…"
      ]
     },
     "metadata": {},
     "output_type": "display_data"
    },
    {
     "name": "stdout",
     "output_type": "stream",
     "text": [
      "+----------+----+-----+------------+--------------+--------------+-----------------+--------------+--------------+-------+-------+-------+---------+----------------+\n",
      "|    admnum|year|month|arrival_date|departure_date|permitted_date|unrestricted_stay|   cit_country|   res_country|entdepa|entdepu|entdepd|visa_type|dates_match_flag|\n",
      "+----------+----+-----+------------+--------------+--------------+-----------------+--------------+--------------+-------+-------+-------+---------+----------------+\n",
      "|2147483647|2016|    8|  2016-08-02|          null|    2016-10-30|            false|          null|United Kingdom|      A|   null|      W|       WT|           false|\n",
      "|2147483647|2016|    8|  2016-08-01|          null|    2016-10-29|            false|          null|United Kingdom|      A|   null|      W|       WT|           false|\n",
      "|2147483647|2016|    8|  2016-08-03|          null|    2016-10-31|            false|          null|United Kingdom|      A|   null|      W|       WT|           false|\n",
      "|2147483647|2016|    8|  2016-08-01|          null|    2016-10-29|            false|        Norway|        Norway|      A|   null|      W|       WT|           false|\n",
      "|2147483647|2016|    8|  2016-08-02|          null|    2016-10-30|            false|        France|        France|      A|   null|      W|       WT|           false|\n",
      "|2147483647|2016|    7|  2016-07-07|          null|    2016-10-03|            false|          null|United Kingdom|      A|   null|      W|       WT|           false|\n",
      "|2147483647|2016|    7|  2016-07-07|          null|    2016-10-04|            false|   Netherlands|   Netherlands|      A|   null|      W|       WT|           false|\n",
      "|2147483647|2016|    7|  2016-07-06|          null|    2016-10-03|            false|        France|        France|      A|   null|      W|       WT|           false|\n",
      "|2147483647|2016|    7|  2016-07-08|          null|    2016-10-05|            false|        France|        France|      A|   null|      W|       WT|           false|\n",
      "|2147483647|2016|    7|  2016-07-05|          null|    2016-10-02|            false|         Spain|         Spain|      A|   null|      W|       WT|           false|\n",
      "|2147483647|2016|    7|  2016-07-07|          null|    2016-10-04|            false|   Switzerland|   Switzerland|      A|   null|      W|       WT|           false|\n",
      "|2147483647|2016|    7|  2016-07-08|          null|    2016-10-05|            false|       Belgium|       Belgium|      A|   null|      W|       WT|           false|\n",
      "|2147483647|2016|    7|  2016-07-07|          null|    2016-10-04|            false|        France|        France|      A|   null|      W|       WT|           false|\n",
      "|2147483647|2016|    7|  2016-07-05|          null|    2016-10-02|            false|          null|United Kingdom|      A|   null|      W|       WT|           false|\n",
      "|2147483647|2016|    7|  2016-07-11|          null|    2016-10-10|            false|       Germany|       Germany|      A|   null|      W|       WT|           false|\n",
      "|2147483647|2016|    7|  2016-07-09|          null|    2016-10-08|            false|        France|        France|      A|   null|      W|       WT|           false|\n",
      "|2147483647|2016|    7|  2016-07-09|          null|    2016-10-06|            false|        France|       Belgium|      A|   null|      W|       WT|           false|\n",
      "|2147483647|2016|    7|  2016-07-11|          null|    2016-10-06|            false|       Germany|       Germany|      A|   null|      W|       WT|           false|\n",
      "|2147483647|2016|    7|  2016-07-11|          null|    2016-10-08|            false|        France|        France|      A|   null|      W|       WT|           false|\n",
      "|2147483647|2016|    7|  2016-07-12|          null|    2016-10-09|            false|        France|        France|      A|   null|      W|       WT|           false|\n",
      "|2147483647|2016|    7|  2016-07-13|          null|    2016-10-10|            false|          null|         Japan|      A|   null|      W|       WT|           false|\n",
      "|2147483647|2016|    7|  2016-07-12|          null|    2016-10-08|            false|   Switzerland|   Switzerland|      A|   null|      W|       WT|           false|\n",
      "|2147483647|2016|    7|  2016-07-13|          null|    2016-10-12|            false|   Switzerland|   Switzerland|      A|   null|      W|       WT|           false|\n",
      "|2147483647|2016|    7|  2016-07-13|          null|    2016-10-10|            false|          null|United Kingdom|      A|   null|      W|       WT|           false|\n",
      "|2147483647|2016|    7|  2016-07-14|          null|    2016-10-11|            false|        France|        France|      A|   null|      W|       WT|           false|\n",
      "|2147483647|2016|    7|  2016-07-13|          null|    2016-10-09|            false|          null|United Kingdom|      A|   null|      W|       WT|           false|\n",
      "|2147483647|2016|    7|  2016-07-13|          null|    2016-10-10|            false|        Norway|        Norway|      A|   null|      W|       WT|           false|\n",
      "|2147483647|2016|    7|  2016-07-13|          null|    2016-10-10|            false|       Ireland|       Ireland|      A|   null|      W|       WT|           false|\n",
      "|2147483647|2016|    7|  2016-07-13|          null|    2016-10-10|            false|        France|        France|      A|   null|      W|       WT|           false|\n",
      "|2147483647|2016|    7|  2016-07-25|    2016-08-31|    2017-01-24|            false|          null|        Turkey|      G|      U|      O|       B2|           false|\n",
      "|2147483647|2016|    7|  2016-07-26|          null|    2016-10-24|            false|   Netherlands|   Netherlands|      A|   null|      W|       WT|           false|\n",
      "|2147483647|2016|    7|  2016-07-26|          null|    2017-01-25|            false|          null|       Ukraine|      G|      U|      I|       B1|           false|\n",
      "|2147483647|2016|    7|  2016-07-24|          null|    2016-10-21|            false|        France|        France|      A|   null|      W|       WT|           false|\n",
      "|1362223685|2016|    7|  2016-07-27|    2016-08-15|    2016-12-17|            false|     Guatemala|     Guatemala|      Z|   null|      I|       B2|           false|\n",
      "|2147483647|2016|    7|  2016-07-16|          null|    2017-01-15|            false|         China|         China|      Z|   null|      W|       B2|           false|\n",
      "|2147483647|2016|    7|  2016-07-16|          null|    2017-01-15|            false|         China|         China|      Z|   null|      W|       B2|           false|\n",
      "|2147483647|2016|    7|  2016-07-16|          null|    2017-01-15|            false|         China|         China|      Z|   null|      W|       B2|           false|\n",
      "|2147483647|2016|    7|  2016-07-15|          null|    2016-10-12|            false|        France|        France|      A|   null|      W|       WT|           false|\n",
      "|2147483647|2016|    7|  2016-07-18|          null|    2016-10-16|            false|       Germany|       Germany|      A|   null|      W|       WT|           false|\n",
      "|2147483647|2016|    7|  2016-07-11|          null|    2016-10-08|            false|        France|        France|      A|   null|      W|       WT|           false|\n",
      "|2147483647|2016|    7|  2016-07-15|          null|    2016-10-12|            false|          null|United Kingdom|      A|   null|      W|       WT|           false|\n",
      "|2147483647|2016|    7|  2016-07-18|          null|    2016-10-15|            false|          null|United Kingdom|      A|   null|      W|       WT|           false|\n",
      "|2147483647|2016|    7|  2016-07-04|          null|    2016-10-03|            false|        France|        France|      A|   null|      W|       WT|           false|\n",
      "|2147483647|2016|    7|  2016-07-29|          null|    2016-10-28|            false|          null|United Kingdom|      A|   null|      W|       WT|           false|\n",
      "|2147483647|2016|    7|  2016-07-15|          null|    2016-10-12|            false|        France|        France|      Z|   null|      W|       WT|           false|\n",
      "|2147483647|2016|    7|  2016-07-01|          null|    2016-09-28|            false|       Germany|       Germany|      A|   null|      W|       WT|           false|\n",
      "|2147483647|2016|    7|  2016-07-14|          null|    2016-10-11|            false|   New Zealand|   New Zealand|      A|   null|      W|       WT|           false|\n",
      "|2147483647|2016|    7|  2016-07-01|          null|    2016-09-28|            false|        France|        France|      A|   null|      W|       WT|           false|\n",
      "|2147483647|2016|    7|  2016-07-02|          null|    2016-09-29|            false|        France|        France|      Z|   null|      W|       WT|           false|\n",
      "|2147483647|2016|    7|  2016-07-16|          null|    2017-01-15|            false|        Taiwan|        Taiwan|      Z|   null|      W|       B2|           false|\n",
      "|2147483647|2016|    7|  2016-07-22|          null|    2016-10-19|            false|   Switzerland|   Switzerland|      A|   null|      W|       WT|           false|\n",
      "|2147483647|2016|    7|  2016-07-21|          null|    2016-10-18|            false|          null|   South Korea|      A|   null|      W|       WT|           false|\n",
      "|2147483647|2016|    7|  2016-07-08|          null|    2016-10-06|            false|          null|United Kingdom|      A|   null|      V|       WT|           false|\n",
      "|2147483647|2016|    7|  2016-07-18|          null|    2016-10-17|            false|        France|        France|      A|   null|      W|       WT|           false|\n",
      "|2147483647|2016|    7|  2016-07-11|          null|    2016-10-08|            false|          null|   South Korea|      A|   null|      W|       WT|           false|\n",
      "|2147483647|2016|    7|  2016-07-17|          null|    2016-10-19|            false|        France|        France|      A|   null|      W|       WT|           false|\n",
      "|2147483647|2016|    7|  2016-07-01|          null|    2016-12-31|            false|      Barbados|      Barbados|      Z|   null|      W|       B2|           false|\n",
      "|2147483647|2016|    7|  2016-07-05|          null|    2016-10-02|            false|        France|       Belgium|      A|   null|      W|       WT|           false|\n",
      "|2147483647|2016|    7|  2016-07-14|          null|    2016-10-11|            false|        Norway|        Norway|      A|   null|      W|       WT|           false|\n",
      "|2147483647|2016|    7|  2016-07-02|          null|    2016-09-29|            false|        France|        France|      A|   null|      W|       WT|           false|\n",
      "|2147483647|2016|    7|  2016-07-11|          null|    2016-10-08|            false|Czech Republic|Czech Republic|      A|   null|      W|       WT|           false|\n",
      "|2147483647|2016|    7|  2016-07-30|          null|    2016-10-27|            false|        France|        France|      A|   null|      W|       WT|           false|\n",
      "|2147483647|2016|    7|  2016-07-28|          null|    2016-10-25|            false|          null|   South Korea|      A|   null|      W|       WT|           false|\n",
      "|2147483647|2016|    7|  2016-07-06|          null|    2016-10-03|            false|   Netherlands|   Netherlands|      A|   null|      W|       WT|           false|\n",
      "|2147483647|2016|    7|  2016-07-26|          null|    2016-10-23|            false|          null|   South Korea|      A|   null|      W|       WT|           false|\n",
      "|2147483647|2016|    7|  2016-07-14|          null|    2016-10-11|            false|        France|        France|      A|   null|      W|       WT|           false|\n",
      "|2147483647|2016|    7|  2016-07-25|          null|    2016-10-22|            false|          null|United Kingdom|      A|   null|      W|       WT|           false|\n",
      "|2147483647|2016|    7|  2016-07-07|          null|    2016-10-04|            false|          null|United Kingdom|      Z|   null|      W|       WT|           false|\n",
      "|2147483647|2016|    7|  2016-07-04|          null|    2016-10-03|            false|       Ireland|       Ireland|      A|   null|      W|       WT|           false|\n",
      "|2147483647|2016|    7|  2016-07-09|          null|    2016-10-08|            false|          null|         Japan|      A|   null|      W|       WT|           false|\n",
      "|2147483647|2016|    7|  2016-07-15|          null|    2016-10-12|            false|       Germany|       Germany|      A|   null|      W|       WT|           false|\n",
      "|2147483647|2016|    7|  2016-07-15|          null|    2016-10-12|            false|       Germany|       Germany|      A|   null|      W|       WT|           false|\n",
      "|2147483647|2016|    7|  2016-07-05|          null|    2016-10-02|            false|        France|        France|      A|   null|      W|       WT|           false|\n",
      "|2147483647|2016|    7|  2016-07-08|          null|    2016-10-05|            false|        France|        France|      A|   null|      W|       WT|           false|\n",
      "|2147483647|2016|    7|  2016-07-18|          null|    2016-10-15|            false|        France|        France|      A|   null|      W|       WT|           false|\n",
      "|2147483647|2016|    7|  2016-07-24|          null|    2016-10-21|            false|        Norway|        Norway|      A|   null|      W|       WT|           false|\n",
      "|2147483647|2016|    7|  2016-07-07|          null|    2016-10-05|            false|        France|        France|      A|   null|      W|       WT|           false|\n",
      "|2147483647|2016|    7|  2016-07-02|          null|    2016-09-29|            false|          null|   South Korea|      A|   null|      W|       WT|           false|\n",
      "|2147483647|2016|    7|  2016-07-12|          null|    2016-10-09|            false|          null|United Kingdom|      A|   null|      W|       WT|           false|\n",
      "|2147483647|2016|    7|  2016-07-22|          null|    2016-10-19|            false|        France|        France|      A|   null|      W|       WT|           false|\n",
      "|2147483647|2016|    7|  2016-07-12|          null|    2017-01-11|            false|          null|United Kingdom|      A|   null|      W|       WT|           false|\n",
      "|2147483647|2016|    7|  2016-07-09|          null|    2016-10-06|            false|        France|        France|      A|   null|      W|       WT|           false|\n",
      "|2147483647|2016|    7|  2016-07-22|          null|    2016-10-19|            false|         Spain|         Spain|      A|   null|      W|       WT|           false|\n",
      "|2147483647|2016|    7|  2016-07-06|          null|    2016-10-03|            false|          null|   South Korea|      A|   null|      W|       WT|           false|\n",
      "|2147483647|2016|    7|  2016-07-16|          null|    2016-11-23|            false|         China|         China|      Z|   null|      W|       B2|           false|\n",
      "|2147483647|2016|    7|  2016-07-16|          null|    2016-10-13|            false|          null|United Kingdom|      Z|   null|      W|       WT|           false|\n",
      "|2147483647|2016|    7|  2016-07-14|          null|    2016-10-11|            false|          null|   South Korea|      A|   null|      W|       WT|           false|\n",
      "|2147483647|2016|    7|  2016-07-13|          null|    2016-10-10|            false|        France|        France|      A|   null|      W|       WT|           false|\n",
      "|2147483647|2016|    7|  2016-07-26|          null|    2016-10-23|            false|        France|        France|      A|   null|      W|       WT|           false|\n",
      "|2147483647|2016|    6|  2016-06-29|          null|    2016-09-26|            false|          null|United Kingdom|      A|   null|      W|       WT|           false|\n",
      "|2147483647|2016|    6|  2016-06-28|          null|    2016-09-25|            false|          null|United Kingdom|      A|   null|      W|       WT|           false|\n",
      "|2147483647|2016|    6|  2016-06-29|          null|    2016-06-29|            false|        France|        France|      A|   null|      W|       WT|           false|\n",
      "|2147483647|2016|    9|  2016-09-02|    2016-09-10|    2016-10-22|            false|   Philippines|   Philippines|      Z|   null|      I|       B2|           false|\n",
      "|2147483647|2016|    6|  2016-06-30|          null|    2016-09-27|            false|        France|        France|      A|   null|      W|       WT|           false|\n",
      "|2147483647|2016|    6|  2016-06-28|          null|    2016-09-25|            false|          null|United Kingdom|      A|   null|      W|       WT|           false|\n",
      "|2147483647|2016|    8|  2016-08-04|          null|    2016-12-01|            false|   Philippines|   Philippines|      G|      U|      I|       B2|           false|\n",
      "|2147483647|2016|    8|  2016-08-03|          null|    2016-10-31|            false|      Portugal|      Portugal|      A|   null|      W|       WT|           false|\n",
      "|2147483647|2016|    7|  2016-07-01|          null|    2016-09-28|            false|       Germany|       Germany|      A|   null|      W|       WT|           false|\n",
      "|2147483647|2016|    7|  2016-07-01|          null|    2016-09-28|            false|        France|        France|      A|   null|      W|       WT|           false|\n",
      "|2147483647|2016|    7|  2016-07-02|          null|    2016-09-29|            false|         Spain|         Spain|      A|   null|      W|       WT|           false|\n",
      "+----------+----+-----+------------+--------------+--------------+-----------------+--------------+--------------+-------+-------+-------+---------+----------------+\n",
      "only showing top 100 rows"
     ]
    }
   ],
   "source": [
    "label_df[\n",
    "    (label_df.dates_match_flag == False) &\n",
    "    (label_df.unrestricted_stay == False) &\n",
    "    ((~(F.isnull(label_df.departure_date))) | (~(F.isnull(label_df.entdepd))) )\n",
    "].show(100)"
   ]
  },
  {
   "cell_type": "markdown",
   "metadata": {
    "hidden": true
   },
   "source": [
    "Most of them have a W entdepd, which is a waiver because their visa is usually the WT visa, so they probably got an extension somehow and shouldn't be considered overstayers"
   ]
  },
  {
   "cell_type": "code",
   "execution_count": 71,
   "metadata": {
    "ExecuteTime": {
     "end_time": "2020-08-30T22:15:27.640207Z",
     "start_time": "2020-08-30T22:15:24.593620Z"
    },
    "hidden": true
   },
   "outputs": [
    {
     "data": {
      "application/vnd.jupyter.widget-view+json": {
       "model_id": "",
       "version_major": 2,
       "version_minor": 0
      },
      "text/plain": [
       "FloatProgress(value=0.0, bar_style='info', description='Progress:', layout=Layout(height='25px', width='50%'),…"
      ]
     },
     "metadata": {},
     "output_type": "display_data"
    },
    {
     "name": "stdout",
     "output_type": "stream",
     "text": [
      "+-------+-----+\n",
      "|entdepd|count|\n",
      "+-------+-----+\n",
      "|      D|    3|\n",
      "|      R|    6|\n",
      "|      J|    3|\n",
      "|      N|   19|\n",
      "|      V|   40|\n",
      "|      O|   23|\n",
      "|      W| 2253|\n",
      "|      I|   56|\n",
      "|      K|   10|\n",
      "+-------+-----+"
     ]
    }
   ],
   "source": [
    "label_df[\n",
    "    (label_df.dates_match_flag == False) &\n",
    "    (label_df.unrestricted_stay == False) &\n",
    "    ((~(F.isnull(label_df.departure_date))) | (~(F.isnull(label_df.entdepd))) )\n",
    "].groupBy(label_df.entdepd).count().show()"
   ]
  },
  {
   "cell_type": "code",
   "execution_count": 72,
   "metadata": {
    "ExecuteTime": {
     "end_time": "2020-08-30T22:17:27.323605Z",
     "start_time": "2020-08-30T22:17:24.747192Z"
    },
    "hidden": true
   },
   "outputs": [
    {
     "data": {
      "application/vnd.jupyter.widget-view+json": {
       "model_id": "",
       "version_major": 2,
       "version_minor": 0
      },
      "text/plain": [
       "FloatProgress(value=0.0, bar_style='info', description='Progress:', layout=Layout(height='25px', width='50%'),…"
      ]
     },
     "metadata": {},
     "output_type": "display_data"
    },
    {
     "name": "stdout",
     "output_type": "stream",
     "text": [
      "2197454"
     ]
    }
   ],
   "source": [
    "label_df[\n",
    "    (label_df.dates_match_flag == False) &\n",
    "    (label_df.unrestricted_stay == False) &\n",
    "    (((F.isnull(label_df.departure_date))) & ((F.isnull(label_df.entdepd))) )\n",
    "].count()"
   ]
  },
  {
   "cell_type": "markdown",
   "metadata": {
    "hidden": true
   },
   "source": [
    "Last Detail is: Let's see how many of those overstayers updated their visas"
   ]
  },
  {
   "cell_type": "code",
   "execution_count": 76,
   "metadata": {
    "ExecuteTime": {
     "end_time": "2020-08-30T22:19:17.918657Z",
     "start_time": "2020-08-30T22:19:15.143756Z"
    },
    "hidden": true
   },
   "outputs": [
    {
     "data": {
      "application/vnd.jupyter.widget-view+json": {
       "model_id": "",
       "version_major": 2,
       "version_minor": 0
      },
      "text/plain": [
       "FloatProgress(value=0.0, bar_style='info', description='Progress:', layout=Layout(height='25px', width='50%'),…"
      ]
     },
     "metadata": {},
     "output_type": "display_data"
    },
    {
     "name": "stdout",
     "output_type": "stream",
     "text": [
      "+-------+-------+\n",
      "|entdepu|  count|\n",
      "+-------+-------+\n",
      "|   null|2195077|\n",
      "|      U|   2375|\n",
      "|      P|      2|\n",
      "+-------+-------+"
     ]
    }
   ],
   "source": [
    "label_df[\n",
    "    (label_df.dates_match_flag == False) &\n",
    "    (label_df.unrestricted_stay == False) &\n",
    "    (((F.isnull(label_df.departure_date))) & ((F.isnull(label_df.entdepd))) )\n",
    "].groupBy(\"entdepu\").agg(F.count(\"*\").alias(\"count\")).show()"
   ]
  },
  {
   "cell_type": "code",
   "execution_count": 78,
   "metadata": {
    "ExecuteTime": {
     "end_time": "2020-08-30T22:20:57.642829Z",
     "start_time": "2020-08-30T22:20:56.142725Z"
    },
    "hidden": true
   },
   "outputs": [
    {
     "data": {
      "application/vnd.jupyter.widget-view+json": {
       "model_id": "",
       "version_major": 2,
       "version_minor": 0
      },
      "text/plain": [
       "FloatProgress(value=0.0, bar_style='info', description='Progress:', layout=Layout(height='25px', width='50%'),…"
      ]
     },
     "metadata": {},
     "output_type": "display_data"
    },
    {
     "name": "stdout",
     "output_type": "stream",
     "text": [
      "+----------+----+-----+------------+--------------+--------------+-----------------+--------------------+--------------------+-------+-------+-------+---------+----------------+\n",
      "|    admnum|year|month|arrival_date|departure_date|permitted_date|unrestricted_stay|         cit_country|         res_country|entdepa|entdepu|entdepd|visa_type|dates_match_flag|\n",
      "+----------+----+-----+------------+--------------+--------------+-----------------+--------------------+--------------------+-------+-------+-------+---------+----------------+\n",
      "|2147483647|2016|    4|  2016-04-23|          null|    2018-04-22|            false|               Japan|               Japan|      G|      U|   null|       E2|           false|\n",
      "|2147483647|2016|    4|  2016-04-20|          null|    2018-04-19|            false|                null|         South Korea|      O|      U|   null|       E2|           false|\n",
      "|2147483647|2016|    4|  2016-04-28|          null|    2016-10-27|            false|               India|               India|      G|      U|   null|       B1|           false|\n",
      "|2147483647|2016|    4|  2016-04-30|          null|    2016-10-29|            false|             Bermuda|      United Kingdom|      G|      U|   null|       B2|           false|\n",
      "|2147483647|2016|    8|  2016-08-03|          null|    2017-02-02|            false|             Vietnam|             Vietnam|      G|      U|   null|       B2|           false|\n",
      "|2147483647|2016|    8|  2016-08-18|          null|    2018-04-25|            false|            Malaysia|            Malaysia|      G|      U|   null|       E2|           false|\n",
      "|2147483647|2016|    8|  2016-08-22|          null|    2017-02-21|            false|               China|               China|      G|      U|   null|       B2|           false|\n",
      "|2147483647|2016|    8|  2016-08-21|          null|    2018-08-20|            false|              France|              France|      G|      U|   null|       E2|           false|\n",
      "|2147483647|2016|    8|  2016-08-22|          null|    2017-02-21|            false|          Costa Rica|          Costa Rica|      T|      U|   null|       F2|           false|\n",
      "|2147483647|2016|    8|  2016-08-20|          null|    2018-08-19|            false|               Japan|               Japan|      G|      U|   null|       E2|           false|\n",
      "|2147483647|2016|    8|  2016-08-21|          null|    2017-02-20|            false|           Venezuela|           Venezuela|      G|      U|   null|       B2|           false|\n",
      "|2147483647|2016|    8|  2016-08-24|          null|    2017-02-23|            false|             Ecuador|             Ecuador|      G|      U|   null|       B2|           false|\n",
      "|2147483647|2016|    8|  2016-08-30|          null|    2017-02-27|            false|         Philippines|         Philippines|      T|      U|   null|       B2|           false|\n",
      "|2147483647|2016|    8|  2016-08-27|          null|    2017-02-26|            false|               India|               India|      G|      U|   null|       B2|           false|\n",
      "|2147483647|2016|   12|  2016-12-21|          null|    2018-01-31|            false|                Fiji|                Fiji|      T|      U|   null|       M1|           false|\n",
      "|2147483647|2016|   12|  2016-12-24|          null|    2017-06-23|            false|            Mongolia|            Mongolia|      G|      U|   null|       B2|           false|\n",
      "|2147483647|2016|   12|  2016-12-23|          null|    2017-06-22|            false|              Guinea|              Guinea|      O|      U|   null|       B2|           false|\n",
      "|2147483647|2016|   12|  2016-12-23|          null|    2017-06-22|            false|Mexico Air Sea, A...|Mexico Air Sea, A...|      G|      U|   null|       B2|           false|\n",
      "|2147483647|2016|   12|  2016-12-28|          null|    2018-12-27|            false|               Zaire|               Zaire|      G|      U|   null|       E2|           false|\n",
      "|2147483647|2016|   12|  2016-12-28|          null|    2017-03-27|            false|               Japan|               Japan|      G|      U|   null|       WB|           false|\n",
      "+----------+----+-----+------------+--------------+--------------+-----------------+--------------------+--------------------+-------+-------+-------+---------+----------------+\n",
      "only showing top 20 rows"
     ]
    }
   ],
   "source": [
    "label_df[\n",
    "    (label_df.dates_match_flag == False) &\n",
    "    (label_df.unrestricted_stay == False) &\n",
    "    (((F.isnull(label_df.departure_date))) & ((F.isnull(label_df.entdepd))) ) &\n",
    "    (~F.isnull(label_df.entdepu))\n",
    "].show()"
   ]
  },
  {
   "cell_type": "markdown",
   "metadata": {
    "hidden": true
   },
   "source": [
    "There aren't a lot of them, but let's assume they upgraded to a permanent visa, so let's exclude them too"
   ]
  },
  {
   "cell_type": "code",
   "execution_count": 79,
   "metadata": {
    "ExecuteTime": {
     "end_time": "2020-08-30T22:25:04.205997Z",
     "start_time": "2020-08-30T22:25:02.754368Z"
    },
    "hidden": true
   },
   "outputs": [
    {
     "data": {
      "application/vnd.jupyter.widget-view+json": {
       "model_id": "",
       "version_major": 2,
       "version_minor": 0
      },
      "text/plain": [
       "FloatProgress(value=0.0, bar_style='info', description='Progress:', layout=Layout(height='25px', width='50%'),…"
      ]
     },
     "metadata": {},
     "output_type": "display_data"
    },
    {
     "name": "stdout",
     "output_type": "stream",
     "text": [
      "+----------+----+-----+------------+--------------+--------------+-----------------+------------------+------------------+-------+-------+-------+---------+----------------+\n",
      "|    admnum|year|month|arrival_date|departure_date|permitted_date|unrestricted_stay|       cit_country|       res_country|entdepa|entdepu|entdepd|visa_type|dates_match_flag|\n",
      "+----------+----+-----+------------+--------------+--------------+-----------------+------------------+------------------+-------+-------+-------+---------+----------------+\n",
      "|2147483647|2016|    4|  2016-04-20|          null|    2016-10-19|            false|           Ukraine|           Ukraine|      G|   null|   null|       B2|           false|\n",
      "|2147483647|2016|    4|  2016-04-23|          null|    2016-10-22|            false|          Pakistan|          Pakistan|      O|   null|   null|       B2|           false|\n",
      "|2147483647|2016|    4|  2016-04-22|          null|    2016-07-20|            false|            Monaco|       Netherlands|      G|   null|   null|       WT|           false|\n",
      "|2147483647|2016|    4|  2016-04-19|          null|    2016-10-18|            false|         Guatemala|         Guatemala|      G|   null|   null|       B2|           false|\n",
      "|2147483647|2016|    4|  2016-04-19|          null|    2016-10-18|            false|         Guatemala|         Guatemala|      G|   null|   null|       B2|           false|\n",
      "|2147483647|2016|    4|  2016-04-22|          null|    2016-10-21|            false|           Ecuador|           Ecuador|      G|   null|   null|       B2|           false|\n",
      "|2147483647|2016|    4|  2016-04-22|          null|    2016-10-21|            false|           Ecuador|           Ecuador|      G|   null|   null|       B2|           false|\n",
      "|2147483647|2016|    4|  2016-04-22|          null|    2016-07-20|            false|    United Kingdom|    United Kingdom|      G|   null|   null|       WB|           false|\n",
      "|2147483647|2016|    4|  2016-04-20|          null|    2016-07-18|            false|             Japan|             Japan|      G|   null|   null|       WT|           false|\n",
      "|2147483647|2016|    4|  2016-04-23|          null|    2016-07-21|            false|       Switzerland|       Switzerland|      G|   null|   null|       WT|           false|\n",
      "|2147483647|2016|    4|  2016-04-21|          null|    2016-10-21|            false|             India|             India|      G|   null|   null|       B2|           false|\n",
      "|2147483647|2016|    4|  2016-04-21|          null|    2016-10-21|            false|             India|             India|      G|   null|   null|       B2|           false|\n",
      "|2147483647|2016|    4|  2016-04-21|          null|    2016-10-21|            false|             India|             India|      G|   null|   null|       B2|           false|\n",
      "|2147483647|2016|    4|  2016-04-21|          null|    2016-10-21|            false|             India|             India|      G|   null|   null|       B2|           false|\n",
      "|2147483647|2016|    4|  2016-04-21|          null|    2016-10-21|            false|             India|             India|      G|   null|   null|       B2|           false|\n",
      "| 819383785|2016|    4|  2016-04-19|          null|    2016-10-18|            false|Dominican Republic|Dominican Republic|      U|   null|   null|       B2|           false|\n",
      "|2147483647|2016|    4|  2016-04-21|          null|    2016-10-20|            false|         Guatemala|         Guatemala|      G|   null|   null|       B2|           false|\n",
      "|2147483647|2016|    4|  2016-04-21|          null|    2016-10-20|            false|         Guatemala|         Guatemala|      G|   null|   null|       B2|           false|\n",
      "|2147483647|2016|    4|  2016-04-21|          null|    2016-10-20|            false|           Ecuador|           Ecuador|      G|   null|   null|       B2|           false|\n",
      "|2147483647|2016|    4|  2016-04-21|          null|    2016-10-20|            false|           Ecuador|           Ecuador|      G|   null|   null|       B2|           false|\n",
      "+----------+----+-----+------------+--------------+--------------+-----------------+------------------+------------------+-------+-------+-------+---------+----------------+\n",
      "only showing top 20 rows"
     ]
    }
   ],
   "source": [
    "label_df[\n",
    "    (label_df.dates_match_flag == False) &\n",
    "    (label_df.unrestricted_stay == False) &\n",
    "    (((F.isnull(label_df.departure_date))) & ((F.isnull(label_df.entdepd))) ) &\n",
    "    (F.isnull(label_df.entdepu))\n",
    "].show()"
   ]
  },
  {
   "cell_type": "code",
   "execution_count": null,
   "metadata": {
    "hidden": true
   },
   "outputs": [],
   "source": []
  },
  {
   "cell_type": "markdown",
   "metadata": {},
   "source": [
    "### Creating the label"
   ]
  },
  {
   "cell_type": "code",
   "execution_count": 81,
   "metadata": {
    "ExecuteTime": {
     "end_time": "2020-08-30T22:57:28.796090Z",
     "start_time": "2020-08-30T22:57:27.540476Z"
    }
   },
   "outputs": [
    {
     "data": {
      "application/vnd.jupyter.widget-view+json": {
       "model_id": "",
       "version_major": 2,
       "version_minor": 0
      },
      "text/plain": [
       "FloatProgress(value=0.0, bar_style='info', description='Progress:', layout=Layout(height='25px', width='50%'),…"
      ]
     },
     "metadata": {},
     "output_type": "display_data"
    }
   ],
   "source": [
    "joined_df = joined_df.withColumn(\n",
    "    \"is_overstay\", \n",
    "    F.when(\n",
    "        (\n",
    "            (joined_df.dates_match_flag == False) &\n",
    "            (joined_df.unrestricted_stay == False) &\n",
    "            ((F.isnull(label_df.departure_date)) & ((F.isnull(label_df.entdepd)))) &\n",
    "            (F.isnull(label_df.entdepu))\n",
    "        ),\n",
    "        True\n",
    "    ).otherwise(False)\n",
    ")"
   ]
  },
  {
   "cell_type": "code",
   "execution_count": 82,
   "metadata": {
    "ExecuteTime": {
     "end_time": "2020-08-30T22:57:48.449099Z",
     "start_time": "2020-08-30T22:57:47.142272Z"
    }
   },
   "outputs": [
    {
     "data": {
      "application/vnd.jupyter.widget-view+json": {
       "model_id": "",
       "version_major": 2,
       "version_minor": 0
      },
      "text/plain": [
       "FloatProgress(value=0.0, bar_style='info', description='Progress:', layout=Layout(height='25px', width='50%'),…"
      ]
     },
     "metadata": {},
     "output_type": "display_data"
    },
    {
     "name": "stdout",
     "output_type": "stream",
     "text": [
      "root\n",
      " |-- admnum: integer (nullable = true)\n",
      " |-- year: integer (nullable = true)\n",
      " |-- month: integer (nullable = true)\n",
      " |-- arrival_date: date (nullable = true)\n",
      " |-- departure_date: date (nullable = true)\n",
      " |-- permitted_date: date (nullable = true)\n",
      " |-- country_citizenship: integer (nullable = true)\n",
      " |-- country_residence: integer (nullable = true)\n",
      " |-- entry_port: string (nullable = true)\n",
      " |-- destination_state: string (nullable = true)\n",
      " |-- dates_match_flag: boolean (nullable = true)\n",
      " |-- travel_mode: string (nullable = true)\n",
      " |-- age: integer (nullable = true)\n",
      " |-- gender: string (nullable = true)\n",
      " |-- visa_type: string (nullable = true)\n",
      " |-- visa_category: string (nullable = true)\n",
      " |-- entdepa: string (nullable = true)\n",
      " |-- entdepu: string (nullable = true)\n",
      " |-- entdepd: string (nullable = true)\n",
      " |-- unrestricted_stay: boolean (nullable = false)\n",
      " |-- num_previous_stays: long (nullable = false)\n",
      " |-- cit_country: string (nullable = true)\n",
      " |-- res_country: string (nullable = true)\n",
      " |-- port_name: string (nullable = true)\n",
      " |-- is_overstay: boolean (nullable = false)"
     ]
    }
   ],
   "source": [
    "joined_df.printSchema()"
   ]
  },
  {
   "cell_type": "code",
   "execution_count": null,
   "metadata": {},
   "outputs": [],
   "source": [
    "FINAL_COLUMNS = [\n",
    "    \"year\", \"month\", \n",
    "    \"arrival_date\", \"departure_date\", \"permitted_date\", \"unrestricted_stay\",\n",
    "    \"country_citizenship\", \"country_residence\", \"port_name\", \"destination_state\", \n",
    "    \"age\", \"gender\", \"num_previous_stays\", \n",
    "    \"visa_type\", \"visa_category\"\n",
    "    \"is_overstay\"\n",
    "]"
   ]
  },
  {
   "cell_type": "code",
   "execution_count": null,
   "metadata": {},
   "outputs": [],
   "source": [
    "label_df[\n",
    "    (label_df.dates_match_flag == False) &\n",
    "    (label_df.unrestricted_stay == False) &\n",
    "    (((F.isnull(label_df.departure_date))) & ((F.isnull(label_df.entdepd))) ) &\n",
    "    (F.isnull(label_df.entdepu))\n",
    "].show()"
   ]
  },
  {
   "cell_type": "markdown",
   "metadata": {},
   "source": [
    "# Backup"
   ]
  },
  {
   "cell_type": "code",
   "execution_count": 17,
   "metadata": {
    "ExecuteTime": {
     "end_time": "2020-08-23T12:56:14.304113Z",
     "start_time": "2020-08-23T12:56:13.506239Z"
    }
   },
   "outputs": [
    {
     "name": "stdout",
     "output_type": "stream",
     "text": [
      "stdout: \n",
      "\n",
      "stderr: \n",
      "20/08/23 12:49:18 INFO Utils: Successfully started service 'org.apache.spark.network.netty.NettyBlockTransferService' on port 45981.\n",
      "20/08/23 12:49:18 INFO NettyBlockTransferService: Server created on ip-10-0-1-139.us-west-2.compute.internal:45981\n",
      "20/08/23 12:49:18 INFO BlockManager: Using org.apache.spark.storage.RandomBlockReplicationPolicy for block replication policy\n",
      "20/08/23 12:49:18 INFO BlockManagerMaster: Registering BlockManager BlockManagerId(driver, ip-10-0-1-139.us-west-2.compute.internal, 45981, None)\n",
      "20/08/23 12:49:18 INFO BlockManagerMasterEndpoint: Registering block manager ip-10-0-1-139.us-west-2.compute.internal:45981 with 912.3 MB RAM, BlockManagerId(driver, ip-10-0-1-139.us-west-2.compute.internal, 45981, None)\n",
      "20/08/23 12:49:18 INFO BlockManagerMaster: Registered BlockManager BlockManagerId(driver, ip-10-0-1-139.us-west-2.compute.internal, 45981, None)\n",
      "20/08/23 12:49:18 INFO BlockManager: external shuffle service port = 7337\n",
      "20/08/23 12:49:18 INFO BlockManager: Initialized BlockManager: BlockManagerId(driver, ip-10-0-1-139.us-west-2.compute.internal, 45981, None)\n",
      "20/08/23 12:49:18 INFO YarnSchedulerBackend$YarnSchedulerEndpoint: ApplicationMaster registered as NettyRpcEndpointRef(spark-client://YarnAM)\n",
      "20/08/23 12:49:18 INFO JettyUtils: Adding filter org.apache.hadoop.yarn.server.webproxy.amfilter.AmIpFilter to /metrics/json.\n",
      "20/08/23 12:49:19 INFO EventLoggingListener: Logging events to hdfs:/var/log/spark/apps/application_1598183816262_0001\n",
      "20/08/23 12:49:19 INFO Utils: Using initial executors = 50, max of spark.dynamicAllocation.initialExecutors, spark.dynamicAllocation.minExecutors and spark.executor.instances\n",
      "20/08/23 12:49:19 INFO YarnClientSchedulerBackend: SchedulerBackend is ready for scheduling beginning after reached minRegisteredResourcesRatio: 0.0\n",
      "20/08/23 12:49:19 INFO SparkEntries: Spark context finished initialization in 14457ms\n",
      "20/08/23 12:49:19 INFO SparkEntries: Created Spark session (with Hive support).\n",
      "20/08/23 12:49:22 INFO YarnSchedulerBackend$YarnDriverEndpoint: Registered executor NettyRpcEndpointRef(spark-client://Executor) (10.0.1.33:43276) with ID 2\n",
      "20/08/23 12:49:22 INFO ExecutorAllocationManager: New executor 2 has registered (new total is 1)\n",
      "20/08/23 12:49:22 INFO BlockManagerMasterEndpoint: Registering block manager ip-10-0-1-33.us-west-2.compute.internal:41767 with 5.4 GB RAM, BlockManagerId(2, ip-10-0-1-33.us-west-2.compute.internal, 41767, None)\n",
      "20/08/23 12:49:23 INFO YarnSchedulerBackend$YarnDriverEndpoint: Registered executor NettyRpcEndpointRef(spark-client://Executor) (10.0.1.4:52478) with ID 1\n",
      "20/08/23 12:49:23 INFO ExecutorAllocationManager: New executor 1 has registered (new total is 2)\n",
      "20/08/23 12:49:23 INFO BlockManagerMasterEndpoint: Registering block manager ip-10-0-1-4.us-west-2.compute.internal:35455 with 5.4 GB RAM, BlockManagerId(1, ip-10-0-1-4.us-west-2.compute.internal, 35455, None)\n",
      "20/08/23 12:49:26 INFO SparkEntries: Created HiveContext.\n",
      "20/08/23 12:50:22 INFO ExecutorAllocationManager: Request to remove executorIds: 2\n",
      "20/08/23 12:50:22 INFO YarnClientSchedulerBackend: Requesting to kill executor(s) 2\n",
      "20/08/23 12:50:22 INFO YarnClientSchedulerBackend: Actual list of executor(s) to be killed is 2\n",
      "20/08/23 12:50:22 INFO ExecutorAllocationManager: Removing executor 2 because it has been idle for 60 seconds (new desired total will be 1)\n",
      "20/08/23 12:50:22 INFO YarnSchedulerBackend$YarnDriverEndpoint: Disabling executor 2.\n",
      "20/08/23 12:50:22 INFO DAGScheduler: Executor lost: 2 (epoch 0)\n",
      "20/08/23 12:50:22 INFO BlockManagerMasterEndpoint: Trying to remove executor 2 from BlockManagerMaster.\n",
      "20/08/23 12:50:22 INFO BlockManagerMasterEndpoint: Removing block manager BlockManagerId(2, ip-10-0-1-33.us-west-2.compute.internal, 41767, None)\n",
      "20/08/23 12:50:22 INFO BlockManagerMaster: Removed 2 successfully in removeExecutor\n",
      "20/08/23 12:50:22 INFO YarnScheduler: Executor 2 on ip-10-0-1-33.us-west-2.compute.internal killed by driver.\n",
      "20/08/23 12:50:22 INFO ExecutorAllocationManager: Existing executor 2 has been removed (new total is 1)\n",
      "20/08/23 12:50:23 INFO ExecutorAllocationManager: Request to remove executorIds: 1\n",
      "20/08/23 12:50:23 INFO YarnClientSchedulerBackend: Requesting to kill executor(s) 1\n",
      "20/08/23 12:50:23 INFO YarnClientSchedulerBackend: Actual list of executor(s) to be killed is 1\n",
      "20/08/23 12:50:23 INFO ExecutorAllocationManager: Removing executor 1 because it has been idle for 60 seconds (new desired total will be 0)\n",
      "20/08/23 12:50:26 INFO YarnSchedulerBackend$YarnDriverEndpoint: Disabling executor 1.\n",
      "20/08/23 12:50:26 INFO DAGScheduler: Executor lost: 1 (epoch 0)\n",
      "20/08/23 12:50:26 INFO BlockManagerMasterEndpoint: Trying to remove executor 1 from BlockManagerMaster.\n",
      "20/08/23 12:50:26 INFO BlockManagerMasterEndpoint: Removing block manager BlockManagerId(1, ip-10-0-1-4.us-west-2.compute.internal, 35455, None)\n",
      "20/08/23 12:50:26 INFO BlockManagerMaster: Removed 1 successfully in removeExecutor\n",
      "20/08/23 12:50:26 INFO YarnScheduler: Executor 1 on ip-10-0-1-4.us-west-2.compute.internal killed by driver.\n",
      "20/08/23 12:50:26 INFO ExecutorAllocationManager: Existing executor 1 has been removed (new total is 0)\n",
      "20/08/23 12:53:05 INFO SharedState: loading hive config file: file:/etc/spark/conf.dist/hive-site.xml\n",
      "20/08/23 12:53:05 INFO SharedState: Setting hive.metastore.warehouse.dir ('null') to the value of spark.sql.warehouse.dir ('hdfs:///user/spark/warehouse').\n",
      "20/08/23 12:53:05 INFO SharedState: Warehouse path is 'hdfs:///user/spark/warehouse'.\n",
      "20/08/23 12:53:05 INFO JettyUtils: Adding filter org.apache.hadoop.yarn.server.webproxy.amfilter.AmIpFilter to /SQL.\n",
      "20/08/23 12:53:05 INFO JettyUtils: Adding filter org.apache.hadoop.yarn.server.webproxy.amfilter.AmIpFilter to /SQL/json.\n",
      "20/08/23 12:53:05 INFO JettyUtils: Adding filter org.apache.hadoop.yarn.server.webproxy.amfilter.AmIpFilter to /SQL/execution.\n",
      "20/08/23 12:53:05 INFO JettyUtils: Adding filter org.apache.hadoop.yarn.server.webproxy.amfilter.AmIpFilter to /SQL/execution/json.\n",
      "20/08/23 12:53:05 INFO JettyUtils: Adding filter org.apache.hadoop.yarn.server.webproxy.amfilter.AmIpFilter to /static/sql.\n",
      "20/08/23 12:53:05 INFO StateStoreCoordinatorRef: Registered StateStoreCoordinator endpoint\n",
      "20/08/23 12:53:07 INFO S3NativeFileSystem: Opening 's3://udacity-capstone-raw-data/i94-data/i94_apr16_sub.sas7bdat' for reading\n",
      "20/08/23 12:53:08 INFO S3NativeFileSystem: Opening 's3://udacity-capstone-raw-data/i94-data/i94_aug16_sub.sas7bdat' for reading\n",
      "20/08/23 12:53:08 INFO S3NativeFileSystem: Opening 's3://udacity-capstone-raw-data/i94-data/i94_dec16_sub.sas7bdat' for reading\n",
      "20/08/23 12:53:08 INFO S3NativeFileSystem: Opening 's3://udacity-capstone-raw-data/i94-data/i94_feb16_sub.sas7bdat' for reading\n",
      "20/08/23 12:53:09 INFO S3NativeFileSystem: Opening 's3://udacity-capstone-raw-data/i94-data/i94_jan16_sub.sas7bdat' for reading\n",
      "20/08/23 12:53:09 INFO S3NativeFileSystem: Opening 's3://udacity-capstone-raw-data/i94-data/i94_jul16_sub.sas7bdat' for reading\n",
      "20/08/23 12:53:09 INFO S3NativeFileSystem: Opening 's3://udacity-capstone-raw-data/i94-data/i94_jun16_sub.sas7bdat' for reading\n",
      "20/08/23 12:53:10 INFO S3NativeFileSystem: Opening 's3://udacity-capstone-raw-data/i94-data/i94_mar16_sub.sas7bdat' for reading\n",
      "20/08/23 12:53:10 INFO S3NativeFileSystem: Opening 's3://udacity-capstone-raw-data/i94-data/i94_may16_sub.sas7bdat' for reading\n",
      "20/08/23 12:53:10 INFO S3NativeFileSystem: Opening 's3://udacity-capstone-raw-data/i94-data/i94_nov16_sub.sas7bdat' for reading\n",
      "20/08/23 12:53:10 INFO S3NativeFileSystem: Opening 's3://udacity-capstone-raw-data/i94-data/i94_oct16_sub.sas7bdat' for reading\n",
      "20/08/23 12:53:11 INFO S3NativeFileSystem: Opening 's3://udacity-capstone-raw-data/i94-data/i94_sep16_sub.sas7bdat' for reading\n",
      "20/08/23 12:53:49 INFO MemoryStore: Block broadcast_0 stored as values in memory (estimated size 295.1 KB, free 912.0 MB)\n",
      "20/08/23 12:53:49 INFO MemoryStore: Block broadcast_0_piece0 stored as bytes in memory (estimated size 25.0 KB, free 912.0 MB)\n",
      "20/08/23 12:53:49 INFO BlockManagerInfo: Added broadcast_0_piece0 in memory on ip-10-0-1-139.us-west-2.compute.internal:45981 (size: 25.0 KB, free: 912.3 MB)\n",
      "20/08/23 12:53:49 INFO SparkContext: Created broadcast 0 from toPandas at <stdin>:1\n",
      "20/08/23 12:53:49 INFO MemoryStore: Block broadcast_1 stored as values in memory (estimated size 295.1 KB, free 911.7 MB)\n",
      "20/08/23 12:53:49 INFO MemoryStore: Block broadcast_1_piece0 stored as bytes in memory (estimated size 25.0 KB, free 911.7 MB)\n",
      "20/08/23 12:53:49 INFO BlockManagerInfo: Added broadcast_1_piece0 in memory on ip-10-0-1-139.us-west-2.compute.internal:45981 (size: 25.0 KB, free: 912.3 MB)\n",
      "20/08/23 12:53:49 INFO SparkContext: Created broadcast 1 from toPandas at <stdin>:1\n",
      "20/08/23 12:53:49 INFO MemoryStore: Block broadcast_2 stored as values in memory (estimated size 295.1 KB, free 911.4 MB)\n",
      "20/08/23 12:53:49 INFO MemoryStore: Block broadcast_2_piece0 stored as bytes in memory (estimated size 25.0 KB, free 911.4 MB)\n",
      "20/08/23 12:53:49 INFO BlockManagerInfo: Added broadcast_2_piece0 in memory on ip-10-0-1-139.us-west-2.compute.internal:45981 (size: 25.0 KB, free: 912.2 MB)\n",
      "20/08/23 12:53:49 INFO SparkContext: Created broadcast 2 from toPandas at <stdin>:1\n",
      "20/08/23 12:53:49 INFO MemoryStore: Block broadcast_3 stored as values in memory (estimated size 295.1 KB, free 911.1 MB)\n",
      "20/08/23 12:53:49 INFO MemoryStore: Block broadcast_3_piece0 stored as bytes in memory (estimated size 25.0 KB, free 911.0 MB)\n",
      "20/08/23 12:53:49 INFO BlockManagerInfo: Added broadcast_3_piece0 in memory on ip-10-0-1-139.us-west-2.compute.internal:45981 (size: 25.0 KB, free: 912.2 MB)\n",
      "20/08/23 12:53:49 INFO SparkContext: Created broadcast 3 from toPandas at <stdin>:1\n",
      "20/08/23 12:53:49 INFO MemoryStore: Block broadcast_4 stored as values in memory (estimated size 295.1 KB, free 910.8 MB)\n",
      "20/08/23 12:53:49 INFO MemoryStore: Block broadcast_4_piece0 stored as bytes in memory (estimated size 25.0 KB, free 910.7 MB)\n",
      "20/08/23 12:53:49 INFO BlockManagerInfo: Added broadcast_4_piece0 in memory on ip-10-0-1-139.us-west-2.compute.internal:45981 (size: 25.0 KB, free: 912.2 MB)\n",
      "20/08/23 12:53:49 INFO SparkContext: Created broadcast 4 from toPandas at <stdin>:1\n",
      "20/08/23 12:53:49 INFO MemoryStore: Block broadcast_5 stored as values in memory (estimated size 295.1 KB, free 910.4 MB)\n",
      "20/08/23 12:53:49 INFO MemoryStore: Block broadcast_5_piece0 stored as bytes in memory (estimated size 25.0 KB, free 910.4 MB)\n",
      "20/08/23 12:53:49 INFO BlockManagerInfo: Added broadcast_5_piece0 in memory on ip-10-0-1-139.us-west-2.compute.internal:45981 (size: 25.0 KB, free: 912.2 MB)\n",
      "20/08/23 12:53:49 INFO SparkContext: Created broadcast 5 from toPandas at <stdin>:1\n",
      "20/08/23 12:53:49 INFO MemoryStore: Block broadcast_6 stored as values in memory (estimated size 295.1 KB, free 910.1 MB)\n",
      "20/08/23 12:53:49 INFO MemoryStore: Block broadcast_6_piece0 stored as bytes in memory (estimated size 25.0 KB, free 910.1 MB)\n",
      "20/08/23 12:53:49 INFO BlockManagerInfo: Added broadcast_6_piece0 in memory on ip-10-0-1-139.us-west-2.compute.internal:45981 (size: 25.0 KB, free: 912.1 MB)\n",
      "20/08/23 12:53:49 INFO SparkContext: Created broadcast 6 from toPandas at <stdin>:1\n",
      "20/08/23 12:53:49 INFO MemoryStore: Block broadcast_7 stored as values in memory (estimated size 295.1 KB, free 909.8 MB)\n",
      "20/08/23 12:53:49 INFO MemoryStore: Block broadcast_7_piece0 stored as bytes in memory (estimated size 25.0 KB, free 909.8 MB)\n",
      "20/08/23 12:53:49 INFO BlockManagerInfo: Added broadcast_7_piece0 in memory on ip-10-0-1-139.us-west-2.compute.internal:45981 (size: 25.0 KB, free: 912.1 MB)\n",
      "20/08/23 12:53:49 INFO SparkContext: Created broadcast 7 from toPandas at <stdin>:1\n",
      "20/08/23 12:53:49 INFO MemoryStore: Block broadcast_8 stored as values in memory (estimated size 295.1 KB, free 909.5 MB)"
     ]
    }
   ],
   "source": [
    "%%logs"
   ]
  },
  {
   "cell_type": "code",
   "execution_count": 12,
   "metadata": {
    "ExecuteTime": {
     "end_time": "2020-08-23T23:28:47.010362Z",
     "start_time": "2020-08-23T23:28:43.342332Z"
    }
   },
   "outputs": [
    {
     "data": {
      "text/html": [
       "Current session configs: <tt>{'conf': {'spark.jars.packages': 'saurfang:spark-sas7bdat:2.1.0-s_2.11', 'spark.driver.extraJavaOptions': '-Dlog4jspark.root.logger=WARN,console'}, 'kind': 'pyspark'}</tt><br>"
      ],
      "text/plain": [
       "<IPython.core.display.HTML object>"
      ]
     },
     "metadata": {},
     "output_type": "display_data"
    },
    {
     "data": {
      "text/html": [
       "<table>\n",
       "<tr><th>ID</th><th>YARN Application ID</th><th>Kind</th><th>State</th><th>Spark UI</th><th>Driver log</th><th>Current session?</th></tr><tr><td>0</td><td>application_1598201641626_0001</td><td>pyspark</td><td>idle</td><td><a target=\"_blank\" href=\"http://ip-10-0-1-223.us-west-2.compute.internal:20888/proxy/application_1598201641626_0001/\">Link</a></td><td><a target=\"_blank\" href=\"http://ip-10-0-1-176.us-west-2.compute.internal:8042/node/containerlogs/container_1598201641626_0001_01_000001/livy\">Link</a></td><td></td></tr><tr><td>2</td><td>application_1598201641626_0003</td><td>pyspark</td><td>idle</td><td><a target=\"_blank\" href=\"http://ip-10-0-1-223.us-west-2.compute.internal:20888/proxy/application_1598201641626_0003/\">Link</a></td><td><a target=\"_blank\" href=\"http://ip-10-0-1-63.us-west-2.compute.internal:8042/node/containerlogs/container_1598201641626_0003_01_000001/livy\">Link</a></td><td>✔</td></tr></table>"
      ],
      "text/plain": [
       "<IPython.core.display.HTML object>"
      ]
     },
     "metadata": {},
     "output_type": "display_data"
    }
   ],
   "source": [
    "%%info"
   ]
  },
  {
   "cell_type": "code",
   "execution_count": 11,
   "metadata": {
    "ExecuteTime": {
     "end_time": "2020-08-23T23:28:41.358867Z",
     "start_time": "2020-08-23T23:28:41.353867Z"
    }
   },
   "outputs": [
    {
     "data": {
      "text/html": [
       "\n",
       "<table>\n",
       "  <tr>\n",
       "    <th>Magic</th>\n",
       "    <th>Example</th>\n",
       "    <th>Explanation</th>\n",
       "  </tr>\n",
       "  <tr>\n",
       "    <td>info</td>\n",
       "    <td>%%info</td>\n",
       "    <td>Outputs session information for the current Livy endpoint.</td>\n",
       "  </tr>\n",
       "  <tr>\n",
       "    <td>cleanup</td>\n",
       "    <td>%%cleanup -f</td>\n",
       "    <td>Deletes all sessions for the current Livy endpoint, including this notebook's session. The force flag is mandatory.</td>\n",
       "  </tr>\n",
       "  <tr>\n",
       "    <td>delete</td>\n",
       "    <td>%%delete -f -s 0</td>\n",
       "    <td>Deletes a session by number for the current Livy endpoint. Cannot delete this kernel's session.</td>\n",
       "  </tr>\n",
       "  <tr>\n",
       "    <td>logs</td>\n",
       "    <td>%%logs</td>\n",
       "    <td>Outputs the current session's Livy logs.</td>\n",
       "  </tr>\n",
       "  <tr>\n",
       "    <td>configure</td>\n",
       "    <td>%%configure -f<br/>{\"executorMemory\": \"1000M\", \"executorCores\": 4}</td>\n",
       "    <td>Configure the session creation parameters. The force flag is mandatory if a session has already been\n",
       "    created and the session will be dropped and recreated.<br/>Look at <a href=\"https://github.com/cloudera/livy#request-body\">\n",
       "    Livy's POST /sessions Request Body</a> for a list of valid parameters. Parameters must be passed in as a JSON string.</td>\n",
       "  </tr>\n",
       "  <tr>\n",
       "    <td>spark</td>\n",
       "    <td>%%spark -o df<br/>df = spark.read.parquet('...</td>\n",
       "    <td>Executes spark commands.\n",
       "    Parameters:\n",
       "      <ul>\n",
       "        <li>-o VAR_NAME: The Spark dataframe of name VAR_NAME will be available in the %%local Python context as a\n",
       "          <a href=\"http://pandas.pydata.org/\">Pandas</a> dataframe with the same name.</li>\n",
       "        <li>-m METHOD: Sample method, either <tt>take</tt> or <tt>sample</tt>.</li>\n",
       "        <li>-n MAXROWS: The maximum number of rows of a dataframe that will be pulled from Livy to Jupyter.\n",
       "            If this number is negative, then the number of rows will be unlimited.</li>\n",
       "        <li>-r FRACTION: Fraction used for sampling.</li>\n",
       "      </ul>\n",
       "    </td>\n",
       "  </tr>\n",
       "  <tr>\n",
       "    <td>sql</td>\n",
       "    <td>%%sql -o tables -q<br/>SHOW TABLES</td>\n",
       "    <td>Executes a SQL query against the variable sqlContext (Spark v1.x) or spark (Spark v2.x).\n",
       "    Parameters:\n",
       "      <ul>\n",
       "        <li>-o VAR_NAME: The result of the SQL query will be available in the %%local Python context as a\n",
       "          <a href=\"http://pandas.pydata.org/\">Pandas</a> dataframe.</li>\n",
       "        <li>-q: The magic will return None instead of the dataframe (no visualization).</li>\n",
       "        <li>-m, -n, -r are the same as the %%spark parameters above.</li>\n",
       "      </ul>\n",
       "    </td>\n",
       "  </tr>\n",
       "  <tr>\n",
       "    <td>local</td>\n",
       "    <td>%%local<br/>a = 1</td>\n",
       "    <td>All the code in subsequent lines will be executed locally. Code must be valid Python code.</td>\n",
       "  </tr>\n",
       "  <tr>\n",
       "    <td>send_to_spark</td>\n",
       "    <td>%%send_to_spark -o variable -t str -n var</td>\n",
       "    <td>Sends a variable from local output to spark cluster.\n",
       "    <br/>\n",
       "    Parameters:\n",
       "      <ul>\n",
       "        <li>-i VAR_NAME: Local Pandas DataFrame(or String) of name VAR_NAME will be available in the %%spark context as a \n",
       "          Spark dataframe(or String) with the same name.</li>\n",
       "        <li>-t TYPE: Specifies the type of variable passed as -i. Available options are:\n",
       "         `str` for string and `df` for Pandas DataFrame. Optional, defaults to `str`.</li>\n",
       "        <li>-n NAME: Custom name of variable passed as -i. Optional, defaults to -i variable name.</li>\n",
       "        <li>-m MAXROWS: Maximum amount of Pandas rows that will be sent to Spark. Defaults to 2500.</li>\n",
       "      </ul>\n",
       "    </td>\n",
       "  </tr>\n",
       "</table>\n"
      ],
      "text/plain": [
       "<IPython.core.display.HTML object>"
      ]
     },
     "metadata": {},
     "output_type": "display_data"
    }
   ],
   "source": [
    "%%help"
   ]
  }
 ],
 "metadata": {
  "kernelspec": {
   "display_name": "PySpark",
   "language": "",
   "name": "pysparkkernel"
  },
  "language_info": {
   "codemirror_mode": {
    "name": "python",
    "version": 3
   },
   "mimetype": "text/x-python",
   "name": "pyspark",
   "pygments_lexer": "python3"
  }
 },
 "nbformat": 4,
 "nbformat_minor": 4
}
